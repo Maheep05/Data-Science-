{
 "cells": [
  {
   "cell_type": "markdown",
   "id": "0cd30b1b-3598-4e78-8a8a-0ced53084b57",
   "metadata": {},
   "source": [
    "# File Handling"
   ]
  },
  {
   "cell_type": "code",
   "execution_count": 1,
   "id": "946f6c2a-9c16-4e64-82d6-ef362123c3eb",
   "metadata": {},
   "outputs": [],
   "source": [
    "f= open(\"test.txt\" ,'a')"
   ]
  },
  {
   "cell_type": "code",
   "execution_count": 2,
   "id": "3f82fd6a-7aef-4f4d-a36f-3dd4fe29774a",
   "metadata": {},
   "outputs": [
    {
     "data": {
      "text/plain": [
       "'/home/jovyan/work'"
      ]
     },
     "execution_count": 2,
     "metadata": {},
     "output_type": "execute_result"
    }
   ],
   "source": [
    "pwd"
   ]
  },
  {
   "cell_type": "code",
   "execution_count": 3,
   "id": "9107c02e-a72f-4d55-961e-36ecfcf4a4d8",
   "metadata": {},
   "outputs": [
    {
     "name": "stdout",
     "output_type": "stream",
     "text": [
      " Assignment-1.ipynb                 'Day-6(FUnctions).ipynb'\n",
      "'Assignment - 2.ipynb'              'Day-7(Lambda Functions).ipynb'\n",
      "'Assignment - 3.ipynb'              'Day-8(Basics of OOPs).ipynb'\n",
      " Assignment4Functions.ipynb         'Day-9(OOPs).ipynb'\n",
      " Assignment4.ipynb                   README.md\n",
      " Assignment-5.ipynb                  sample-code.ipynb\n",
      " Assignment6.ipynb                   Task1.ipynb\n",
      " Assignment-7.ipynb                  \u001b[0m\u001b[01;34mtest1\u001b[0m/\n",
      "'Day-10(Decorators).ipynb'           Test1\n",
      "'Day-10(FIles).ipynb'                Test.bin\n",
      "'Day1 -Data Science MAsters.ipynb'   Test.csv\n",
      " Day-2.ipynb                         Test.json\n",
      " Day-3.ipynb                         test.log\n",
      "'Day4 StringsList.ipynb'             test.txt\n",
      "'Day-5(Tuples,Dictionaries).ipynb'   Test.txt\n"
     ]
    }
   ],
   "source": [
    "ls"
   ]
  },
  {
   "cell_type": "code",
   "execution_count": 4,
   "id": "2359d3a1-1212-4de8-824f-e4f3c4bfe68e",
   "metadata": {},
   "outputs": [
    {
     "data": {
      "text/plain": [
       "46"
      ]
     },
     "execution_count": 4,
     "metadata": {},
     "output_type": "execute_result"
    }
   ],
   "source": [
    "f.write(\"This is my first operation in the created file\")"
   ]
  },
  {
   "cell_type": "code",
   "execution_count": 5,
   "id": "1b0d50cc-bb8a-434c-ba9d-e3616f18728b",
   "metadata": {},
   "outputs": [],
   "source": [
    "f.close()"
   ]
  },
  {
   "cell_type": "code",
   "execution_count": 6,
   "id": "b55a6d83-c01b-44d9-b609-f25ab9703b0b",
   "metadata": {},
   "outputs": [],
   "source": [
    "data = open(\"test.txt\" , \"r\")"
   ]
  },
  {
   "cell_type": "code",
   "execution_count": 7,
   "id": "be1cebfc-2cb5-4a4c-9b73-5aa69682cd0b",
   "metadata": {},
   "outputs": [
    {
     "data": {
      "text/plain": [
       "'This is my first operation in the created file'"
      ]
     },
     "execution_count": 7,
     "metadata": {},
     "output_type": "execute_result"
    }
   ],
   "source": [
    "data.read()"
   ]
  },
  {
   "cell_type": "code",
   "execution_count": 8,
   "id": "ab99057e-1600-4c97-9b5a-6c5a47d4429c",
   "metadata": {},
   "outputs": [
    {
     "data": {
      "text/plain": [
       "''"
      ]
     },
     "execution_count": 8,
     "metadata": {},
     "output_type": "execute_result"
    }
   ],
   "source": [
    "data.read()"
   ]
  },
  {
   "cell_type": "code",
   "execution_count": 9,
   "id": "31d54696-61f1-4283-bfd7-7064e8964d5f",
   "metadata": {},
   "outputs": [
    {
     "data": {
      "text/plain": [
       "2"
      ]
     },
     "execution_count": 9,
     "metadata": {},
     "output_type": "execute_result"
    }
   ],
   "source": [
    "data.seek(2)"
   ]
  },
  {
   "cell_type": "code",
   "execution_count": 10,
   "id": "49fc2abf-168f-4c71-a8de-a98420bb1f86",
   "metadata": {},
   "outputs": [
    {
     "data": {
      "text/plain": [
       "'is is my first operation in the created file'"
      ]
     },
     "execution_count": 10,
     "metadata": {},
     "output_type": "execute_result"
    }
   ],
   "source": [
    "data.read()"
   ]
  },
  {
   "cell_type": "code",
   "execution_count": 11,
   "id": "b5b1f1c6-9363-48ad-95dd-8c733ffee6db",
   "metadata": {},
   "outputs": [],
   "source": [
    "import os"
   ]
  },
  {
   "cell_type": "code",
   "execution_count": 12,
   "id": "56378044-0374-431a-a484-81393e8bbc8a",
   "metadata": {},
   "outputs": [
    {
     "data": {
      "text/plain": [
       "46"
      ]
     },
     "execution_count": 12,
     "metadata": {},
     "output_type": "execute_result"
    }
   ],
   "source": [
    "os.path.getsize(\"test.txt\")"
   ]
  },
  {
   "cell_type": "code",
   "execution_count": 13,
   "id": "b943f07d-52a9-4e31-89de-38a50d04b04e",
   "metadata": {},
   "outputs": [],
   "source": [
    "import shutil"
   ]
  },
  {
   "cell_type": "code",
   "execution_count": 14,
   "id": "a4719a6d-8c50-4dd0-8f10-7cb31f30f143",
   "metadata": {},
   "outputs": [
    {
     "data": {
      "text/plain": [
       "'NewTest.txt'"
      ]
     },
     "execution_count": 14,
     "metadata": {},
     "output_type": "execute_result"
    }
   ],
   "source": [
    "shutil.copy(\"test.txt\",\"NewTest.txt\")"
   ]
  },
  {
   "cell_type": "code",
   "execution_count": 15,
   "id": "9347c817-a8a9-4100-8a03-45a0bdd94811",
   "metadata": {},
   "outputs": [],
   "source": [
    "os.remove(\"test.txt\")"
   ]
  },
  {
   "cell_type": "code",
   "execution_count": 16,
   "id": "efdf6201-2a35-41cc-b092-d61653b5b246",
   "metadata": {},
   "outputs": [
    {
     "name": "stdout",
     "output_type": "stream",
     "text": [
      "This is my first operation in the created file\n"
     ]
    }
   ],
   "source": [
    "with open (\"NewTest.txt\" , \"r\") as f :\n",
    "    print(f.read())"
   ]
  },
  {
   "cell_type": "code",
   "execution_count": 17,
   "id": "39b6c949-f29f-4978-9d04-cb03c616e124",
   "metadata": {},
   "outputs": [],
   "source": [
    "os.rename(\"NewTest.txt\" , \"Test1\")"
   ]
  },
  {
   "cell_type": "markdown",
   "id": "a90ba2ce-5305-4092-9e55-1bea9f0bef8e",
   "metadata": {},
   "source": [
    "# Reading & Writing in Files"
   ]
  },
  {
   "cell_type": "code",
   "execution_count": 18,
   "id": "3646a526-d89d-44f1-a2f3-9fcdc4b654cf",
   "metadata": {},
   "outputs": [],
   "source": [
    "data = { \"name\" : \"Maheep\",\"mail\" : \"maheep@mail\",\"number\":\"123456\",\"subject\":[\"data science\",\"data cleaning\",\"pythion\"]}"
   ]
  },
  {
   "cell_type": "code",
   "execution_count": 19,
   "id": "23eaff51-3c98-4405-973c-d31c16681dde",
   "metadata": {},
   "outputs": [],
   "source": [
    "import json"
   ]
  },
  {
   "cell_type": "code",
   "execution_count": 20,
   "id": "a95941cf-28e6-4746-8dc1-d93a526017e8",
   "metadata": {},
   "outputs": [],
   "source": [
    "with open(\"Test.json\" , \"w\") as f:\n",
    "    json.dump(data,f)"
   ]
  },
  {
   "cell_type": "code",
   "execution_count": 21,
   "id": "1b29fb72-2b1b-4577-84ee-52431c57de95",
   "metadata": {},
   "outputs": [],
   "source": [
    "with open(\"Test.json\" , \"r\") as f:\n",
    "    data1 = json.load(f)"
   ]
  },
  {
   "cell_type": "code",
   "execution_count": 22,
   "id": "c6d2456b-1350-4df6-b7f8-1b0485f756cc",
   "metadata": {},
   "outputs": [
    {
     "data": {
      "text/plain": [
       "{'name': 'Maheep',\n",
       " 'mail': 'maheep@mail',\n",
       " 'number': '123456',\n",
       " 'subject': ['data science', 'data cleaning', 'pythion']}"
      ]
     },
     "execution_count": 22,
     "metadata": {},
     "output_type": "execute_result"
    }
   ],
   "source": [
    "data1"
   ]
  },
  {
   "cell_type": "code",
   "execution_count": 23,
   "id": "6edd0840-efdd-433a-a6df-cca39fb87afc",
   "metadata": {},
   "outputs": [
    {
     "data": {
      "text/plain": [
       "'data cleaning'"
      ]
     },
     "execution_count": 23,
     "metadata": {},
     "output_type": "execute_result"
    }
   ],
   "source": [
    "data1[\"subject\"][1]"
   ]
  },
  {
   "cell_type": "code",
   "execution_count": 24,
   "id": "1d4532f4-4a2d-4923-811c-b9e181f39cf1",
   "metadata": {},
   "outputs": [],
   "source": [
    "data = [[\"name\" , \"mail\" , \"number\"]\n",
    "        ,[\"maheep\",\"maheep@mail.com\",\"123456\"]\n",
    "        ,[\"hello\",\"hello@mail.com\",\"1234567\"]\n",
    "        ,[\"hey\",\"hey@mail.com\",\"345678\"]]"
   ]
  },
  {
   "cell_type": "code",
   "execution_count": 25,
   "id": "e49c07d2-1004-42c2-81f7-0e089b96563a",
   "metadata": {},
   "outputs": [],
   "source": [
    "import csv"
   ]
  },
  {
   "cell_type": "code",
   "execution_count": 26,
   "id": "0e286a94-a2df-4cce-bff4-9475b6735f05",
   "metadata": {},
   "outputs": [],
   "source": [
    "with open(\"Test.csv\",\"w\") as f:\n",
    "    w = csv.writer(f)\n",
    "    for i in data :\n",
    "        w.writerow(i)"
   ]
  },
  {
   "cell_type": "code",
   "execution_count": 27,
   "id": "18dc4bfe-229e-4f01-a6a6-7a5f6f9b6b2f",
   "metadata": {},
   "outputs": [
    {
     "name": "stdout",
     "output_type": "stream",
     "text": [
      "['name', 'mail', 'number']\n",
      "['maheep', 'maheep@mail.com', '123456']\n",
      "['hello', 'hello@mail.com', '1234567']\n",
      "['hey', 'hey@mail.com', '345678']\n"
     ]
    }
   ],
   "source": [
    "with open(\"Test.csv\",\"r\") as f:\n",
    "    read = csv.reader(f)\n",
    "    for i in read:\n",
    "        print(i)"
   ]
  },
  {
   "cell_type": "code",
   "execution_count": 28,
   "id": "89edc98b-7458-474a-ba64-9b38bd1812b4",
   "metadata": {},
   "outputs": [],
   "source": [
    "with open(\"Test.bin\" , \"wb\") as f:\n",
    "    f.write(b\"\\x01\\x02\\x03\")"
   ]
  },
  {
   "cell_type": "code",
   "execution_count": 29,
   "id": "147e8c4f-c0a0-473a-b98c-e1c72551f403",
   "metadata": {},
   "outputs": [
    {
     "name": "stdout",
     "output_type": "stream",
     "text": [
      "b'\\x01\\x02\\x03'\n"
     ]
    }
   ],
   "source": [
    "with open(\"Test.bin\" , \"rb\") as f:\n",
    "    print(f.read())"
   ]
  },
  {
   "cell_type": "markdown",
   "id": "1a57559e-9d54-4782-b429-bdcb4762de73",
   "metadata": {},
   "source": [
    "# Buffer Read and Write & Other File Methods"
   ]
  },
  {
   "cell_type": "code",
   "execution_count": 30,
   "id": "8f7961ac-e335-4eab-a857-c2c0d6501ae9",
   "metadata": {},
   "outputs": [],
   "source": [
    "import io"
   ]
  },
  {
   "cell_type": "code",
   "execution_count": 31,
   "id": "d762e3f4-7cef-4f6c-951f-3cabb457d67a",
   "metadata": {},
   "outputs": [],
   "source": [
    "with open(\"Test.txt\" , \"wb\") as f:\n",
    "    file = io.BufferedWriter(f)\n",
    "    file.write(b\"This is my buffer write\\n\")\n",
    "    file.write(b\"Thisis my second line that i m trying to write\")\n",
    "    file.flush()"
   ]
  },
  {
   "cell_type": "code",
   "execution_count": 32,
   "id": "c2ea5874-c318-42e3-9ef0-453f24f7a8c5",
   "metadata": {},
   "outputs": [
    {
     "name": "stdout",
     "output_type": "stream",
     "text": [
      "b'This is my buffer write\\nThisis my second line that i m trying to write'\n"
     ]
    }
   ],
   "source": [
    "with open(\"Test.txt\" , \"rb\") as f:\n",
    "    file = io.BufferedReader(f)\n",
    "    data = file.read()\n",
    "    print(data)"
   ]
  },
  {
   "cell_type": "markdown",
   "id": "0f4579d9-e4bf-4c85-bf43-ab04c6c551e0",
   "metadata": {},
   "source": [
    "# Logging & Debuggger"
   ]
  },
  {
   "cell_type": "code",
   "execution_count": 33,
   "id": "f2d60677-11a4-4d0b-bbb0-b01ec4c62f69",
   "metadata": {},
   "outputs": [
    {
     "name": "stdout",
     "output_type": "stream",
     "text": [
      "THis is my print statement\n"
     ]
    }
   ],
   "source": [
    "print(\"THis is my print statement\")"
   ]
  },
  {
   "cell_type": "code",
   "execution_count": 34,
   "id": "93b9a71c-a4b8-4e4c-838f-3b38068e8c44",
   "metadata": {},
   "outputs": [],
   "source": [
    "import logging"
   ]
  },
  {
   "cell_type": "code",
   "execution_count": 35,
   "id": "7d1f3f87-77fa-41f8-b2f1-a44d324a5062",
   "metadata": {},
   "outputs": [],
   "source": [
    "logging.basicConfig(filename = \"test.log\" , level = logging.INFO)"
   ]
  },
  {
   "cell_type": "code",
   "execution_count": 36,
   "id": "039713eb-a5ea-4681-b1ce-61b6c30b223e",
   "metadata": {},
   "outputs": [],
   "source": [
    "logging.info(\"This is my line of execution\")"
   ]
  },
  {
   "cell_type": "code",
   "execution_count": 37,
   "id": "26be95a7-f7cf-4933-8cd0-b522e07bdaaa",
   "metadata": {},
   "outputs": [],
   "source": [
    "logging.error(\"This is my line of error\")"
   ]
  },
  {
   "cell_type": "code",
   "execution_count": 38,
   "id": "8b1cfb83-9023-4b13-9506-c6428da2769b",
   "metadata": {},
   "outputs": [],
   "source": [
    "logging.critical(\"This is my line of critical\")"
   ]
  },
  {
   "cell_type": "markdown",
   "id": "3994440d-e44f-4061-873e-f0131ec02898",
   "metadata": {},
   "source": [
    "* heirarchy of execution\n",
    "1. NOSET\n",
    "2. DEBUG\n",
    "3. INFO\n",
    "4. WARNING\n",
    "5. ERROR\n",
    "6. CRITICAL"
   ]
  },
  {
   "cell_type": "code",
   "execution_count": 39,
   "id": "b5572306-49be-4ba8-b9a1-8579f7206f8a",
   "metadata": {},
   "outputs": [],
   "source": [
    "logging.warning(\"This is my line of waring\")"
   ]
  },
  {
   "cell_type": "code",
   "execution_count": 40,
   "id": "59db83e4-7913-4626-adf0-7a2b89e22c86",
   "metadata": {},
   "outputs": [],
   "source": [
    "logging.shutdown()"
   ]
  },
  {
   "cell_type": "code",
   "execution_count": 56,
   "id": "979933b3-8511-4d99-9986-4ca33967c153",
   "metadata": {},
   "outputs": [],
   "source": [
    "logging.basicConfig(filename = \"TEst.log\" , level = logging.DEBUG , format = '%(asctime)s %(message)s')"
   ]
  },
  {
   "cell_type": "code",
   "execution_count": 57,
   "id": "047a98d3-19d1-4f6e-9b10-181445fe7c5d",
   "metadata": {},
   "outputs": [],
   "source": [
    "logging.info(\"This is my info\")"
   ]
  },
  {
   "cell_type": "code",
   "execution_count": 58,
   "id": "cec251c2-5641-4e4d-ac3c-4e6b5e0d0e91",
   "metadata": {},
   "outputs": [],
   "source": [
    "logging.debug(\"thisis my debug\")"
   ]
  },
  {
   "cell_type": "code",
   "execution_count": 59,
   "id": "7c7ea7cb-d731-40f0-b8b2-231b7c991078",
   "metadata": {},
   "outputs": [],
   "source": [
    "logging.shutdown()"
   ]
  },
  {
   "cell_type": "code",
   "execution_count": 60,
   "id": "fb5b1ac2-a705-46b3-bea2-a2394d49c4c4",
   "metadata": {},
   "outputs": [],
   "source": [
    "logging.basicConfig(filename = \"TEst1.txt\" , level = logging.DEBUG , format = '%(asctime)s %(name)s %(levelname)s %(message)s')"
   ]
  },
  {
   "cell_type": "code",
   "execution_count": 61,
   "id": "762c9bf9-8cdf-4442-87e6-61ee95e95e56",
   "metadata": {},
   "outputs": [],
   "source": [
    "logging.info(\"This is my info\")"
   ]
  },
  {
   "cell_type": "code",
   "execution_count": 62,
   "id": "89fad40a-c09c-437f-9b76-b72ff59bffd9",
   "metadata": {},
   "outputs": [],
   "source": [
    "l = [1,2,3,4,5,6,[1,2,3,4]],\"hello\",\"world\""
   ]
  },
  {
   "cell_type": "code",
   "execution_count": 63,
   "id": "d81079ba-d57a-4e65-8711-4936c157a9e0",
   "metadata": {},
   "outputs": [],
   "source": [
    "ListInt = []\n",
    "ListStr = []\n",
    "for i in l:\n",
    "    logging.info(\"This is my start of my first for loop {}\".format(l))\n",
    "    logging.info(\"This is the value of i i am logging {}\".format(i))\n",
    "    if type(i) == list:\n",
    "        for j in i :\n",
    "            logging.info(\"logging my j is {j} and i is {i}\".format(i = i,j = j))\n",
    "            if type(j) == int:\n",
    "                ListInt.append(j)\n",
    "    elif type(i) == int:\n",
    "        ListInt.append(i)\n",
    "    \n",
    "    else :\n",
    "        if type(i) == str:\n",
    "            ListStr.append(i)"
   ]
  },
  {
   "cell_type": "code",
   "execution_count": 64,
   "id": "e6f1ecee-5258-42ac-99d8-6b06112b75be",
   "metadata": {},
   "outputs": [
    {
     "data": {
      "text/plain": [
       "[1, 2, 3, 4, 5, 6]"
      ]
     },
     "execution_count": 64,
     "metadata": {},
     "output_type": "execute_result"
    }
   ],
   "source": [
    "ListInt"
   ]
  },
  {
   "cell_type": "code",
   "execution_count": 65,
   "id": "5fce284c-caed-461d-96cf-51b1c4b840ea",
   "metadata": {},
   "outputs": [
    {
     "data": {
      "text/plain": [
       "['hello', 'world']"
      ]
     },
     "execution_count": 65,
     "metadata": {},
     "output_type": "execute_result"
    }
   ],
   "source": [
    "ListStr"
   ]
  },
  {
   "cell_type": "markdown",
   "id": "0ff65495-68c5-4781-8427-de7efa4296cb",
   "metadata": {},
   "source": [
    "# Modules & Import Statements"
   ]
  },
  {
   "cell_type": "code",
   "execution_count": null,
   "id": "e7e9bf88-c6ae-4827-b47e-ff79160b0f3a",
   "metadata": {},
   "outputs": [],
   "source": []
  }
 ],
 "metadata": {
  "kernelspec": {
   "display_name": "Python 3 (ipykernel)",
   "language": "python",
   "name": "python3"
  },
  "language_info": {
   "codemirror_mode": {
    "name": "ipython",
    "version": 3
   },
   "file_extension": ".py",
   "mimetype": "text/x-python",
   "name": "python",
   "nbconvert_exporter": "python",
   "pygments_lexer": "ipython3",
   "version": "3.10.8"
  }
 },
 "nbformat": 4,
 "nbformat_minor": 5
}
