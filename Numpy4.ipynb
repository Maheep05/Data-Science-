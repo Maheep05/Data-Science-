{
 "cells": [
  {
   "cell_type": "code",
   "execution_count": 1,
   "id": "e01abc26-6622-44c7-80b1-399268cbf25a",
   "metadata": {},
   "outputs": [],
   "source": [
    "#Sort,Search & Counting Functions"
   ]
  },
  {
   "cell_type": "code",
   "execution_count": 2,
   "id": "88377862-0d11-49d9-87ad-9dd3cc325db7",
   "metadata": {},
   "outputs": [],
   "source": [
    "import numpy as np"
   ]
  },
  {
   "cell_type": "code",
   "execution_count": 15,
   "id": "204b9f0c-b2cf-4852-bc2b-5f85a88b450d",
   "metadata": {},
   "outputs": [],
   "source": [
    "arr = np.array([5,3,2,7,5,2])"
   ]
  },
  {
   "cell_type": "code",
   "execution_count": 16,
   "id": "5952d9b9-9693-43cb-89f7-6cb9338410b9",
   "metadata": {},
   "outputs": [
    {
     "data": {
      "text/plain": [
       "array([5, 3, 2, 7, 5, 2])"
      ]
     },
     "execution_count": 16,
     "metadata": {},
     "output_type": "execute_result"
    }
   ],
   "source": [
    "arr"
   ]
  },
  {
   "cell_type": "code",
   "execution_count": 17,
   "id": "3fce1c0a-b853-49b9-be44-c98dd9a2ec62",
   "metadata": {},
   "outputs": [
    {
     "data": {
      "text/plain": [
       "array([2, 2, 3, 5, 5, 7])"
      ]
     },
     "execution_count": 17,
     "metadata": {},
     "output_type": "execute_result"
    }
   ],
   "source": [
    "np.sort(arr)"
   ]
  },
  {
   "cell_type": "code",
   "execution_count": 18,
   "id": "2aa96942-944d-40bd-960e-e2b96cdf3024",
   "metadata": {},
   "outputs": [
    {
     "data": {
      "text/plain": [
       "3"
      ]
     },
     "execution_count": 18,
     "metadata": {},
     "output_type": "execute_result"
    }
   ],
   "source": [
    "np.searchsorted(arr,6)"
   ]
  },
  {
   "cell_type": "code",
   "execution_count": 22,
   "id": "46197c7e-73ec-42e7-9e13-b48496799576",
   "metadata": {},
   "outputs": [],
   "source": [
    "arr1 = np.array([0,3,6,3,6,8,4,0,0,0,0,4,3,23,5,])"
   ]
  },
  {
   "cell_type": "code",
   "execution_count": 23,
   "id": "12a94d12-993b-4d14-a20b-fafc39aa232c",
   "metadata": {},
   "outputs": [
    {
     "data": {
      "text/plain": [
       "10"
      ]
     },
     "execution_count": 23,
     "metadata": {},
     "output_type": "execute_result"
    }
   ],
   "source": [
    "np.count_nonzero(arr1)"
   ]
  },
  {
   "cell_type": "code",
   "execution_count": 24,
   "id": "f4e72758-62d4-4e0e-899b-ac906e56b0b6",
   "metadata": {},
   "outputs": [
    {
     "data": {
      "text/plain": [
       "(array([ 1,  2,  3,  4,  5,  6, 11, 12, 13, 14]),)"
      ]
     },
     "execution_count": 24,
     "metadata": {},
     "output_type": "execute_result"
    }
   ],
   "source": [
    "np.where(arr1 > 0)"
   ]
  },
  {
   "cell_type": "code",
   "execution_count": 26,
   "id": "92c2d5f4-5998-4986-8420-848b0ddc19d1",
   "metadata": {},
   "outputs": [
    {
     "data": {
      "text/plain": [
       "array([ 3,  6,  3,  6,  8,  4,  4,  3, 23,  5])"
      ]
     },
     "execution_count": 26,
     "metadata": {},
     "output_type": "execute_result"
    }
   ],
   "source": [
    "np.extract(arr1 > 2,arr1)"
   ]
  },
  {
   "cell_type": "code",
   "execution_count": 27,
   "id": "5b61cecf-21d3-49cf-b645-f46bea1a600d",
   "metadata": {},
   "outputs": [],
   "source": [
    "# Numpy - Byte Swapping"
   ]
  },
  {
   "cell_type": "code",
   "execution_count": 28,
   "id": "03c50aa4-c0b5-49ed-91fe-6cbbac905dd4",
   "metadata": {},
   "outputs": [
    {
     "data": {
      "text/plain": [
       "array([ 0,  3,  6,  3,  6,  8,  4,  0,  0,  0,  0,  4,  3, 23,  5])"
      ]
     },
     "execution_count": 28,
     "metadata": {},
     "output_type": "execute_result"
    }
   ],
   "source": [
    "arr1"
   ]
  },
  {
   "cell_type": "code",
   "execution_count": 31,
   "id": "87540087-1baf-4200-9035-2ee53dc5a153",
   "metadata": {},
   "outputs": [
    {
     "data": {
      "text/plain": [
       "array([360287970189639680, 216172782113783808, 144115188075855872,\n",
       "       504403158265495552, 360287970189639680, 144115188075855872])"
      ]
     },
     "execution_count": 31,
     "metadata": {},
     "output_type": "execute_result"
    }
   ],
   "source": [
    "arr.byteswap(True)"
   ]
  },
  {
   "cell_type": "code",
   "execution_count": 32,
   "id": "85b70759-c78f-4fe6-92e2-4c59d0fdc519",
   "metadata": {},
   "outputs": [
    {
     "data": {
      "text/plain": [
       "array([360287970189639680, 216172782113783808, 144115188075855872,\n",
       "       504403158265495552, 360287970189639680, 144115188075855872])"
      ]
     },
     "execution_count": 32,
     "metadata": {},
     "output_type": "execute_result"
    }
   ],
   "source": [
    "arr"
   ]
  },
  {
   "cell_type": "code",
   "execution_count": 33,
   "id": "51adf667-5934-4b9e-a241-e197149b06c2",
   "metadata": {},
   "outputs": [],
   "source": [
    "# Numpy - Copies & Views"
   ]
  },
  {
   "cell_type": "code",
   "execution_count": 34,
   "id": "7d6856dd-0d35-4e88-bfd7-b0b208bedaaf",
   "metadata": {},
   "outputs": [
    {
     "data": {
      "text/plain": [
       "array([360287970189639680, 216172782113783808, 144115188075855872,\n",
       "       504403158265495552, 360287970189639680, 144115188075855872])"
      ]
     },
     "execution_count": 34,
     "metadata": {},
     "output_type": "execute_result"
    }
   ],
   "source": [
    "arr"
   ]
  },
  {
   "cell_type": "code",
   "execution_count": 35,
   "id": "52a201b9-489f-4887-ba8e-ad29f9c113cf",
   "metadata": {},
   "outputs": [
    {
     "data": {
      "text/plain": [
       "array([ 0,  3,  6,  3,  6,  8,  4,  0,  0,  0,  0,  4,  3, 23,  5])"
      ]
     },
     "execution_count": 35,
     "metadata": {},
     "output_type": "execute_result"
    }
   ],
   "source": [
    "arr1"
   ]
  },
  {
   "cell_type": "code",
   "execution_count": 36,
   "id": "d9ac0c3b-fa76-4406-892d-e01e9fc6fab6",
   "metadata": {},
   "outputs": [],
   "source": [
    "a = np.copy(arr1)"
   ]
  },
  {
   "cell_type": "code",
   "execution_count": 37,
   "id": "c992cbcf-4334-4e49-9715-afa0fc55e0b9",
   "metadata": {},
   "outputs": [
    {
     "data": {
      "text/plain": [
       "array([ 0,  3,  6,  3,  6,  8,  4,  0,  0,  0,  0,  4,  3, 23,  5])"
      ]
     },
     "execution_count": 37,
     "metadata": {},
     "output_type": "execute_result"
    }
   ],
   "source": [
    "a"
   ]
  },
  {
   "cell_type": "code",
   "execution_count": 38,
   "id": "9d63f6c1-883c-4463-8fc1-d5c0baa582cc",
   "metadata": {},
   "outputs": [],
   "source": [
    "b = arr1.view()"
   ]
  },
  {
   "cell_type": "code",
   "execution_count": 39,
   "id": "595cd36e-9e7f-4644-93da-9757f36dcd28",
   "metadata": {},
   "outputs": [
    {
     "data": {
      "text/plain": [
       "array([ 0,  3,  6,  3,  6,  8,  4,  0,  0,  0,  0,  4,  3, 23,  5])"
      ]
     },
     "execution_count": 39,
     "metadata": {},
     "output_type": "execute_result"
    }
   ],
   "source": [
    "b"
   ]
  },
  {
   "cell_type": "code",
   "execution_count": 40,
   "id": "c027e334-ba82-48cd-8319-e22aa08ad308",
   "metadata": {},
   "outputs": [],
   "source": [
    "b[0] = 234"
   ]
  },
  {
   "cell_type": "code",
   "execution_count": 41,
   "id": "aa2301a5-737a-4226-94aa-12819d06f521",
   "metadata": {},
   "outputs": [
    {
     "data": {
      "text/plain": [
       "array([234,   3,   6,   3,   6,   8,   4,   0,   0,   0,   0,   4,   3,\n",
       "        23,   5])"
      ]
     },
     "execution_count": 41,
     "metadata": {},
     "output_type": "execute_result"
    }
   ],
   "source": [
    "b"
   ]
  },
  {
   "cell_type": "code",
   "execution_count": 42,
   "id": "ca6445de-2a95-410a-8750-285698d415d0",
   "metadata": {},
   "outputs": [
    {
     "data": {
      "text/plain": [
       "array([234,   3,   6,   3,   6,   8,   4,   0,   0,   0,   0,   4,   3,\n",
       "        23,   5])"
      ]
     },
     "execution_count": 42,
     "metadata": {},
     "output_type": "execute_result"
    }
   ],
   "source": [
    "arr1"
   ]
  },
  {
   "cell_type": "code",
   "execution_count": 43,
   "id": "b608782d-3743-4be4-8df6-31ac8485ff4d",
   "metadata": {},
   "outputs": [],
   "source": [
    "# Numpy - Matrix Library"
   ]
  },
  {
   "cell_type": "code",
   "execution_count": 44,
   "id": "3312c130-6ff5-4d79-959d-4eb04f67da31",
   "metadata": {},
   "outputs": [],
   "source": [
    "import numpy.matlib as nm"
   ]
  },
  {
   "cell_type": "code",
   "execution_count": 46,
   "id": "1ef3b53d-137e-499f-8cbf-510c6e7586de",
   "metadata": {},
   "outputs": [
    {
     "data": {
      "text/plain": [
       "matrix([[0., 0., 0., 0., 0.]])"
      ]
     },
     "execution_count": 46,
     "metadata": {},
     "output_type": "execute_result"
    }
   ],
   "source": [
    "nm.zeros(5)"
   ]
  },
  {
   "cell_type": "code",
   "execution_count": 47,
   "id": "f746a352-f6c0-4c6f-86bc-37eca8f2ee0c",
   "metadata": {},
   "outputs": [
    {
     "data": {
      "text/plain": [
       "matrix([[1., 1., 1., 1.],\n",
       "        [1., 1., 1., 1.],\n",
       "        [1., 1., 1., 1.]])"
      ]
     },
     "execution_count": 47,
     "metadata": {},
     "output_type": "execute_result"
    }
   ],
   "source": [
    "nm.ones((3,4))"
   ]
  },
  {
   "cell_type": "code",
   "execution_count": 48,
   "id": "9dae4125-bc10-4c24-bd73-3763e30a7b69",
   "metadata": {},
   "outputs": [
    {
     "data": {
      "text/plain": [
       "matrix([[1., 0., 0., 0.],\n",
       "        [0., 1., 0., 0.],\n",
       "        [0., 0., 1., 0.],\n",
       "        [0., 0., 0., 1.]])"
      ]
     },
     "execution_count": 48,
     "metadata": {},
     "output_type": "execute_result"
    }
   ],
   "source": [
    "nm.eye(4)"
   ]
  },
  {
   "cell_type": "code",
   "execution_count": 50,
   "id": "a9234f1d-dae7-4bc4-879a-d4a85a74f8fa",
   "metadata": {},
   "outputs": [],
   "source": [
    "#Numpy - Linear Algebra"
   ]
  },
  {
   "cell_type": "code",
   "execution_count": 53,
   "id": "3b0ca382-a712-4b15-9c37-b5b74d510f91",
   "metadata": {},
   "outputs": [],
   "source": [
    "arr1 = np.random.randint([[2,3],[4,5]])"
   ]
  },
  {
   "cell_type": "code",
   "execution_count": 54,
   "id": "241d5c5c-8d81-482c-9a6f-d66d2a80790b",
   "metadata": {},
   "outputs": [],
   "source": [
    "arr2 = np.random.randint([[5,3],[2,5]])"
   ]
  },
  {
   "cell_type": "code",
   "execution_count": 55,
   "id": "098d50a5-06ea-4988-971c-5d0f4c18070b",
   "metadata": {},
   "outputs": [
    {
     "data": {
      "text/plain": [
       "array([[0, 0],\n",
       "       [0, 3]])"
      ]
     },
     "execution_count": 55,
     "metadata": {},
     "output_type": "execute_result"
    }
   ],
   "source": [
    "arr1"
   ]
  },
  {
   "cell_type": "code",
   "execution_count": 56,
   "id": "868733d4-17f5-499e-bbf9-288a1a785a54",
   "metadata": {},
   "outputs": [
    {
     "data": {
      "text/plain": [
       "array([[1, 1],\n",
       "       [0, 0]])"
      ]
     },
     "execution_count": 56,
     "metadata": {},
     "output_type": "execute_result"
    }
   ],
   "source": [
    "arr2"
   ]
  },
  {
   "cell_type": "code",
   "execution_count": null,
   "id": "3c5a9076-0a0a-41e4-9162-275c072f587a",
   "metadata": {},
   "outputs": [],
   "source": [
    "np.dot(arr1,arr2)"
   ]
  }
 ],
 "metadata": {
  "kernelspec": {
   "display_name": "Python 3 (ipykernel)",
   "language": "python",
   "name": "python3"
  },
  "language_info": {
   "codemirror_mode": {
    "name": "ipython",
    "version": 3
   },
   "file_extension": ".py",
   "mimetype": "text/x-python",
   "name": "python",
   "nbconvert_exporter": "python",
   "pygments_lexer": "ipython3",
   "version": "3.10.8"
  }
 },
 "nbformat": 4,
 "nbformat_minor": 5
}
