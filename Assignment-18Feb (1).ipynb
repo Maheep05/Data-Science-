{
 "cells": [
  {
   "cell_type": "markdown",
   "id": "0b732462-ebc5-4c8a-9d6d-b3aeffe62601",
   "metadata": {},
   "source": [
    "## 1).API stands for Application Programming Interface. An API is a set of protocols, routines, and tools for building software applications. It specifies how different software components should interact with each other. An example of API usage in real life is when you use a social media application to login into another application. In this case, the second application uses the social media application's API to verify your identity and log you in."
   ]
  },
  {
   "cell_type": "markdown",
   "id": "a527d001-2c93-4d5f-bc61-569cc7afd79e",
   "metadata": {},
   "source": [
    "## 2).Advantages of using APIs include:\n",
    "\n",
    "* Improved efficiency and productivity\n",
    "* Reduced development time and cost\n",
    "* Improved scalability and flexibility\n",
    "* Integration with other applications and services\n",
    "* Improved user experience and satisfaction\n",
    "* Disadvantages of using APIs include:\n",
    "\n",
    "* Security risks and vulnerabilities\n",
    "* Complexity and maintenance costs\n",
    "* Limited control over the API provider's service\n",
    "* Dependent on the API provider's availability and reliability"
   ]
  },
  {
   "cell_type": "code",
   "execution_count": null,
   "id": "c6bed342-7ceb-4ec5-9027-74af930d7ec8",
   "metadata": {},
   "outputs": [],
   "source": [
    "3)."
   ]
  }
 ],
 "metadata": {
  "kernelspec": {
   "display_name": "Python 3 (ipykernel)",
   "language": "python",
   "name": "python3"
  },
  "language_info": {
   "codemirror_mode": {
    "name": "ipython",
    "version": 3
   },
   "file_extension": ".py",
   "mimetype": "text/x-python",
   "name": "python",
   "nbconvert_exporter": "python",
   "pygments_lexer": "ipython3",
   "version": "3.10.8"
  }
 },
 "nbformat": 4,
 "nbformat_minor": 5
}
