{
 "cells": [
  {
   "cell_type": "markdown",
   "id": "fade8fb1-224b-4629-a142-bec6149ef4b3",
   "metadata": {},
   "source": [
    "## 1-->In Python, the open() function is used to open a file. It takes two parameters: the name of the file, and the mode in which the file is opened. The different modes of opening a file are:\n",
    "\n",
    "* 'r' (Read Only) : This is the default mode. It is used to only read the file, and it raises an error if the file does not exist.\n",
    "* 'w' (Write Only) : This mode is used to write to a file. If the file already exists, its contents are truncated, and if it does not exist, a new file is created.\n",
    "* 'a' (Append Only) : This mode is used to append to a file. If the file exists, the data is appended to the end of the file, and if it does not exist, a new file is created.\n",
    "* 'x' (Exclusive Creation) : This mode is used to create a new file for writing. If the file already exists, an error is raised.\n",
    "* 'b' (Binary) : This mode is used to open a binary file, such as an image or a video file.\n",
    "* '+' (Read and Write) : This mode is used to open a file for reading and writing."
   ]
  },
  {
   "cell_type": "markdown",
   "id": "a0cee234-44c3-4ba2-902d-379290ef2b16",
   "metadata": {},
   "source": [
    "## 2-->The close() function is used to close a file after it has been used. It is important to close a file because it releases the resources used by the file, and also ensures that any changes made to the file are saved."
   ]
  },
  {
   "cell_type": "markdown",
   "id": "eb34c521-45a3-4e31-a0b2-d76e9e71bed3",
   "metadata": {},
   "source": [
    "# 3-->"
   ]
  },
  {
   "cell_type": "code",
   "execution_count": 5,
   "id": "25f75c9f-5d9a-41ba-8f79-050bde19eee1",
   "metadata": {},
   "outputs": [
    {
     "name": "stdout",
     "output_type": "stream",
     "text": [
      "I want to become a Data Scientist\n"
     ]
    }
   ],
   "source": [
    "# write the content of the file\n",
    "with open(\"file.txt\", \"w\") as f:\n",
    "    f.write(\"I want to become a Data Scientist\")\n",
    "\n",
    "# read the content of the file\n",
    "with open(\"file.txt\", \"r\") as f:\n",
    "    print(f.read())\n"
   ]
  },
  {
   "cell_type": "markdown",
   "id": "949e7178-afde-42d3-a314-ae7f7f3e2c85",
   "metadata": {},
   "source": [
    "## 4-->>"
   ]
  },
  {
   "cell_type": "code",
   "execution_count": 8,
   "id": "69a3607c-b982-4ee0-834e-741369d9defd",
   "metadata": {},
   "outputs": [
    {
     "name": "stdout",
     "output_type": "stream",
     "text": [
      "Hello World\n"
     ]
    }
   ],
   "source": [
    "with open(\"File.txt\", \"w\") as f:\n",
    "    f.write(\"Hello World\")\n",
    "with open(\"File.txt\", \"r\") as f:\n",
    "    print(f.read())\n",
    "    "
   ]
  },
  {
   "cell_type": "code",
   "execution_count": 10,
   "id": "7e925b1b-a40c-4ad1-8185-b3d7f25e39f3",
   "metadata": {},
   "outputs": [
    {
     "name": "stdout",
     "output_type": "stream",
     "text": [
      "I want to become a Data Scientist\n"
     ]
    }
   ],
   "source": [
    "\n",
    "with open(\"file.txt\", \"r\") as f:\n",
    "    line = f.readline()\n",
    "    while line:\n",
    "        print(line)\n",
    "        line = f.readline()"
   ]
  },
  {
   "cell_type": "code",
   "execution_count": 11,
   "id": "c2475ca6-b430-43a1-af46-b6cf46df64cd",
   "metadata": {},
   "outputs": [
    {
     "name": "stdout",
     "output_type": "stream",
     "text": [
      "I want to become a Data Scientist\n"
     ]
    }
   ],
   "source": [
    "\n",
    "with open(\"file.txt\", \"r\") as f:\n",
    "    lines = f.readlines()\n",
    "    for line in lines:\n",
    "        print(line)"
   ]
  },
  {
   "cell_type": "markdown",
   "id": "fdc3422b-ffa1-48cc-83de-c94e2bdc2aa6",
   "metadata": {},
   "source": [
    "## 5-->The with statement is used with open() to ensure that the file is properly closed, even if an error occurs during the execution of the code. This helps to avoid memory leaks and other resource issues."
   ]
  },
  {
   "cell_type": "markdown",
   "id": "0441a017-d7a4-465a-8073-28a5948f687a",
   "metadata": {},
   "source": [
    "### 6-->write(): The write() function is used to write a string to a file. It takes a single"
   ]
  }
 ],
 "metadata": {
  "kernelspec": {
   "display_name": "Python 3 (ipykernel)",
   "language": "python",
   "name": "python3"
  },
  "language_info": {
   "codemirror_mode": {
    "name": "ipython",
    "version": 3
   },
   "file_extension": ".py",
   "mimetype": "text/x-python",
   "name": "python",
   "nbconvert_exporter": "python",
   "pygments_lexer": "ipython3",
   "version": "3.10.8"
  }
 },
 "nbformat": 4,
 "nbformat_minor": 5
}
