{
 "cells": [
  {
   "cell_type": "markdown",
   "id": "99eab5d9-0f08-4981-bf77-37409f23e3ba",
   "metadata": {},
   "source": [
    "## 1-->Program-1"
   ]
  },
  {
   "cell_type": "code",
   "execution_count": 3,
   "id": "e651224d-bd41-46c4-a37d-e6ba10a68003",
   "metadata": {},
   "outputs": [],
   "source": [
    "List1 = [('Sachin Tendulkar', 34357), ('Ricky Ponting', 27483), \n",
    "              ('Jack Kallis', 25534), ('Virat Kohli', 24936)]\n",
    "SortedList = sorted(List1, key=lambda x: x[1])\n"
   ]
  },
  {
   "cell_type": "code",
   "execution_count": 4,
   "id": "9f8b23f9-45dd-4b59-b39c-ea64dd4a4db4",
   "metadata": {},
   "outputs": [
    {
     "name": "stdout",
     "output_type": "stream",
     "text": [
      "[('Virat Kohli', 24936), ('Jack Kallis', 25534), ('Ricky Ponting', 27483), ('Sachin Tendulkar', 34357)]\n"
     ]
    }
   ],
   "source": [
    "print(SortedList)"
   ]
  },
  {
   "cell_type": "markdown",
   "id": "cfd1dfba-4e7d-40c1-992e-6950c9278440",
   "metadata": {},
   "source": [
    "## 2-->Program-2"
   ]
  },
  {
   "cell_type": "code",
   "execution_count": 7,
   "id": "4253f581-4ef9-4845-9bb9-56a0114c657e",
   "metadata": {},
   "outputs": [],
   "source": [
    "numbers = [1, 2, 3, 4, 5, 6, 7, 8, 9, 10]\n",
    "squared_numbers = list(map(lambda x: x**2, numbers))"
   ]
  },
  {
   "cell_type": "code",
   "execution_count": 8,
   "id": "aabfef5b-65bc-40e7-b941-b4fb3dbdd0f4",
   "metadata": {},
   "outputs": [
    {
     "name": "stdout",
     "output_type": "stream",
     "text": [
      "[1, 4, 9, 16, 25, 36, 49, 64, 81, 100]\n"
     ]
    }
   ],
   "source": [
    "print(squared_numbers)"
   ]
  },
  {
   "cell_type": "code",
   "execution_count": null,
   "id": "472a6a19-b54a-4d4a-bfdc-b7f220ff502a",
   "metadata": {},
   "outputs": [],
   "source": [
    "## 1-->Program-3"
   ]
  },
  {
   "cell_type": "code",
   "execution_count": 11,
   "id": "baa3f37f-4449-49c5-bee3-762d01f01ae7",
   "metadata": {},
   "outputs": [],
   "source": [
    "Numbers = [1, 2, 3, 4, 5, 6, 7, 8, 9, 10]\n",
    "Tuples = tuple(map(lambda x: str(x), Numbers))"
   ]
  },
  {
   "cell_type": "code",
   "execution_count": 12,
   "id": "f328b290-b363-4864-b2d6-7a6676f00bf2",
   "metadata": {},
   "outputs": [
    {
     "name": "stdout",
     "output_type": "stream",
     "text": [
      "('1', '2', '3', '4', '5', '6', '7', '8', '9', '10')\n"
     ]
    }
   ],
   "source": [
    "print(Tuples)"
   ]
  },
  {
   "cell_type": "code",
   "execution_count": null,
   "id": "2275db7c-3b4f-4d3c-9d71-9d33c87c4b97",
   "metadata": {},
   "outputs": [],
   "source": []
  },
  {
   "cell_type": "code",
   "execution_count": 13,
   "id": "cd21f27d-832b-4401-b4aa-7a88a762b945",
   "metadata": {},
   "outputs": [],
   "source": [
    "from functools import reduce\n",
    "numbers = [i for i in range(1, 26)]\n",
    "product = reduce(lambda x, y: x*y, numbers)"
   ]
  },
  {
   "cell_type": "code",
   "execution_count": 14,
   "id": "a334c177-b262-4818-a8b6-bc7399c66d4d",
   "metadata": {},
   "outputs": [
    {
     "name": "stdout",
     "output_type": "stream",
     "text": [
      "15511210043330985984000000\n"
     ]
    }
   ],
   "source": [
    "print(product)"
   ]
  },
  {
   "cell_type": "code",
   "execution_count": null,
   "id": "bbd8c838-450a-40b5-81e0-f7674149f323",
   "metadata": {},
   "outputs": [],
   "source": []
  },
  {
   "cell_type": "code",
   "execution_count": 15,
   "id": "517e9424-c743-481b-83f5-bd808d3f82ed",
   "metadata": {},
   "outputs": [],
   "source": [
    "numbers = [2, 3, 6, 9, 27, 60, 90, 120, 55, 46]\n",
    "filtered_numbers = list(filter(lambda x: x%2==0 and x%3==0, numbers))"
   ]
  },
  {
   "cell_type": "code",
   "execution_count": 16,
   "id": "7e95688b-8d85-42c0-8c6d-80514b9257ce",
   "metadata": {},
   "outputs": [
    {
     "name": "stdout",
     "output_type": "stream",
     "text": [
      "[6, 60, 90, 120]\n"
     ]
    }
   ],
   "source": [
    "print(filtered_numbers)"
   ]
  },
  {
   "cell_type": "code",
   "execution_count": null,
   "id": "3d43999d-de7e-45b2-967a-130819b42365",
   "metadata": {},
   "outputs": [],
   "source": []
  },
  {
   "cell_type": "code",
   "execution_count": null,
   "id": "c9a90ce3-6fc1-4fac-b7f2-7ff8b6cb9634",
   "metadata": {},
   "outputs": [],
   "source": []
  }
 ],
 "metadata": {
  "kernelspec": {
   "display_name": "Python 3 (ipykernel)",
   "language": "python",
   "name": "python3"
  },
  "language_info": {
   "codemirror_mode": {
    "name": "ipython",
    "version": 3
   },
   "file_extension": ".py",
   "mimetype": "text/x-python",
   "name": "python",
   "nbconvert_exporter": "python",
   "pygments_lexer": "ipython3",
   "version": "3.10.8"
  }
 },
 "nbformat": 4,
 "nbformat_minor": 5
}
