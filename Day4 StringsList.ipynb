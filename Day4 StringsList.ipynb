{
 "cells": [
  {
   "cell_type": "code",
   "execution_count": 1,
   "id": "d1ccbc99-94a1-43e3-a0c6-fca9998c80e6",
   "metadata": {},
   "outputs": [],
   "source": [
    "name = \"Data Science Masters\""
   ]
  },
  {
   "cell_type": "code",
   "execution_count": 2,
   "id": "e65889de-7209-4c19-b7cb-27e3d8968b4f",
   "metadata": {},
   "outputs": [
    {
     "data": {
      "text/plain": [
       "'dATA sCIENCE mASTERS'"
      ]
     },
     "execution_count": 2,
     "metadata": {},
     "output_type": "execute_result"
    }
   ],
   "source": [
    "name.swapcase()"
   ]
  },
  {
   "cell_type": "code",
   "execution_count": 3,
   "id": "09e3ded9-4ed0-4392-8408-af08612af6d3",
   "metadata": {},
   "outputs": [
    {
     "data": {
      "text/plain": [
       "'Data Science Masters'"
      ]
     },
     "execution_count": 3,
     "metadata": {},
     "output_type": "execute_result"
    }
   ],
   "source": [
    "name.title()"
   ]
  },
  {
   "cell_type": "code",
   "execution_count": 4,
   "id": "29a0b55f-aea4-4db2-91f6-d164660795b4",
   "metadata": {},
   "outputs": [
    {
     "data": {
      "text/plain": [
       "'Data science masters'"
      ]
     },
     "execution_count": 4,
     "metadata": {},
     "output_type": "execute_result"
    }
   ],
   "source": [
    "name.capitalize()"
   ]
  },
  {
   "cell_type": "markdown",
   "id": "b00282ce-c0a5-437e-86fe-c27a3963dc0d",
   "metadata": {},
   "source": [
    "## Reversing the String"
   ]
  },
  {
   "cell_type": "code",
   "execution_count": 5,
   "id": "bfb32069-0c22-4d1f-ac0b-e89cb02c4fd5",
   "metadata": {},
   "outputs": [
    {
     "data": {
      "text/plain": [
       "'sretsaM ecneicS ataD'"
      ]
     },
     "execution_count": 5,
     "metadata": {},
     "output_type": "execute_result"
    }
   ],
   "source": [
    "name[::-1]"
   ]
  },
  {
   "cell_type": "code",
   "execution_count": 6,
   "id": "ccb84246-6191-4bc2-8673-8e336578fb2d",
   "metadata": {},
   "outputs": [
    {
     "data": {
      "text/plain": [
       "'s r e t s a M   e c n e i c S   a t a D'"
      ]
     },
     "execution_count": 6,
     "metadata": {},
     "output_type": "execute_result"
    }
   ],
   "source": [
    "' '.join(reversed(name))"
   ]
  },
  {
   "cell_type": "code",
   "execution_count": 7,
   "id": "39f2a327-8887-4b3e-a295-be9c208a2a36",
   "metadata": {},
   "outputs": [
    {
     "data": {
      "text/plain": [
       "'SMaheepaMaheeplMaheepuMaheepjMaheepa'"
      ]
     },
     "execution_count": 7,
     "metadata": {},
     "output_type": "execute_result"
    }
   ],
   "source": [
    "\"Maheep\".join(\"Saluja\")"
   ]
  },
  {
   "cell_type": "code",
   "execution_count": 8,
   "id": "eda084f8-5a84-4b27-9ccc-66c0481e930d",
   "metadata": {},
   "outputs": [
    {
     "data": {
      "text/plain": [
       "'e d c b a'"
      ]
     },
     "execution_count": 8,
     "metadata": {},
     "output_type": "execute_result"
    }
   ],
   "source": [
    "' '.join(reversed('abcde'))"
   ]
  },
  {
   "cell_type": "code",
   "execution_count": 9,
   "id": "81e7b9cd-9c7c-4585-9c5d-499e617dda66",
   "metadata": {},
   "outputs": [
    {
     "data": {
      "text/plain": [
       "<reversed at 0x7fd34d8d13f0>"
      ]
     },
     "execution_count": 9,
     "metadata": {},
     "output_type": "execute_result"
    }
   ],
   "source": [
    "reversed(name)"
   ]
  },
  {
   "cell_type": "code",
   "execution_count": 10,
   "id": "2c2cb0bf-e256-4055-85e5-cbccdb3061c8",
   "metadata": {},
   "outputs": [
    {
     "data": {
      "text/plain": [
       "['t', 'n', 'a']"
      ]
     },
     "execution_count": 10,
     "metadata": {},
     "output_type": "execute_result"
    }
   ],
   "source": [
    "## TypeCasted\n",
    "list(reversed(\"ant\"))"
   ]
  },
  {
   "cell_type": "code",
   "execution_count": 11,
   "id": "90d1e0a5-fdf9-43bc-b3d4-71d274309647",
   "metadata": {},
   "outputs": [
    {
     "name": "stdout",
     "output_type": "stream",
     "text": [
      "sretsaM ecneicS ataD"
     ]
    }
   ],
   "source": [
    "for i in list(reversed(name)):\n",
    "    print(i,end='')"
   ]
  },
  {
   "cell_type": "markdown",
   "id": "b6863b06-ec20-4b54-95c5-b637aff80d8d",
   "metadata": {},
   "source": [
    "## Removing Characters From The Strings"
   ]
  },
  {
   "cell_type": "code",
   "execution_count": 12,
   "id": "e6e2a55e-c702-4ef4-9bba-7716e8c8e60e",
   "metadata": {},
   "outputs": [
    {
     "data": {
      "text/plain": [
       "'Maheep'"
      ]
     },
     "execution_count": 12,
     "metadata": {},
     "output_type": "execute_result"
    }
   ],
   "source": [
    "string_a = \" Maheep \"\n",
    "string_a.strip(\" \")"
   ]
  },
  {
   "cell_type": "code",
   "execution_count": 13,
   "id": "c0acdeab-2e5f-4fa4-890a-054abcbfed83",
   "metadata": {},
   "outputs": [
    {
     "data": {
      "text/plain": [
       "'Maheep '"
      ]
     },
     "execution_count": 13,
     "metadata": {},
     "output_type": "execute_result"
    }
   ],
   "source": [
    "string_a.lstrip(\" \")"
   ]
  },
  {
   "cell_type": "code",
   "execution_count": 14,
   "id": "a3c1dd54-4abf-40c9-a5d4-0227af4ea004",
   "metadata": {},
   "outputs": [
    {
     "data": {
      "text/plain": [
       "' Maheep'"
      ]
     },
     "execution_count": 14,
     "metadata": {},
     "output_type": "execute_result"
    }
   ],
   "source": [
    "string_a.rstrip(\" \")"
   ]
  },
  {
   "cell_type": "code",
   "execution_count": 15,
   "id": "8ab6b87e-4cb5-4552-8991-654bd8f4bdd7",
   "metadata": {},
   "outputs": [
    {
     "data": {
      "text/plain": [
       "'Greetings from Maheep'"
      ]
     },
     "execution_count": 15,
     "metadata": {},
     "output_type": "execute_result"
    }
   ],
   "source": [
    "string_n = \"Greetings to Maheep\"\n",
    "string_n.replace(\"to\",\"from\")"
   ]
  },
  {
   "cell_type": "code",
   "execution_count": 16,
   "id": "a1003f0f-f475-47dd-8aec-de2fc33dfb80",
   "metadata": {},
   "outputs": [
    {
     "data": {
      "text/plain": [
       "'hello   world'"
      ]
     },
     "execution_count": 16,
     "metadata": {},
     "output_type": "execute_result"
    }
   ],
   "source": [
    "'hello\\tworld'.expandtabs()"
   ]
  },
  {
   "cell_type": "code",
   "execution_count": 17,
   "id": "526d2ce3-7d78-45fd-b9fc-383a8dd1beeb",
   "metadata": {},
   "outputs": [
    {
     "data": {
      "text/plain": [
       "'Welcome to Pwskills .Welcome to Data Science Masters'"
      ]
     },
     "execution_count": 17,
     "metadata": {},
     "output_type": "execute_result"
    }
   ],
   "source": [
    "str1 = \"Welcome to Pwskills .Welcome to Dat cience Masters\"\n",
    "str1.replace(\"Dat\",\"Data\").replace(\"cience\",\"Science\")\n"
   ]
  },
  {
   "cell_type": "code",
   "execution_count": 18,
   "id": "c4be9d4e-0d4c-4a53-b83b-5d0a0f63b97c",
   "metadata": {},
   "outputs": [
    {
     "data": {
      "text/plain": [
       "False"
      ]
     },
     "execution_count": 18,
     "metadata": {},
     "output_type": "execute_result"
    }
   ],
   "source": [
    "str1.isupper()"
   ]
  },
  {
   "cell_type": "code",
   "execution_count": 19,
   "id": "5bc3d17f-a952-4aba-9eb0-f5021587992d",
   "metadata": {},
   "outputs": [
    {
     "data": {
      "text/plain": [
       "True"
      ]
     },
     "execution_count": 19,
     "metadata": {},
     "output_type": "execute_result"
    }
   ],
   "source": [
    "str1='MAHEEP'\n",
    "str1.isupper()"
   ]
  },
  {
   "cell_type": "code",
   "execution_count": 20,
   "id": "9cf08d3f-373b-4275-9e61-71f4e74aee23",
   "metadata": {},
   "outputs": [
    {
     "data": {
      "text/plain": [
       "False"
      ]
     },
     "execution_count": 20,
     "metadata": {},
     "output_type": "execute_result"
    }
   ],
   "source": [
    "str1.islower()"
   ]
  },
  {
   "cell_type": "code",
   "execution_count": 21,
   "id": "d82a150d-1b70-485f-abab-b6760f84e887",
   "metadata": {},
   "outputs": [
    {
     "data": {
      "text/plain": [
       "False"
      ]
     },
     "execution_count": 21,
     "metadata": {},
     "output_type": "execute_result"
    }
   ],
   "source": [
    "str1.isspace()"
   ]
  },
  {
   "cell_type": "code",
   "execution_count": 22,
   "id": "936694fc-cb47-4421-84fd-3733f7fee643",
   "metadata": {},
   "outputs": [
    {
     "data": {
      "text/plain": [
       "True"
      ]
     },
     "execution_count": 22,
     "metadata": {},
     "output_type": "execute_result"
    }
   ],
   "source": [
    "' '.isspace()"
   ]
  },
  {
   "cell_type": "code",
   "execution_count": 23,
   "id": "5fd9a393-06d2-4d91-ae6c-ab107ffa8e44",
   "metadata": {},
   "outputs": [
    {
     "name": "stdout",
     "output_type": "stream",
     "text": [
      "Hello\n"
     ]
    }
   ],
   "source": [
    "if ' '.isspace():\n",
    "    print(\"Hello\")"
   ]
  },
  {
   "cell_type": "code",
   "execution_count": 24,
   "id": "f5630468-4b1a-40d2-a4a0-c0f009bcc8a1",
   "metadata": {},
   "outputs": [
    {
     "name": "stdout",
     "output_type": "stream",
     "text": [
      "BYE\n"
     ]
    }
   ],
   "source": [
    "if str1.isspace():\n",
    "    print(\"Hello\")\n",
    "else:\n",
    "    print(\"BYE\")"
   ]
  },
  {
   "cell_type": "code",
   "execution_count": 25,
   "id": "db3b6d11-7e40-4911-a482-0aed1c0e9e96",
   "metadata": {},
   "outputs": [],
   "source": [
    "str2='pwskills'"
   ]
  },
  {
   "cell_type": "code",
   "execution_count": 26,
   "id": "1ef44a6c-c3cd-433c-ba5e-096a69756209",
   "metadata": {},
   "outputs": [
    {
     "data": {
      "text/plain": [
       "True"
      ]
     },
     "execution_count": 26,
     "metadata": {},
     "output_type": "execute_result"
    }
   ],
   "source": [
    "str2.endswith('s')"
   ]
  },
  {
   "cell_type": "code",
   "execution_count": 27,
   "id": "19bbff57-5207-446e-aa64-1ef3be5dd466",
   "metadata": {},
   "outputs": [
    {
     "data": {
      "text/plain": [
       "True"
      ]
     },
     "execution_count": 27,
     "metadata": {},
     "output_type": "execute_result"
    }
   ],
   "source": [
    "str2.startswith('p')"
   ]
  },
  {
   "cell_type": "code",
   "execution_count": 28,
   "id": "05743834-7214-45d1-9ee9-8ed5caba763d",
   "metadata": {},
   "outputs": [
    {
     "data": {
      "text/plain": [
       "True"
      ]
     },
     "execution_count": 28,
     "metadata": {},
     "output_type": "execute_result"
    }
   ],
   "source": [
    "## CHeck if all the characters in the strings are alphanumeric\n",
    "a = 'abcd1234'\n",
    "a.isalnum()"
   ]
  },
  {
   "cell_type": "code",
   "execution_count": 29,
   "id": "6685ea2e-b4a3-4461-8668-c28290f78a02",
   "metadata": {},
   "outputs": [
    {
     "name": "stdout",
     "output_type": "stream",
     "text": [
      "8\n"
     ]
    }
   ],
   "source": [
    "## To count the numbers of character in the strings\n",
    "c=0\n",
    "for i in str2:\n",
    "    c=c+1\n",
    "print(c)"
   ]
  },
  {
   "cell_type": "code",
   "execution_count": 30,
   "id": "5de79aee-3d59-4154-9d75-c7e73a1536a3",
   "metadata": {},
   "outputs": [
    {
     "data": {
      "text/plain": [
       "8"
      ]
     },
     "execution_count": 30,
     "metadata": {},
     "output_type": "execute_result"
    }
   ],
   "source": [
    "len(str2)"
   ]
  },
  {
   "cell_type": "code",
   "execution_count": 31,
   "id": "c315faa6-11f4-43a9-99b3-ea785c521f9f",
   "metadata": {},
   "outputs": [
    {
     "data": {
      "text/plain": [
       "'pwskills'"
      ]
     },
     "execution_count": 31,
     "metadata": {},
     "output_type": "execute_result"
    }
   ],
   "source": [
    "str2"
   ]
  },
  {
   "cell_type": "code",
   "execution_count": 32,
   "id": "5d4eecda-dfcd-4c27-8ca1-7b4efbf6f773",
   "metadata": {},
   "outputs": [
    {
     "name": "stdout",
     "output_type": "stream",
     "text": [
      "p\n",
      "w\n",
      "s\n",
      "k\n",
      "i\n",
      "l\n",
      "l\n",
      "s\n"
     ]
    }
   ],
   "source": [
    "for i in str2:\n",
    "    print(i)"
   ]
  },
  {
   "cell_type": "code",
   "execution_count": 33,
   "id": "e5e2557a-8aef-4023-a521-dd04d9efbabb",
   "metadata": {},
   "outputs": [
    {
     "name": "stdout",
     "output_type": "stream",
     "text": [
      "0 = p\n",
      "1 = w\n",
      "2 = s\n",
      "3 = k\n",
      "4 = i\n",
      "5 = l\n",
      "6 = l\n",
      "7 = s\n"
     ]
    }
   ],
   "source": [
    "for i in range(len(str2)):\n",
    "    print(i,'=',str2[i])\n",
    "    "
   ]
  },
  {
   "cell_type": "code",
   "execution_count": 34,
   "id": "d30ef1ca-7dd6-4351-a773-ef066bfc4210",
   "metadata": {},
   "outputs": [
    {
     "data": {
      "text/plain": [
       "range(0, 8)"
      ]
     },
     "execution_count": 34,
     "metadata": {},
     "output_type": "execute_result"
    }
   ],
   "source": [
    "range(len(str2))"
   ]
  },
  {
   "cell_type": "code",
   "execution_count": 35,
   "id": "5f3808b8-20a8-4196-b89b-e0c645bd63a3",
   "metadata": {},
   "outputs": [
    {
     "name": "stdout",
     "output_type": "stream",
     "text": [
      "s\n",
      "l\n",
      "l\n",
      "i\n",
      "k\n",
      "s\n",
      "w\n",
      "p\n"
     ]
    }
   ],
   "source": [
    "for i in range(len(str2)-1,-1,-1):\n",
    "    print(str2[i])"
   ]
  },
  {
   "cell_type": "code",
   "execution_count": 36,
   "id": "9f2e78ac-af54-4f96-a640-d0d8bddc1dea",
   "metadata": {},
   "outputs": [
    {
     "name": "stdout",
     "output_type": "stream",
     "text": [
      "s\n",
      "l\n",
      "l\n",
      "i\n",
      "k\n",
      "s\n",
      "w\n",
      "p\n"
     ]
    }
   ],
   "source": [
    "string = 'pwskills'\n",
    "ch = len(string)-1\n",
    "while ch>=0:\n",
    "    print(string[ch])\n",
    "    ch-=1"
   ]
  },
  {
   "cell_type": "code",
   "execution_count": 37,
   "id": "ca7c0d3c-1a83-492e-addb-cdae206f233f",
   "metadata": {},
   "outputs": [
    {
     "name": "stdout",
     "output_type": "stream",
     "text": [
      "sllikswp"
     ]
    }
   ],
   "source": [
    "for i in range(len(string)):\n",
    "    print(string[len(string) - (i+1)],end='')"
   ]
  },
  {
   "cell_type": "code",
   "execution_count": 38,
   "id": "5f76a28e-0e84-4bed-96da-99e44b60d03e",
   "metadata": {},
   "outputs": [
    {
     "name": "stdout",
     "output_type": "stream",
     "text": [
      "p is not a vowel\n",
      "w is not a vowel\n",
      "s is not a vowel\n",
      "k is not a vowel\n",
      "i is a vowel\n",
      "l is not a vowel\n",
      "l is not a vowel\n",
      "s is not a vowel\n"
     ]
    }
   ],
   "source": [
    "Name = 'pwskills'\n",
    "vowels = 'AEIOUaeiou'\n",
    "for ch in Name:\n",
    "    if ch in vowels:\n",
    "        print(\"{} is a vowel\".format(ch))\n",
    "    else:\n",
    "        print(\"{} is not a vowel\".format(ch))"
   ]
  },
  {
   "cell_type": "markdown",
   "id": "533968e7-7a5f-4461-a024-a523e8118714",
   "metadata": {},
   "source": [
    "## List"
   ]
  },
  {
   "cell_type": "code",
   "execution_count": 39,
   "id": "cd2dca93-b0cd-4e60-ae4c-b3e52eb1430a",
   "metadata": {},
   "outputs": [],
   "source": [
    "a = []"
   ]
  },
  {
   "cell_type": "code",
   "execution_count": 40,
   "id": "804aeeb1-098a-4885-ad8e-54466b6277bc",
   "metadata": {},
   "outputs": [
    {
     "data": {
      "text/plain": [
       "list"
      ]
     },
     "execution_count": 40,
     "metadata": {},
     "output_type": "execute_result"
    }
   ],
   "source": [
    "type(a)"
   ]
  },
  {
   "cell_type": "code",
   "execution_count": 41,
   "id": "5be0d1f3-6feb-48dd-ac66-d459a15dfa67",
   "metadata": {},
   "outputs": [
    {
     "data": {
      "text/plain": [
       "['maheep', 'saluja', 'hello', '20']"
      ]
     },
     "execution_count": 41,
     "metadata": {},
     "output_type": "execute_result"
    }
   ],
   "source": [
    "[\"maheep\",\"saluja\",\"hello\",\"20\"]"
   ]
  },
  {
   "cell_type": "code",
   "execution_count": 42,
   "id": "5b2bf987-c6cd-4eb9-9abd-50dba0e494a5",
   "metadata": {},
   "outputs": [
    {
     "data": {
      "text/plain": [
       "[1, 2, 3, 4, 5]"
      ]
     },
     "execution_count": 42,
     "metadata": {},
     "output_type": "execute_result"
    }
   ],
   "source": [
    "list([1,2,3,4,5])"
   ]
  },
  {
   "cell_type": "code",
   "execution_count": 43,
   "id": "2f8d6ca4-be42-4fa5-bb5a-7ee17d5282aa",
   "metadata": {},
   "outputs": [
    {
     "data": {
      "text/plain": [
       "['p', 'w', 's', 'k', 'i', 'l', 'l', 's']"
      ]
     },
     "execution_count": 43,
     "metadata": {},
     "output_type": "execute_result"
    }
   ],
   "source": [
    "list(str2)"
   ]
  },
  {
   "cell_type": "code",
   "execution_count": 44,
   "id": "c86593a1-01d2-43f9-a07b-65ed7cbcfe87",
   "metadata": {},
   "outputs": [],
   "source": [
    "str1 = 'Data Science Masters'\n"
   ]
  },
  {
   "cell_type": "code",
   "execution_count": 45,
   "id": "896741ca-e0b7-4e30-8279-a66e338f593c",
   "metadata": {},
   "outputs": [
    {
     "data": {
      "text/plain": [
       "['Data', 'Science', 'Masters']"
      ]
     },
     "execution_count": 45,
     "metadata": {},
     "output_type": "execute_result"
    }
   ],
   "source": [
    "list(str1.split(\" \"))"
   ]
  },
  {
   "cell_type": "code",
   "execution_count": 46,
   "id": "d4d42b50-b1b6-45b5-9ced-fa2c580894c7",
   "metadata": {},
   "outputs": [],
   "source": [
    "lst1=str1.split(\" \")"
   ]
  },
  {
   "cell_type": "code",
   "execution_count": 47,
   "id": "ad5e47bf-1f9b-481d-9a88-696309add7a7",
   "metadata": {},
   "outputs": [
    {
     "data": {
      "text/plain": [
       "['Science', 'Masters']"
      ]
     },
     "execution_count": 47,
     "metadata": {},
     "output_type": "execute_result"
    }
   ],
   "source": [
    "lst1[1:]"
   ]
  },
  {
   "cell_type": "code",
   "execution_count": 48,
   "id": "d84cb65e-fe23-4e17-a71b-11fd66c6e569",
   "metadata": {},
   "outputs": [
    {
     "data": {
      "text/plain": [
       "['Data', 'Science', 'Masters']"
      ]
     },
     "execution_count": 48,
     "metadata": {},
     "output_type": "execute_result"
    }
   ],
   "source": [
    "lst1"
   ]
  },
  {
   "cell_type": "code",
   "execution_count": 49,
   "id": "7a64d25b-5a31-4466-afa6-12b242be37d7",
   "metadata": {},
   "outputs": [
    {
     "data": {
      "text/plain": [
       "['Masters', 'Science', 'Data']"
      ]
     },
     "execution_count": 49,
     "metadata": {},
     "output_type": "execute_result"
    }
   ],
   "source": [
    "lst1[::-1]"
   ]
  },
  {
   "cell_type": "code",
   "execution_count": 50,
   "id": "6c4cf59d-1497-4dee-9ded-ef888febd21a",
   "metadata": {},
   "outputs": [
    {
     "data": {
      "text/plain": [
       "['Data', 'Science', 'Masters']"
      ]
     },
     "execution_count": 50,
     "metadata": {},
     "output_type": "execute_result"
    }
   ],
   "source": [
    "lst1"
   ]
  },
  {
   "cell_type": "code",
   "execution_count": 51,
   "id": "557460d2-8421-422b-b8c9-cc30102e664e",
   "metadata": {},
   "outputs": [],
   "source": [
    "## Concatenation"
   ]
  },
  {
   "cell_type": "code",
   "execution_count": 52,
   "id": "40c41fc7-2b8b-4079-a485-c67d572c09b1",
   "metadata": {},
   "outputs": [],
   "source": [
    "lst2 =lst1 + [['new element',3]]"
   ]
  },
  {
   "cell_type": "code",
   "execution_count": 53,
   "id": "a9a86161-66a4-4318-a05b-a27497b68ad9",
   "metadata": {},
   "outputs": [
    {
     "data": {
      "text/plain": [
       "'new element'"
      ]
     },
     "execution_count": 53,
     "metadata": {},
     "output_type": "execute_result"
    }
   ],
   "source": [
    "lst2[-1][0]"
   ]
  },
  {
   "cell_type": "code",
   "execution_count": 54,
   "id": "59b175da-68a4-4e73-8a7f-9b260e435a7b",
   "metadata": {},
   "outputs": [
    {
     "data": {
      "text/plain": [
       "['Data', 'Science', 'Masters', 'Data', 'Science', 'Masters']"
      ]
     },
     "execution_count": 54,
     "metadata": {},
     "output_type": "execute_result"
    }
   ],
   "source": [
    "lst1 * 2"
   ]
  },
  {
   "cell_type": "code",
   "execution_count": 70,
   "id": "b63e9674-41c7-453e-ae94-d959246d2f72",
   "metadata": {},
   "outputs": [],
   "source": [
    "if \"science\" in lst1:\n",
    "    print(\"Present\")        "
   ]
  },
  {
   "cell_type": "code",
   "execution_count": 63,
   "id": "36d55648-66c4-4ca7-8f1a-bdfe33a8ad7c",
   "metadata": {},
   "outputs": [],
   "source": [
    "for elements in lst1:\n",
    "    if elements == \"science\":\n",
    "        print(elements)\n",
    "        break"
   ]
  },
  {
   "cell_type": "code",
   "execution_count": 64,
   "id": "10358d3d-f22f-4ac3-9faf-945dacb6c5d1",
   "metadata": {},
   "outputs": [
    {
     "data": {
      "text/plain": [
       "True"
      ]
     },
     "execution_count": 64,
     "metadata": {},
     "output_type": "execute_result"
    }
   ],
   "source": [
    "# check elements inside a list\n",
    "lst = [1,2,3,4]\n",
    "4 in lst"
   ]
  },
  {
   "cell_type": "code",
   "execution_count": 65,
   "id": "264ebbda-3f1b-44c7-a0de-ba0fb30014e3",
   "metadata": {},
   "outputs": [],
   "source": [
    "lst1 = [\"zebra\",\"monkey\",\"lion\",\"donkey\"]\n",
    "lst2 = [5,6,2,9,8,6]"
   ]
  },
  {
   "cell_type": "code",
   "execution_count": 66,
   "id": "1dbdbd02-56aa-4795-821e-60dcd7c25bd6",
   "metadata": {},
   "outputs": [
    {
     "name": "stdout",
     "output_type": "stream",
     "text": [
      "zebra\n",
      "9\n"
     ]
    }
   ],
   "source": [
    "print(max(lst1))\n",
    "print(max(lst2))"
   ]
  },
  {
   "cell_type": "code",
   "execution_count": 67,
   "id": "3d151915-5faa-4cfb-8d6b-ac8576abf773",
   "metadata": {},
   "outputs": [
    {
     "data": {
      "text/plain": [
       "'donkey'"
      ]
     },
     "execution_count": 67,
     "metadata": {},
     "output_type": "execute_result"
    }
   ],
   "source": [
    "min(lst1)"
   ]
  },
  {
   "cell_type": "code",
   "execution_count": 68,
   "id": "f0b2691f-1e65-410e-96b3-678545142d62",
   "metadata": {},
   "outputs": [
    {
     "data": {
      "text/plain": [
       "2"
      ]
     },
     "execution_count": 68,
     "metadata": {},
     "output_type": "execute_result"
    }
   ],
   "source": [
    "min(lst2)"
   ]
  },
  {
   "cell_type": "markdown",
   "id": "249b70ae-163e-4f96-938d-aec4a9ae2072",
   "metadata": {},
   "source": [
    "## Append"
   ]
  },
  {
   "cell_type": "code",
   "execution_count": 108,
   "id": "6177f9d1-a0ad-49fe-b9fa-f4009dd2d3b2",
   "metadata": {},
   "outputs": [],
   "source": [
    "lst = [1,2,3,4,5,6]"
   ]
  },
  {
   "cell_type": "code",
   "execution_count": 109,
   "id": "1ed515b1-235b-4951-97d2-313cc85e55e4",
   "metadata": {},
   "outputs": [],
   "source": [
    "lst.append(\"Hello\")   ##Append is an in place operations"
   ]
  },
  {
   "cell_type": "code",
   "execution_count": 110,
   "id": "2ce90670-ea0c-451b-be7e-7127047f51a3",
   "metadata": {},
   "outputs": [
    {
     "data": {
      "text/plain": [
       "[1, 2, 3, 4, 5, 6, 'Hello']"
      ]
     },
     "execution_count": 110,
     "metadata": {},
     "output_type": "execute_result"
    }
   ],
   "source": [
    "lst"
   ]
  },
  {
   "cell_type": "code",
   "execution_count": 111,
   "id": "f9af4b61-c0e2-41c4-ba51-ea0ee6e7b60c",
   "metadata": {},
   "outputs": [],
   "source": [
    "lst.append([\"Data\",\"Science\",\"Masters\"])"
   ]
  },
  {
   "cell_type": "code",
   "execution_count": 122,
   "id": "ae6e3374-b0a7-4a81-a47d-dee573d412d7",
   "metadata": {},
   "outputs": [
    {
     "data": {
      "text/plain": [
       "[1, 3, 4, 5, 6, 'Hello', ['Data', 'Science', 'Masters']]"
      ]
     },
     "execution_count": 122,
     "metadata": {},
     "output_type": "execute_result"
    }
   ],
   "source": [
    "lst"
   ]
  },
  {
   "cell_type": "code",
   "execution_count": 123,
   "id": "e381bebf-6e70-4881-bc19-976610f2294b",
   "metadata": {},
   "outputs": [
    {
     "ename": "IndexError",
     "evalue": "pop index out of range",
     "output_type": "error",
     "traceback": [
      "\u001b[0;31m---------------------------------------------------------------------------\u001b[0m",
      "\u001b[0;31mIndexError\u001b[0m                                Traceback (most recent call last)",
      "Cell \u001b[0;32mIn[123], line 1\u001b[0m\n\u001b[0;32m----> 1\u001b[0m \u001b[43mlst\u001b[49m\u001b[38;5;241;43m.\u001b[39;49m\u001b[43mpop\u001b[49m\u001b[43m(\u001b[49m\u001b[38;5;241;43m7\u001b[39;49m\u001b[43m)\u001b[49m\n",
      "\u001b[0;31mIndexError\u001b[0m: pop index out of range"
     ]
    }
   ],
   "source": [
    "lst.pop(7)"
   ]
  },
  {
   "cell_type": "code",
   "execution_count": 124,
   "id": "f1055bb7-a3c9-4ada-9618-e50734bc380c",
   "metadata": {},
   "outputs": [],
   "source": [
    "removed_element = lst.pop(1)  ##in place operations"
   ]
  },
  {
   "cell_type": "code",
   "execution_count": 125,
   "id": "701e1493-59ab-455c-be79-0701510bd07c",
   "metadata": {},
   "outputs": [
    {
     "data": {
      "text/plain": [
       "3"
      ]
     },
     "execution_count": 125,
     "metadata": {},
     "output_type": "execute_result"
    }
   ],
   "source": [
    "removed_element"
   ]
  },
  {
   "cell_type": "code",
   "execution_count": 126,
   "id": "c782668f-0344-4ab4-bc02-ee12e623df56",
   "metadata": {},
   "outputs": [],
   "source": [
    "new_list  = ['a','b','c','d','e','f']\n"
   ]
  },
  {
   "cell_type": "code",
   "execution_count": 127,
   "id": "90d35976-3a50-4bfc-b8f0-dc8337fd7bd1",
   "metadata": {},
   "outputs": [
    {
     "data": {
      "text/plain": [
       "['a', 'b', 'c', 'd', 'e', 'f']"
      ]
     },
     "execution_count": 127,
     "metadata": {},
     "output_type": "execute_result"
    }
   ],
   "source": [
    "new_list"
   ]
  },
  {
   "cell_type": "code",
   "execution_count": 128,
   "id": "af10c31e-6c09-462b-a28e-51a63f14662c",
   "metadata": {},
   "outputs": [
    {
     "data": {
      "text/plain": [
       "['f', 'e', 'd', 'c', 'b', 'a']"
      ]
     },
     "execution_count": 128,
     "metadata": {},
     "output_type": "execute_result"
    }
   ],
   "source": [
    "new_list[::-1]"
   ]
  },
  {
   "cell_type": "code",
   "execution_count": 129,
   "id": "77eee9cb-8375-47fe-ae68-a7bd241e8ada",
   "metadata": {},
   "outputs": [],
   "source": [
    "new_list.reverse()"
   ]
  },
  {
   "cell_type": "code",
   "execution_count": 130,
   "id": "6f1fad12-f5e0-42ab-8795-6343d3539e7b",
   "metadata": {},
   "outputs": [
    {
     "data": {
      "text/plain": [
       "['f', 'e', 'd', 'c', 'b', 'a']"
      ]
     },
     "execution_count": 130,
     "metadata": {},
     "output_type": "execute_result"
    }
   ],
   "source": [
    "new_list"
   ]
  },
  {
   "cell_type": "code",
   "execution_count": 131,
   "id": "f2aa7782-8c82-4fa9-bff2-0349e62a0fd8",
   "metadata": {},
   "outputs": [],
   "source": [
    "new_list.sort()"
   ]
  },
  {
   "cell_type": "code",
   "execution_count": 132,
   "id": "c0139daf-a5e4-4d29-b5b9-039fe932ab0d",
   "metadata": {},
   "outputs": [
    {
     "data": {
      "text/plain": [
       "['a', 'b', 'c', 'd', 'e', 'f']"
      ]
     },
     "execution_count": 132,
     "metadata": {},
     "output_type": "execute_result"
    }
   ],
   "source": [
    "new_list"
   ]
  },
  {
   "cell_type": "markdown",
   "id": "46ef5de5-1ff3-4014-bc93-bd2278761b51",
   "metadata": {},
   "source": [
    "## Nested List"
   ]
  },
  {
   "cell_type": "code",
   "execution_count": 140,
   "id": "929dbdd9-ee7d-45ff-943c-e44d1e8e1025",
   "metadata": {},
   "outputs": [],
   "source": [
    "lst = [1,2,3,4,5,6]\n",
    "lst.append(10)"
   ]
  },
  {
   "cell_type": "code",
   "execution_count": 141,
   "id": "f9d6003e-ddc7-4ba5-91d1-8c3254181665",
   "metadata": {},
   "outputs": [
    {
     "data": {
      "text/plain": [
       "[1, 2, 3, 4, 5, 6, 10]"
      ]
     },
     "execution_count": 141,
     "metadata": {},
     "output_type": "execute_result"
    }
   ],
   "source": [
    "lst"
   ]
  },
  {
   "cell_type": "code",
   "execution_count": 142,
   "id": "f645e283-6540-458f-a121-37b7b70a5b99",
   "metadata": {},
   "outputs": [],
   "source": [
    "# lst.append([\"Hello\",\"World\"])"
   ]
  },
  {
   "cell_type": "code",
   "execution_count": 143,
   "id": "c5d7d82e-9f07-48e2-9642-6b7a635fddad",
   "metadata": {},
   "outputs": [],
   "source": [
    "lst.extend([\"Hello\",\"World\"])"
   ]
  },
  {
   "cell_type": "code",
   "execution_count": 144,
   "id": "d3fede94-6834-4305-8731-4b06847af60c",
   "metadata": {},
   "outputs": [
    {
     "data": {
      "text/plain": [
       "[1, 2, 3, 4, 5, 6, 10, 'Hello', 'World']"
      ]
     },
     "execution_count": 144,
     "metadata": {},
     "output_type": "execute_result"
    }
   ],
   "source": [
    "lst"
   ]
  },
  {
   "cell_type": "code",
   "execution_count": 146,
   "id": "7ae708a6-89fc-49c5-bb19-369038c9c806",
   "metadata": {},
   "outputs": [],
   "source": [
    "lst1 = [1,2,3]\n",
    "lst2 = [4,5,6]\n",
    "lst3 = [7,8,9]\n",
    "\n",
    "matrix = [lst1,lst2,lst3]"
   ]
  },
  {
   "cell_type": "code",
   "execution_count": 147,
   "id": "0603f3c2-ace5-4f7e-9102-5dcf12598862",
   "metadata": {},
   "outputs": [
    {
     "data": {
      "text/plain": [
       "[[1, 2, 3], [4, 5, 6], [7, 8, 9]]"
      ]
     },
     "execution_count": 147,
     "metadata": {},
     "output_type": "execute_result"
    }
   ],
   "source": [
    "matrix"
   ]
  },
  {
   "cell_type": "code",
   "execution_count": 148,
   "id": "b580706e-2cc2-4b5e-ae54-741a0c6a5ac1",
   "metadata": {},
   "outputs": [
    {
     "data": {
      "text/plain": [
       "4"
      ]
     },
     "execution_count": 148,
     "metadata": {},
     "output_type": "execute_result"
    }
   ],
   "source": [
    "matrix[1][0]"
   ]
  },
  {
   "cell_type": "code",
   "execution_count": 150,
   "id": "331a8390-c2f4-494d-bc31-b97b9816f18b",
   "metadata": {},
   "outputs": [
    {
     "data": {
      "text/plain": [
       "9"
      ]
     },
     "execution_count": 150,
     "metadata": {},
     "output_type": "execute_result"
    }
   ],
   "source": [
    "matrix[2][2]"
   ]
  },
  {
   "cell_type": "code",
   "execution_count": 157,
   "id": "ca8bb426-6bdf-4dba-8b9c-b21bcc1a0d91",
   "metadata": {},
   "outputs": [
    {
     "data": {
      "text/plain": [
       "[8, 9]"
      ]
     },
     "execution_count": 157,
     "metadata": {},
     "output_type": "execute_result"
    }
   ],
   "source": [
    "matrix[2][1:]"
   ]
  },
  {
   "cell_type": "markdown",
   "id": "a1288dc0-b014-4523-8e1f-ce6b0fb2d6b6",
   "metadata": {},
   "source": [
    "## List Comprehension"
   ]
  },
  {
   "cell_type": "code",
   "execution_count": 159,
   "id": "453be7f9-f5fc-4808-835a-cbde1f15d1dd",
   "metadata": {},
   "outputs": [
    {
     "data": {
      "text/plain": [
       "[0, 1, 2, 3, 4, 5, 6, 7, 8, 9, 10, 11, 12, 13, 14, 15, 16, 17, 18, 19]"
      ]
     },
     "execution_count": 159,
     "metadata": {},
     "output_type": "execute_result"
    }
   ],
   "source": [
    "[i for i in range(20)]"
   ]
  },
  {
   "cell_type": "code",
   "execution_count": 164,
   "id": "81138edb-fbbe-4e5d-9e56-5dcf2083c92b",
   "metadata": {},
   "outputs": [
    {
     "data": {
      "text/plain": [
       "[0,\n",
       " 'ODD',\n",
       " 2,\n",
       " 'ODD',\n",
       " 4,\n",
       " 'ODD',\n",
       " 6,\n",
       " 'ODD',\n",
       " 8,\n",
       " 'ODD',\n",
       " 10,\n",
       " 'ODD',\n",
       " 12,\n",
       " 'ODD',\n",
       " 14,\n",
       " 'ODD',\n",
       " 16,\n",
       " 'ODD',\n",
       " 18,\n",
       " 'ODD']"
      ]
     },
     "execution_count": 164,
     "metadata": {},
     "output_type": "execute_result"
    }
   ],
   "source": [
    "[i if i%2==0 else \"ODD\" for i in range(20)]"
   ]
  },
  {
   "cell_type": "code",
   "execution_count": 166,
   "id": "3fed45cd-89ac-44dd-a3cc-879211dab61c",
   "metadata": {},
   "outputs": [
    {
     "data": {
      "text/plain": [
       "[0, 1, 2, 3, 4, 5, 6, 7, 8, 9, 10, 11, 12, 13, 14, 15, 16, 17, 18, 19]"
      ]
     },
     "execution_count": 166,
     "metadata": {},
     "output_type": "execute_result"
    }
   ],
   "source": [
    "[i for i in range(0,20)]"
   ]
  },
  {
   "cell_type": "code",
   "execution_count": 191,
   "id": "8756420c-482a-4daf-a9e6-1dabcb667eee",
   "metadata": {},
   "outputs": [
    {
     "name": "stdout",
     "output_type": "stream",
     "text": [
      "20\n",
      "16\n"
     ]
    }
   ],
   "source": [
    "lst = [1,2,3,4,5,6,7,8]\n",
    "Even = 0\n",
    "odd = 0\n",
    "for i in lst:\n",
    "    if i % 2==0:\n",
    "        Even=Even+i\n",
    "    else :\n",
    "        odd=odd+i\n",
    "print(Even)\n",
    "print(odd)"
   ]
  },
  {
   "cell_type": "code",
   "execution_count": 193,
   "id": "20ea73a6-b022-46ed-99dd-a28cd56ed026",
   "metadata": {},
   "outputs": [
    {
     "ename": "TypeError",
     "evalue": "'int' object is not callable",
     "output_type": "error",
     "traceback": [
      "\u001b[0;31m---------------------------------------------------------------------------\u001b[0m",
      "\u001b[0;31mTypeError\u001b[0m                                 Traceback (most recent call last)",
      "Cell \u001b[0;32mIn[193], line 1\u001b[0m\n\u001b[0;32m----> 1\u001b[0m Even \u001b[38;5;241m=\u001b[39m \u001b[38;5;28;43msum\u001b[39;49m\u001b[43m(\u001b[49m\u001b[43m[\u001b[49m\u001b[43mnum\u001b[49m\u001b[43m \u001b[49m\u001b[38;5;28;43;01mfor\u001b[39;49;00m\u001b[43m \u001b[49m\u001b[43mnum\u001b[49m\u001b[43m \u001b[49m\u001b[38;5;129;43;01min\u001b[39;49;00m\u001b[43m \u001b[49m\u001b[43mlst\u001b[49m\u001b[43m \u001b[49m\u001b[38;5;28;43;01mif\u001b[39;49;00m\u001b[43m \u001b[49m\u001b[43mnum\u001b[49m\u001b[43m \u001b[49m\u001b[38;5;241;43m%\u001b[39;49m\u001b[43m \u001b[49m\u001b[38;5;241;43m2\u001b[39;49m\u001b[43m \u001b[49m\u001b[38;5;241;43m==\u001b[39;49m\u001b[43m \u001b[49m\u001b[38;5;241;43m0\u001b[39;49m\u001b[43m \u001b[49m\u001b[43m]\u001b[49m\u001b[43m)\u001b[49m\n",
      "\u001b[0;31mTypeError\u001b[0m: 'int' object is not callable"
     ]
    }
   ],
   "source": [
    "Even = sum([num for num in lst if num % 2 == 0 ])\n"
   ]
  },
  {
   "cell_type": "code",
   "execution_count": 190,
   "id": "ab16d283-c2aa-4571-875c-b081c2e9d9e1",
   "metadata": {},
   "outputs": [
    {
     "ename": "TypeError",
     "evalue": "'int' object is not callable",
     "output_type": "error",
     "traceback": [
      "\u001b[0;31m---------------------------------------------------------------------------\u001b[0m",
      "\u001b[0;31mTypeError\u001b[0m                                 Traceback (most recent call last)",
      "Cell \u001b[0;32mIn[190], line 1\u001b[0m\n\u001b[0;32m----> 1\u001b[0m Odd\u001b[38;5;241m=\u001b[39m\u001b[38;5;28;43msum\u001b[39;49m\u001b[43m(\u001b[49m\u001b[43m[\u001b[49m\u001b[43mnum\u001b[49m\u001b[43m \u001b[49m\u001b[38;5;28;43;01mfor\u001b[39;49;00m\u001b[43m \u001b[49m\u001b[43mnum\u001b[49m\u001b[43m \u001b[49m\u001b[38;5;129;43;01min\u001b[39;49;00m\u001b[43m \u001b[49m\u001b[43mlst\u001b[49m\u001b[43m \u001b[49m\u001b[38;5;28;43;01mif\u001b[39;49;00m\u001b[43m \u001b[49m\u001b[43mnum\u001b[49m\u001b[38;5;241;43m%\u001b[39;49m\u001b[38;5;241;43m2\u001b[39;49m\u001b[38;5;241;43m!=\u001b[39;49m\u001b[38;5;241;43m0\u001b[39;49m\u001b[43m]\u001b[49m\u001b[43m)\u001b[49m\n\u001b[1;32m      2\u001b[0m Odd \n",
      "\u001b[0;31mTypeError\u001b[0m: 'int' object is not callable"
     ]
    }
   ],
   "source": [
    "Odd=sum([num for num in lst if num%2!=0])\n",
    "Odd "
   ]
  },
  {
   "cell_type": "code",
   "execution_count": 194,
   "id": "0e4559b2-a375-49cc-b58e-aa204a2f65e4",
   "metadata": {},
   "outputs": [],
   "source": [
    "lst = [1,2,3,4,5,6,7,8,9,10]\n"
   ]
  },
  {
   "cell_type": "code",
   "execution_count": 196,
   "id": "f3d465c1-7e3e-45ad-b870-cb8b4f16a170",
   "metadata": {},
   "outputs": [
    {
     "data": {
      "text/plain": [
       "[1, 4, 9, 16, 25, 36, 49, 64, 81, 100]"
      ]
     },
     "execution_count": 196,
     "metadata": {},
     "output_type": "execute_result"
    }
   ],
   "source": [
    "[num**2 for num in lst]"
   ]
  },
  {
   "cell_type": "code",
   "execution_count": 198,
   "id": "fe4bfb05-cf72-4069-a660-1357b50e238b",
   "metadata": {},
   "outputs": [
    {
     "data": {
      "text/plain": [
       "[1, 2, 3, 4]"
      ]
     },
     "execution_count": 198,
     "metadata": {},
     "output_type": "execute_result"
    }
   ],
   "source": [
    "numbers = [-2,-1,0,1,2,3,4]\n",
    "[num for num in numbers if num > 0]"
   ]
  },
  {
   "cell_type": "code",
   "execution_count": 200,
   "id": "24d98ad6-ef8c-4b00-a147-c092749844b9",
   "metadata": {},
   "outputs": [
    {
     "data": {
      "text/plain": [
       "['a', 'b', 'c', 'd']"
      ]
     },
     "execution_count": 200,
     "metadata": {},
     "output_type": "execute_result"
    }
   ],
   "source": [
    "words = ['apple','banana','cherry','date']\n",
    "[word[0] for word in words]"
   ]
  },
  {
   "cell_type": "code",
   "execution_count": 202,
   "id": "6d4a4321-6c21-4ee3-90fe-35ca1b848442",
   "metadata": {},
   "outputs": [
    {
     "data": {
      "text/plain": [
       "[32.0, 50.0, 68.0, 86.0, 104.0, 122.0]"
      ]
     },
     "execution_count": 202,
     "metadata": {},
     "output_type": "execute_result"
    }
   ],
   "source": [
    "# (9/5)*temp+32\n",
    "celcius_temp = [0,10,20,30,40,50]\n",
    "[(9/5)*temp+32 for temp in celcius_temp]"
   ]
  },
  {
   "cell_type": "code",
   "execution_count": 204,
   "id": "910fa8eb-28e3-4bbe-8a16-00a4853213a9",
   "metadata": {},
   "outputs": [
    {
     "data": {
      "text/plain": [
       "[1, 2, 3, 4, 5, 6, 7, 8, 9]"
      ]
     },
     "execution_count": 204,
     "metadata": {},
     "output_type": "execute_result"
    }
   ],
   "source": [
    "lists = [[1,2,3],[4,5,6],[7,8,9]]\n",
    "[num for subnum in lists for num in subnum]"
   ]
  },
  {
   "cell_type": "code",
   "execution_count": 205,
   "id": "037ff7f4-6a40-4389-a18d-333b1dca7e94",
   "metadata": {},
   "outputs": [],
   "source": [
    "numbers = [1,2,3,4,5,6,7,8,9,10] ##Prime numbers"
   ]
  },
  {
   "cell_type": "code",
   "execution_count": null,
   "id": "ded76b96-a960-4024-a58c-80f16f1f6ab0",
   "metadata": {},
   "outputs": [],
   "source": [
    "numbers = [1,2,3,4,5] ##all possible combinations of 2"
   ]
  }
 ],
 "metadata": {
  "kernelspec": {
   "display_name": "Python 3 (ipykernel)",
   "language": "python",
   "name": "python3"
  },
  "language_info": {
   "codemirror_mode": {
    "name": "ipython",
    "version": 3
   },
   "file_extension": ".py",
   "mimetype": "text/x-python",
   "name": "python",
   "nbconvert_exporter": "python",
   "pygments_lexer": "ipython3",
   "version": "3.10.8"
  }
 },
 "nbformat": 4,
 "nbformat_minor": 5
}
