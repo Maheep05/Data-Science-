{
 "cells": [
  {
   "cell_type": "markdown",
   "id": "084bc67f-005e-41e9-9cb3-c4096c7996b6",
   "metadata": {},
   "source": [
    "#Logical Operators"
   ]
  },
  {
   "cell_type": "code",
   "execution_count": 1,
   "id": "35bd5d4f-6245-4880-b70c-345b0155aadb",
   "metadata": {},
   "outputs": [
    {
     "data": {
      "text/plain": [
       "False"
      ]
     },
     "execution_count": 1,
     "metadata": {},
     "output_type": "execute_result"
    }
   ],
   "source": [
    "True and False"
   ]
  },
  {
   "cell_type": "code",
   "execution_count": 2,
   "id": "6fc2eb6e-ab27-499a-8bc2-6f6ddffbb2a7",
   "metadata": {},
   "outputs": [
    {
     "data": {
      "text/plain": [
       "False"
      ]
     },
     "execution_count": 2,
     "metadata": {},
     "output_type": "execute_result"
    }
   ],
   "source": [
    "not True\n"
   ]
  },
  {
   "cell_type": "code",
   "execution_count": 3,
   "id": "782fa4d8-a903-45a8-ba21-257cf6e0d4dc",
   "metadata": {},
   "outputs": [
    {
     "data": {
      "text/plain": [
       "True"
      ]
     },
     "execution_count": 3,
     "metadata": {},
     "output_type": "execute_result"
    }
   ],
   "source": [
    "not bool(0)"
   ]
  },
  {
   "cell_type": "code",
   "execution_count": 4,
   "id": "32a0bc82-429b-4b4d-8e86-799ea0047cc0",
   "metadata": {},
   "outputs": [
    {
     "data": {
      "text/plain": [
       "True"
      ]
     },
     "execution_count": 4,
     "metadata": {},
     "output_type": "execute_result"
    }
   ],
   "source": [
    "not int(bool(0))"
   ]
  },
  {
   "cell_type": "code",
   "execution_count": 5,
   "id": "103048b5-3fa7-4274-85cd-8784f9927f20",
   "metadata": {},
   "outputs": [
    {
     "data": {
      "text/plain": [
       "False"
      ]
     },
     "execution_count": 5,
     "metadata": {},
     "output_type": "execute_result"
    }
   ],
   "source": [
    "not int(bool(1))"
   ]
  },
  {
   "cell_type": "code",
   "execution_count": 6,
   "id": "21cafd36-1fc0-4490-b4ca-11e4a332815e",
   "metadata": {},
   "outputs": [
    {
     "data": {
      "text/plain": [
       "False"
      ]
     },
     "execution_count": 6,
     "metadata": {},
     "output_type": "execute_result"
    }
   ],
   "source": [
    "not 1"
   ]
  },
  {
   "cell_type": "code",
   "execution_count": 7,
   "id": "e7f6693b-70c0-4c90-9491-88ebe6e455e5",
   "metadata": {},
   "outputs": [
    {
     "data": {
      "text/plain": [
       "1"
      ]
     },
     "execution_count": 7,
     "metadata": {},
     "output_type": "execute_result"
    }
   ],
   "source": [
    "int (not 0)"
   ]
  },
  {
   "cell_type": "code",
   "execution_count": 8,
   "id": "bfb1e972-6183-41c4-9244-402817b1ef72",
   "metadata": {},
   "outputs": [
    {
     "data": {
      "text/plain": [
       "False"
      ]
     },
     "execution_count": 8,
     "metadata": {},
     "output_type": "execute_result"
    }
   ],
   "source": [
    "not 2"
   ]
  },
  {
   "cell_type": "code",
   "execution_count": 9,
   "id": "4ad705f5-9d5f-40c2-9f32-48859f9ef728",
   "metadata": {},
   "outputs": [
    {
     "data": {
      "text/plain": [
       "True"
      ]
     },
     "execution_count": 9,
     "metadata": {},
     "output_type": "execute_result"
    }
   ],
   "source": [
    "not 0"
   ]
  },
  {
   "cell_type": "code",
   "execution_count": 10,
   "id": "23ae0cb7-9ce8-492d-b1e0-080ad93a9232",
   "metadata": {},
   "outputs": [
    {
     "data": {
      "text/plain": [
       "False"
      ]
     },
     "execution_count": 10,
     "metadata": {},
     "output_type": "execute_result"
    }
   ],
   "source": [
    "not 555"
   ]
  },
  {
   "cell_type": "code",
   "execution_count": 11,
   "id": "bb81d045-703a-477b-9cd2-273a6fb52fb3",
   "metadata": {},
   "outputs": [
    {
     "data": {
      "text/plain": [
       "False"
      ]
     },
     "execution_count": 11,
     "metadata": {},
     "output_type": "execute_result"
    }
   ],
   "source": [
    "not -123"
   ]
  },
  {
   "cell_type": "code",
   "execution_count": 12,
   "id": "95c0d8d4-b3f3-4de0-bb20-03b69d878e2b",
   "metadata": {},
   "outputs": [
    {
     "data": {
      "text/plain": [
       "True"
      ]
     },
     "execution_count": 12,
     "metadata": {},
     "output_type": "execute_result"
    }
   ],
   "source": [
    "bool(-6)"
   ]
  },
  {
   "cell_type": "code",
   "execution_count": 13,
   "id": "74ab8f4b-c508-4268-a2cf-9eedccf193c7",
   "metadata": {},
   "outputs": [
    {
     "data": {
      "text/plain": [
       "True"
      ]
     },
     "execution_count": 13,
     "metadata": {},
     "output_type": "execute_result"
    }
   ],
   "source": [
    "bool(6)"
   ]
  },
  {
   "cell_type": "code",
   "execution_count": 14,
   "id": "f9e75dbd-383f-48a6-a286-2fc3630e69d4",
   "metadata": {},
   "outputs": [
    {
     "data": {
      "text/plain": [
       "False"
      ]
     },
     "execution_count": 14,
     "metadata": {},
     "output_type": "execute_result"
    }
   ],
   "source": [
    "not 6"
   ]
  },
  {
   "cell_type": "markdown",
   "id": "6331709b-62f3-4c53-b34d-6250984f45ff",
   "metadata": {},
   "source": [
    "#logical AND"
   ]
  },
  {
   "cell_type": "code",
   "execution_count": 15,
   "id": "6d38202f-57ab-47fe-ac7c-1b5eb2c01b3f",
   "metadata": {},
   "outputs": [
    {
     "data": {
      "text/plain": [
       "1"
      ]
     },
     "execution_count": 15,
     "metadata": {},
     "output_type": "execute_result"
    }
   ],
   "source": [
    "True * (not(False))"
   ]
  },
  {
   "cell_type": "code",
   "execution_count": 16,
   "id": "6803d489-405c-4c49-afd2-da8f72d4ce04",
   "metadata": {},
   "outputs": [
    {
     "data": {
      "text/plain": [
       "False"
      ]
     },
     "execution_count": 16,
     "metadata": {},
     "output_type": "execute_result"
    }
   ],
   "source": [
    "not(True * True)"
   ]
  },
  {
   "cell_type": "code",
   "execution_count": 17,
   "id": "7cab1b43-14dd-488b-8a8e-8a7ebf64b084",
   "metadata": {},
   "outputs": [
    {
     "data": {
      "text/plain": [
       "1"
      ]
     },
     "execution_count": 17,
     "metadata": {},
     "output_type": "execute_result"
    }
   ],
   "source": [
    "True + False"
   ]
  },
  {
   "cell_type": "markdown",
   "id": "dc26612b-dd70-4c6d-a8b5-e2515fb7adef",
   "metadata": {},
   "source": [
    "# a is b returns true if both points to same object"
   ]
  },
  {
   "cell_type": "code",
   "execution_count": 18,
   "id": "c671e2d9-5cd1-4e21-9559-b335454ff9fa",
   "metadata": {},
   "outputs": [
    {
     "name": "stdout",
     "output_type": "stream",
     "text": [
      "140047815052352\n",
      "140047815052224\n"
     ]
    }
   ],
   "source": [
    "lst_a = [1,2,3,4]\n",
    "lst_b = [1,2,3,4]\n",
    "print(id(lst_a))\n",
    "print(id(lst_b))"
   ]
  },
  {
   "cell_type": "code",
   "execution_count": 19,
   "id": "4fcae903-99bd-44a5-b594-565879e87076",
   "metadata": {},
   "outputs": [
    {
     "data": {
      "text/plain": [
       "False"
      ]
     },
     "execution_count": 19,
     "metadata": {},
     "output_type": "execute_result"
    }
   ],
   "source": [
    "lst_a is lst_b"
   ]
  },
  {
   "cell_type": "code",
   "execution_count": 20,
   "id": "ed6f8e3b-1485-4990-9518-d85bf7c9666d",
   "metadata": {},
   "outputs": [
    {
     "name": "stdout",
     "output_type": "stream",
     "text": [
      "140047815052096\n",
      "140047815052096\n"
     ]
    }
   ],
   "source": [
    "lst_a = [1,2,3,4]\n",
    "lst_b = lst_a\n",
    "print(id(lst_a))\n",
    "print(id(lst_b))"
   ]
  },
  {
   "cell_type": "code",
   "execution_count": 21,
   "id": "cf12f062-0925-4ea4-ab1a-daf705581d15",
   "metadata": {},
   "outputs": [
    {
     "data": {
      "text/plain": [
       "True"
      ]
     },
     "execution_count": 21,
     "metadata": {},
     "output_type": "execute_result"
    }
   ],
   "source": [
    "lst_a is lst_b"
   ]
  },
  {
   "cell_type": "code",
   "execution_count": 22,
   "id": "7255ddb6-5a47-41fd-84be-2fe73391205a",
   "metadata": {},
   "outputs": [
    {
     "data": {
      "text/plain": [
       "True"
      ]
     },
     "execution_count": 22,
     "metadata": {},
     "output_type": "execute_result"
    }
   ],
   "source": [
    "lst_a = [1,2,3,4]\n",
    "lst_b = [1,2,3,4]\n",
    "lst_a is not lst_b"
   ]
  },
  {
   "cell_type": "code",
   "execution_count": 23,
   "id": "8d15004a-f8d0-4678-97ac-e5208f331619",
   "metadata": {},
   "outputs": [
    {
     "data": {
      "text/plain": [
       "False"
      ]
     },
     "execution_count": 23,
     "metadata": {},
     "output_type": "execute_result"
    }
   ],
   "source": [
    "lst_a != lst_b"
   ]
  },
  {
   "cell_type": "code",
   "execution_count": 24,
   "id": "49e8eaae-fc67-4de3-87e5-9e24da07db5d",
   "metadata": {},
   "outputs": [
    {
     "data": {
      "text/plain": [
       "True"
      ]
     },
     "execution_count": 24,
     "metadata": {},
     "output_type": "execute_result"
    }
   ],
   "source": [
    "lst_a == lst_b"
   ]
  },
  {
   "cell_type": "code",
   "execution_count": 25,
   "id": "8085dfe4-e425-4498-849f-e85bda34be3c",
   "metadata": {},
   "outputs": [
    {
     "name": "stdout",
     "output_type": "stream",
     "text": [
      "140047924232464\n",
      "140047924232464\n"
     ]
    }
   ],
   "source": [
    "a=2\n",
    "b=2\n",
    "print(id(a))\n",
    "print(id(b))"
   ]
  },
  {
   "cell_type": "code",
   "execution_count": 26,
   "id": "412b259f-4b48-44e7-a14a-040935198a6f",
   "metadata": {},
   "outputs": [
    {
     "name": "stdout",
     "output_type": "stream",
     "text": [
      "140047815222448\n",
      "140047815222448\n"
     ]
    }
   ],
   "source": [
    "str1='maheep'\n",
    "str2='maheep'\n",
    "print(id(str1))\n",
    "print(id(str2))"
   ]
  },
  {
   "cell_type": "code",
   "execution_count": 27,
   "id": "9ec168a2-5f6c-4b7b-8734-dae35cae067d",
   "metadata": {},
   "outputs": [
    {
     "name": "stdout",
     "output_type": "stream",
     "text": [
      "140047815222448\n",
      "140047815221680\n"
     ]
    }
   ],
   "source": [
    "str1='maheep'\n",
    "str2='maheep1'\n",
    "print(id(str1))\n",
    "print(id(str2))"
   ]
  },
  {
   "cell_type": "code",
   "execution_count": 28,
   "id": "92c268dc-90bc-4a37-ad95-ed9f8358b4ff",
   "metadata": {},
   "outputs": [
    {
     "data": {
      "text/plain": [
       "[1, 2, 3, 4]"
      ]
     },
     "execution_count": 28,
     "metadata": {},
     "output_type": "execute_result"
    }
   ],
   "source": [
    "lst_a"
   ]
  },
  {
   "cell_type": "code",
   "execution_count": 29,
   "id": "a141c536-fc50-4c0d-95d1-d679de958a1e",
   "metadata": {},
   "outputs": [],
   "source": [
    "lst_a[0]=10\n"
   ]
  },
  {
   "cell_type": "code",
   "execution_count": 30,
   "id": "4f628390-e307-456a-bd71-cfdb0d152475",
   "metadata": {},
   "outputs": [
    {
     "data": {
      "text/plain": [
       "[10, 2, 3, 4]"
      ]
     },
     "execution_count": 30,
     "metadata": {},
     "output_type": "execute_result"
    }
   ],
   "source": [
    "lst_a"
   ]
  },
  {
   "cell_type": "code",
   "execution_count": 31,
   "id": "7889c6d7-24ea-42ca-9d9d-98b49913ac36",
   "metadata": {},
   "outputs": [
    {
     "data": {
      "text/plain": [
       "'maheep'"
      ]
     },
     "execution_count": 31,
     "metadata": {},
     "output_type": "execute_result"
    }
   ],
   "source": [
    "str1"
   ]
  },
  {
   "cell_type": "code",
   "execution_count": 32,
   "id": "17e8192d-33ca-47f7-92da-d727ebeb02c2",
   "metadata": {},
   "outputs": [
    {
     "data": {
      "text/plain": [
       "'m'"
      ]
     },
     "execution_count": 32,
     "metadata": {},
     "output_type": "execute_result"
    }
   ],
   "source": [
    "str1[0]"
   ]
  },
  {
   "cell_type": "markdown",
   "id": "1d3a9d3e-bdee-4fef-be7f-1826294ea8a7",
   "metadata": {},
   "source": [
    "# Lists are mutable but strings are'nt(are immutable)"
   ]
  },
  {
   "cell_type": "markdown",
   "id": "921e201e-239a-4c03-9440-6fdbb5654087",
   "metadata": {},
   "source": [
    "## Comparision Operations"
   ]
  },
  {
   "cell_type": "markdown",
   "id": "b3ff7f8a-f438-4fe7-8a16-f4b0ed9cdcd7",
   "metadata": {},
   "source": [
    "### >,<,>=,<="
   ]
  },
  {
   "cell_type": "markdown",
   "id": "537b5324-cb5b-4814-b2af-a376f1ce57dd",
   "metadata": {},
   "source": [
    "## Arithmetic Operations\n",
    "### +,-,*,/,//,%"
   ]
  },
  {
   "cell_type": "code",
   "execution_count": 33,
   "id": "3d47725c-49dd-4fd3-b9ec-5870683e144f",
   "metadata": {},
   "outputs": [
    {
     "data": {
      "text/plain": [
       "2525"
      ]
     },
     "execution_count": 33,
     "metadata": {},
     "output_type": "execute_result"
    }
   ],
   "source": [
    "a=25\n",
    "b=101\n",
    "b*a\n"
   ]
  },
  {
   "cell_type": "code",
   "execution_count": 34,
   "id": "a3ca22f4-c56d-48a7-9837-9e9c886c08e6",
   "metadata": {},
   "outputs": [
    {
     "data": {
      "text/plain": [
       "126"
      ]
     },
     "execution_count": 34,
     "metadata": {},
     "output_type": "execute_result"
    }
   ],
   "source": [
    "b+a"
   ]
  },
  {
   "cell_type": "code",
   "execution_count": 35,
   "id": "5b4dbcf3-91a1-42b8-ba45-d1c5be38c25f",
   "metadata": {},
   "outputs": [
    {
     "data": {
      "text/plain": [
       "4.04"
      ]
     },
     "execution_count": 35,
     "metadata": {},
     "output_type": "execute_result"
    }
   ],
   "source": [
    "b/a"
   ]
  },
  {
   "cell_type": "code",
   "execution_count": 36,
   "id": "4523019b-a6f6-40b3-85fa-da14006c7555",
   "metadata": {},
   "outputs": [
    {
     "data": {
      "text/plain": [
       "4"
      ]
     },
     "execution_count": 36,
     "metadata": {},
     "output_type": "execute_result"
    }
   ],
   "source": [
    "b//a"
   ]
  },
  {
   "cell_type": "code",
   "execution_count": 37,
   "id": "f427c4d4-6dd6-447e-91a7-3091d6e6e8af",
   "metadata": {},
   "outputs": [
    {
     "data": {
      "text/plain": [
       "1"
      ]
     },
     "execution_count": 37,
     "metadata": {},
     "output_type": "execute_result"
    }
   ],
   "source": [
    "b%a"
   ]
  },
  {
   "cell_type": "code",
   "execution_count": 38,
   "id": "e9791c0e-6c9a-4201-8a89-0d357fe35132",
   "metadata": {},
   "outputs": [
    {
     "data": {
      "text/plain": [
       "0"
      ]
     },
     "execution_count": 38,
     "metadata": {},
     "output_type": "execute_result"
    }
   ],
   "source": [
    "a//b"
   ]
  },
  {
   "cell_type": "code",
   "execution_count": 39,
   "id": "f49fc5c4-0146-4116-9b98-29e68aef83db",
   "metadata": {},
   "outputs": [
    {
     "data": {
      "text/plain": [
       "25"
      ]
     },
     "execution_count": 39,
     "metadata": {},
     "output_type": "execute_result"
    }
   ],
   "source": [
    "a%b"
   ]
  },
  {
   "cell_type": "markdown",
   "id": "ffb370e8-7909-4077-9756-cddbec9a0778",
   "metadata": {},
   "source": [
    "## Bitwise Operations\n",
    "### ~,&,|,^,<<,>>"
   ]
  },
  {
   "cell_type": "code",
   "execution_count": 40,
   "id": "9030d9b3-ee31-4ad2-b363-4026a5d1224f",
   "metadata": {},
   "outputs": [
    {
     "data": {
      "text/plain": [
       "'0b1010'"
      ]
     },
     "execution_count": 40,
     "metadata": {},
     "output_type": "execute_result"
    }
   ],
   "source": [
    "var = 10\n",
    "bin(var)"
   ]
  },
  {
   "cell_type": "code",
   "execution_count": 41,
   "id": "68156325-e8b2-4772-af61-46ea368a1c42",
   "metadata": {},
   "outputs": [
    {
     "data": {
      "text/plain": [
       "-11"
      ]
     },
     "execution_count": 41,
     "metadata": {},
     "output_type": "execute_result"
    }
   ],
   "source": [
    "~var  ## 2's Complement"
   ]
  },
  {
   "cell_type": "code",
   "execution_count": 42,
   "id": "9e6d032a-337c-40fa-af95-21baa63c0039",
   "metadata": {},
   "outputs": [
    {
     "data": {
      "text/plain": [
       "False"
      ]
     },
     "execution_count": 42,
     "metadata": {},
     "output_type": "execute_result"
    }
   ],
   "source": [
    "True & False"
   ]
  },
  {
   "cell_type": "code",
   "execution_count": 43,
   "id": "416618a4-d83b-4e93-bb70-04163c2c3e47",
   "metadata": {},
   "outputs": [
    {
     "data": {
      "text/plain": [
       "5"
      ]
     },
     "execution_count": 43,
     "metadata": {},
     "output_type": "execute_result"
    }
   ],
   "source": [
    "var >> 1"
   ]
  },
  {
   "cell_type": "code",
   "execution_count": 44,
   "id": "294f75bf-34c5-4031-a43b-e7aeabe26e93",
   "metadata": {},
   "outputs": [
    {
     "data": {
      "text/plain": [
       "20"
      ]
     },
     "execution_count": 44,
     "metadata": {},
     "output_type": "execute_result"
    }
   ],
   "source": [
    "var << 1"
   ]
  },
  {
   "cell_type": "markdown",
   "id": "bd322e34-c385-4f86-9b27-714fd57191b4",
   "metadata": {},
   "source": [
    "## Strings"
   ]
  },
  {
   "cell_type": "code",
   "execution_count": 45,
   "id": "1a441050-70b5-49b9-be82-2f4d78cb40e9",
   "metadata": {},
   "outputs": [
    {
     "data": {
      "text/plain": [
       "str"
      ]
     },
     "execution_count": 45,
     "metadata": {},
     "output_type": "execute_result"
    }
   ],
   "source": [
    "str1='helloooo'\n",
    "type(str1)"
   ]
  },
  {
   "cell_type": "markdown",
   "id": "3702f702-e7da-4623-8539-a25c7d14531e",
   "metadata": {},
   "source": [
    "## strings are immuntable"
   ]
  },
  {
   "cell_type": "code",
   "execution_count": 46,
   "id": "0b4103e6-d61e-4c7a-8e97-34516062bf45",
   "metadata": {},
   "outputs": [],
   "source": [
    "str1='Maheep Saluja'"
   ]
  },
  {
   "cell_type": "code",
   "execution_count": 47,
   "id": "1428afdf-c5b4-4bf0-abbf-cb6fe4f90319",
   "metadata": {},
   "outputs": [
    {
     "data": {
      "text/plain": [
       "'Maheep Saluja'"
      ]
     },
     "execution_count": 47,
     "metadata": {},
     "output_type": "execute_result"
    }
   ],
   "source": [
    "str1"
   ]
  },
  {
   "cell_type": "code",
   "execution_count": 48,
   "id": "bc3111d8-860c-4fc8-8f90-ba72c2138e7f",
   "metadata": {},
   "outputs": [],
   "source": [
    "string = \"Data Science Course\""
   ]
  },
  {
   "cell_type": "code",
   "execution_count": 49,
   "id": "d9681e9f-c9ec-44a2-a64a-0270cf69c179",
   "metadata": {},
   "outputs": [
    {
     "data": {
      "text/plain": [
       "'Scienc'"
      ]
     },
     "execution_count": 49,
     "metadata": {},
     "output_type": "execute_result"
    }
   ],
   "source": [
    "string[5:11]  ##Slicing Operation"
   ]
  },
  {
   "cell_type": "code",
   "execution_count": 50,
   "id": "5e8dc70b-99c5-4f71-b19d-9e96fa5cdea8",
   "metadata": {},
   "outputs": [
    {
     "data": {
      "text/plain": [
       "'e'"
      ]
     },
     "execution_count": 50,
     "metadata": {},
     "output_type": "execute_result"
    }
   ],
   "source": [
    "string[-1]"
   ]
  },
  {
   "cell_type": "code",
   "execution_count": 51,
   "id": "b6d16be9-5dfa-4dd6-96b5-f0350986f692",
   "metadata": {},
   "outputs": [
    {
     "data": {
      "text/plain": [
       "'rse'"
      ]
     },
     "execution_count": 51,
     "metadata": {},
     "output_type": "execute_result"
    }
   ],
   "source": [
    "string[-3:]"
   ]
  },
  {
   "cell_type": "code",
   "execution_count": 52,
   "id": "53a9069b-7691-4e0c-8ac8-615cc1cfb7d4",
   "metadata": {},
   "outputs": [
    {
     "data": {
      "text/plain": [
       "' Course'"
      ]
     },
     "execution_count": 52,
     "metadata": {},
     "output_type": "execute_result"
    }
   ],
   "source": [
    "string[-7:]"
   ]
  },
  {
   "cell_type": "code",
   "execution_count": 53,
   "id": "7895b7e3-744c-4b68-8562-3921cdbe6a6c",
   "metadata": {},
   "outputs": [
    {
     "data": {
      "text/plain": [
       "' Cou'"
      ]
     },
     "execution_count": 53,
     "metadata": {},
     "output_type": "execute_result"
    }
   ],
   "source": [
    "string[-7:-3]"
   ]
  },
  {
   "cell_type": "code",
   "execution_count": 54,
   "id": "683c90d4-013b-48f8-a14a-aeac67f6fbe4",
   "metadata": {},
   "outputs": [
    {
     "data": {
      "text/plain": [
       "''"
      ]
     },
     "execution_count": 54,
     "metadata": {},
     "output_type": "execute_result"
    }
   ],
   "source": [
    "string[-7:5]"
   ]
  },
  {
   "cell_type": "code",
   "execution_count": 55,
   "id": "24a4c6b8-97fc-4e94-ae41-b4562768a888",
   "metadata": {},
   "outputs": [
    {
     "data": {
      "text/plain": [
       "''"
      ]
     },
     "execution_count": 55,
     "metadata": {},
     "output_type": "execute_result"
    }
   ],
   "source": [
    "string[7:5]"
   ]
  },
  {
   "cell_type": "code",
   "execution_count": 56,
   "id": "18db033e-2fa7-4df6-bbc1-6b9344866eaa",
   "metadata": {},
   "outputs": [
    {
     "data": {
      "text/plain": [
       "'Data Science Cours'"
      ]
     },
     "execution_count": 56,
     "metadata": {},
     "output_type": "execute_result"
    }
   ],
   "source": [
    "string[:-1]"
   ]
  },
  {
   "cell_type": "code",
   "execution_count": 57,
   "id": "50a7f9a5-9e40-4a31-b514-0cf7ae627ca7",
   "metadata": {},
   "outputs": [
    {
     "data": {
      "text/plain": [
       "'Data Science Course'"
      ]
     },
     "execution_count": 57,
     "metadata": {},
     "output_type": "execute_result"
    }
   ],
   "source": [
    "string[:]"
   ]
  },
  {
   "cell_type": "code",
   "execution_count": 58,
   "id": "613a3fc4-026d-4167-9c98-d5fd1729ab26",
   "metadata": {},
   "outputs": [
    {
     "data": {
      "text/plain": [
       "'ahe'"
      ]
     },
     "execution_count": 58,
     "metadata": {},
     "output_type": "execute_result"
    }
   ],
   "source": [
    "name = \"Maheep\"\n",
    "name [-5:4]"
   ]
  },
  {
   "cell_type": "code",
   "execution_count": 59,
   "id": "f2d02ea7-c45b-45ce-81b7-bc79d725a364",
   "metadata": {},
   "outputs": [
    {
     "data": {
      "text/plain": [
       "'Data Science Course'"
      ]
     },
     "execution_count": 59,
     "metadata": {},
     "output_type": "execute_result"
    }
   ],
   "source": [
    "string"
   ]
  },
  {
   "cell_type": "code",
   "execution_count": 60,
   "id": "be10bc1d-b6a6-444d-9b6e-571c83915f5e",
   "metadata": {},
   "outputs": [
    {
     "data": {
      "text/plain": [
       "'Dt cec ore'"
      ]
     },
     "execution_count": 60,
     "metadata": {},
     "output_type": "execute_result"
    }
   ],
   "source": [
    "string[::2] ##[start:stop:step]"
   ]
  },
  {
   "cell_type": "code",
   "execution_count": 62,
   "id": "8d8e62d5-9698-4b87-b320-11e3e33e2395",
   "metadata": {},
   "outputs": [
    {
     "data": {
      "text/plain": [
       "'Science'"
      ]
     },
     "execution_count": 62,
     "metadata": {},
     "output_type": "execute_result"
    }
   ],
   "source": [
    "course_name = \"Data Science Masters\"\n",
    "course_name[5:12]"
   ]
  },
  {
   "cell_type": "code",
   "execution_count": 67,
   "id": "1ba7d7aa-3979-4b9c-9c6c-bad682215bd5",
   "metadata": {},
   "outputs": [
    {
     "data": {
      "text/plain": [
       "'ecneicS'"
      ]
     },
     "execution_count": 67,
     "metadata": {},
     "output_type": "execute_result"
    }
   ],
   "source": [
    "course_name[11:4:-1]"
   ]
  },
  {
   "cell_type": "code",
   "execution_count": 68,
   "id": "d3ec9b3c-5ad8-468c-b39f-5c46919d3a3b",
   "metadata": {},
   "outputs": [
    {
     "data": {
      "text/plain": [
       "'Data Science MastersData Science MastersData Science MastersData Science MastersData Science Masters'"
      ]
     },
     "execution_count": 68,
     "metadata": {},
     "output_type": "execute_result"
    }
   ],
   "source": [
    "course_name*5"
   ]
  },
  {
   "cell_type": "code",
   "execution_count": 69,
   "id": "30f970a8-8c87-450e-9b9c-cd8f56b0f5ec",
   "metadata": {},
   "outputs": [
    {
     "name": "stdout",
     "output_type": "stream",
     "text": [
      "helloworld\n"
     ]
    }
   ],
   "source": [
    "print(\"hello\"+\"world\")\n"
   ]
  },
  {
   "cell_type": "code",
   "execution_count": 70,
   "id": "533f144f-e14f-47d5-aa38-663762742ed1",
   "metadata": {},
   "outputs": [
    {
     "data": {
      "text/plain": [
       "20"
      ]
     },
     "execution_count": 70,
     "metadata": {},
     "output_type": "execute_result"
    }
   ],
   "source": [
    "len(course_name)"
   ]
  },
  {
   "cell_type": "code",
   "execution_count": 72,
   "id": "f1d9dea5-28b9-4f7c-a77f-338442fd3d5f",
   "metadata": {},
   "outputs": [
    {
     "data": {
      "text/plain": [
       "9"
      ]
     },
     "execution_count": 72,
     "metadata": {},
     "output_type": "execute_result"
    }
   ],
   "source": [
    "course_name.find(\"n\") ##Finds the element in the given string and return the inde xnumber"
   ]
  },
  {
   "cell_type": "code",
   "execution_count": 73,
   "id": "951a8f17-75b8-479d-bdfe-2641dfae1c20",
   "metadata": {},
   "outputs": [
    {
     "data": {
      "text/plain": [
       "1"
      ]
     },
     "execution_count": 73,
     "metadata": {},
     "output_type": "execute_result"
    }
   ],
   "source": [
    "course_name.find(\"a\")"
   ]
  },
  {
   "cell_type": "code",
   "execution_count": 76,
   "id": "62a85274-a8f6-4342-bfb1-f796f0de0cea",
   "metadata": {},
   "outputs": [
    {
     "data": {
      "text/plain": [
       "3"
      ]
     },
     "execution_count": 76,
     "metadata": {},
     "output_type": "execute_result"
    }
   ],
   "source": [
    "course_name.find(\"a\",2,10) ##[element,start,stop]"
   ]
  },
  {
   "cell_type": "code",
   "execution_count": 77,
   "id": "5c1eb616-c3f7-4a46-9641-2d5fb90e65cc",
   "metadata": {},
   "outputs": [
    {
     "data": {
      "text/plain": [
       "-1"
      ]
     },
     "execution_count": 77,
     "metadata": {},
     "output_type": "execute_result"
    }
   ],
   "source": [
    "course_name.find(\"z\")"
   ]
  },
  {
   "cell_type": "code",
   "execution_count": 79,
   "id": "ddc56151-f111-49b5-a4ff-dded84b71313",
   "metadata": {},
   "outputs": [
    {
     "data": {
      "text/plain": [
       "'Data Science Masters'"
      ]
     },
     "execution_count": 79,
     "metadata": {},
     "output_type": "execute_result"
    }
   ],
   "source": [
    "course_name"
   ]
  },
  {
   "cell_type": "code",
   "execution_count": 83,
   "id": "515a3dbf-32cf-4f56-9222-aff7fbe59bd9",
   "metadata": {},
   "outputs": [
    {
     "data": {
      "text/plain": [
       "3"
      ]
     },
     "execution_count": 83,
     "metadata": {},
     "output_type": "execute_result"
    }
   ],
   "source": [
    "## Count()\n",
    "course_name.count('a')"
   ]
  },
  {
   "cell_type": "markdown",
   "id": "63ed6a57-a349-450a-b8da-ee25f65e0cd3",
   "metadata": {},
   "source": [
    "## Counting every character"
   ]
  },
  {
   "cell_type": "code",
   "execution_count": 102,
   "id": "8d305733-ed8b-4bb2-903d-aa9157294b75",
   "metadata": {},
   "outputs": [
    {
     "data": {
      "text/plain": [
       "2"
      ]
     },
     "execution_count": 102,
     "metadata": {},
     "output_type": "execute_result"
    }
   ],
   "source": [
    "course_name.count(' ')"
   ]
  },
  {
   "cell_type": "code",
   "execution_count": 103,
   "id": "04c3d080-8e9e-4023-88d2-95ccfa54b64a",
   "metadata": {},
   "outputs": [
    {
     "data": {
      "text/plain": [
       "21"
      ]
     },
     "execution_count": 103,
     "metadata": {},
     "output_type": "execute_result"
    }
   ],
   "source": [
    "course_name.count('') "
   ]
  },
  {
   "cell_type": "code",
   "execution_count": 104,
   "id": "35ea354e-bb8b-46f1-8f73-5568d1c23605",
   "metadata": {},
   "outputs": [
    {
     "data": {
      "text/plain": [
       "3"
      ]
     },
     "execution_count": 104,
     "metadata": {},
     "output_type": "execute_result"
    }
   ],
   "source": [
    "course_name.find('a',2,10)"
   ]
  },
  {
   "cell_type": "markdown",
   "id": "40069387-f3ec-41b7-a3b0-96a6ed44790a",
   "metadata": {},
   "source": [
    "## Strings Split Functions\n"
   ]
  },
  {
   "cell_type": "code",
   "execution_count": 105,
   "id": "0bc25245-c303-4c56-a90b-ea6adf991d0f",
   "metadata": {},
   "outputs": [
    {
     "data": {
      "text/plain": [
       "['Data', 'Science', 'Masters']"
      ]
     },
     "execution_count": 105,
     "metadata": {},
     "output_type": "execute_result"
    }
   ],
   "source": [
    "course_name.split(' ')"
   ]
  },
  {
   "cell_type": "code",
   "execution_count": 106,
   "id": "6ef28b9c-3cc7-4be5-b608-7ed8d566eb6c",
   "metadata": {},
   "outputs": [
    {
     "data": {
      "text/plain": [
       "['Data ', 'cience Masters']"
      ]
     },
     "execution_count": 106,
     "metadata": {},
     "output_type": "execute_result"
    }
   ],
   "source": [
    "course_name.split('S')"
   ]
  },
  {
   "cell_type": "code",
   "execution_count": 107,
   "id": "a3883085-6fc7-4124-9aff-aaadb01d9118",
   "metadata": {},
   "outputs": [
    {
     "data": {
      "text/plain": [
       "('Data ', 'S', 'cience Masters')"
      ]
     },
     "execution_count": 107,
     "metadata": {},
     "output_type": "execute_result"
    }
   ],
   "source": [
    "course_name.partition('S')"
   ]
  },
  {
   "cell_type": "markdown",
   "id": "3280c8ea-642e-4d80-864a-5819b842c9ae",
   "metadata": {},
   "source": [
    "## String upper and lower case\n"
   ]
  },
  {
   "cell_type": "code",
   "execution_count": 108,
   "id": "276ac898-257d-4298-ae9e-ce7a0e02953f",
   "metadata": {},
   "outputs": [
    {
     "data": {
      "text/plain": [
       "'DATA SCIENCE MASTERS'"
      ]
     },
     "execution_count": 108,
     "metadata": {},
     "output_type": "execute_result"
    }
   ],
   "source": [
    "course_name.upper()"
   ]
  },
  {
   "cell_type": "code",
   "execution_count": 109,
   "id": "ec2a0ae7-f03f-4445-b683-cb6735e6abe6",
   "metadata": {},
   "outputs": [
    {
     "data": {
      "text/plain": [
       "'data science masters'"
      ]
     },
     "execution_count": 109,
     "metadata": {},
     "output_type": "execute_result"
    }
   ],
   "source": [
    "course_name.lower()"
   ]
  },
  {
   "cell_type": "code",
   "execution_count": 110,
   "id": "70560468-aa59-4ae6-8ecc-5de583ef7926",
   "metadata": {},
   "outputs": [
    {
     "data": {
      "text/plain": [
       "'dATA sCIENCE mASTERS'"
      ]
     },
     "execution_count": 110,
     "metadata": {},
     "output_type": "execute_result"
    }
   ],
   "source": [
    "course_name.swapcase()"
   ]
  },
  {
   "cell_type": "code",
   "execution_count": 112,
   "id": "7eb8eafa-dbcb-4b51-aba3-08c2bbb9264c",
   "metadata": {},
   "outputs": [
    {
     "data": {
      "text/plain": [
       "'Data Science Masters'"
      ]
     },
     "execution_count": 112,
     "metadata": {},
     "output_type": "execute_result"
    }
   ],
   "source": [
    "course_name.title() ## Title case "
   ]
  },
  {
   "cell_type": "code",
   "execution_count": null,
   "id": "e00bd64d-ce7f-45c5-af6a-dbad5b76123a",
   "metadata": {},
   "outputs": [],
   "source": []
  }
 ],
 "metadata": {
  "kernelspec": {
   "display_name": "Python 3 (ipykernel)",
   "language": "python",
   "name": "python3"
  },
  "language_info": {
   "codemirror_mode": {
    "name": "ipython",
    "version": 3
   },
   "file_extension": ".py",
   "mimetype": "text/x-python",
   "name": "python",
   "nbconvert_exporter": "python",
   "pygments_lexer": "ipython3",
   "version": "3.10.8"
  }
 },
 "nbformat": 4,
 "nbformat_minor": 5
}
