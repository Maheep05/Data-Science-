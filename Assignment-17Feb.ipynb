{
 "cells": [
  {
   "cell_type": "markdown",
   "id": "08bf52b5-9710-4ab3-9a66-f2613ab43625",
   "metadata": {},
   "source": [
    "## 1).MongoDB is a popular NoSQL document-based database system that stores data in JSON-like documents. Non-relational databases are designed to store unstructured or semi-structured data that cannot be easily represented in tabular form like traditional SQL databases. Non-relational databases use various data models like document-oriented, key-value, graph, and column-family to store and retrieve data. Non-relational databases are often preferred in scenarios where the data is dynamic, unstructured, and needs to be scaled horizontally. MongoDB is preferred over SQL databases in scenarios where the data is semi-structured or unstructured, the data volume is high, and there is a need for high scalability and performance."
   ]
  },
  {
   "cell_type": "markdown",
   "id": "ff670706-76f2-432d-89c4-24c36789cc99",
   "metadata": {},
   "source": [
    "## 2).Features of MongoDB include:\n",
    "\n",
    "* Document-based data model\n",
    "* Dynamic schema\n",
    "* Scalability and high availability\n",
    "* Rich query language\n",
    "* Indexing and aggregation\n",
    "* GridFS for storing and retrieving large files\n",
    "* Support for sharding and replication"
   ]
  },
  {
   "cell_type": "markdown",
   "id": "250cc1eb-b814-4c64-b322-6c2ecb6caea9",
   "metadata": {},
   "source": [
    "## pip install pymongo\n",
    "## import pymongo\n",
    "\n",
    "## # Connect to MongoDB\n",
    "## client = pymongo.MongoClient(\"mongodb://localhost:****/\")\n",
    "\n",
    "# # Create a database\n",
    "## db = client[\"mydatabase\"]\n",
    "\n",
    "# # Create a collection\n",
    "## collection = db[\"mycollection\"]"
   ]
  },
  {
   "cell_type": "markdown",
   "id": "9c422da5-bd6a-4528-8b6b-63602602d716",
   "metadata": {},
   "source": [
    "4).# Insert one record\n",
    "record = {\"name\": \"John\", \"age\": 30, \"city\": \"New York\"}\n",
    "x = collection.insert_one(record)\n",
    "print(x.inserted_id)\n",
    "\n",
    "# Insert multiple records\n",
    "records = [  {\"name\": \"Jane\", \"age\": 25, \"city\": \"London\"},  {\"name\": \"Bob\", \"age\": 40, \"city\": \"Paris\"},  {\"name\": \"Alice\", \"age\": 35, \"city\": \"Tokyo\"}]\n",
    "x = collection.insert_many(records)\n",
    "print(x.inserted_ids)\n",
    "\n",
    "# Find one record\n",
    "x = collection.find_one()\n",
    "print(x)\n",
    "\n",
    "# Find all records\n",
    "for x in collect"
   ]
  },
  {
   "cell_type": "code",
   "execution_count": null,
   "id": "497a1ad2-bf2d-4e44-8030-293caf21169d",
   "metadata": {},
   "outputs": [],
   "source": []
  }
 ],
 "metadata": {
  "kernelspec": {
   "display_name": "Python 3 (ipykernel)",
   "language": "python",
   "name": "python3"
  },
  "language_info": {
   "codemirror_mode": {
    "name": "ipython",
    "version": 3
   },
   "file_extension": ".py",
   "mimetype": "text/x-python",
   "name": "python",
   "nbconvert_exporter": "python",
   "pygments_lexer": "ipython3",
   "version": "3.10.8"
  }
 },
 "nbformat": 4,
 "nbformat_minor": 5
}
