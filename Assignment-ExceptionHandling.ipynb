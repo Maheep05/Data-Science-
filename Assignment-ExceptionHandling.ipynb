{
 "cells": [
  {
   "cell_type": "markdown",
   "id": "81cac40a-22dd-4378-8bd6-d1ad8874ff8d",
   "metadata": {},
   "source": [
    "#### 1-->>An exception in Python is an abnormal event that occurs during the execution of a program and disrupts the normal flow of the program's instructions. Exception handling is a mechanism used to handle such exceptions and ensure that the program continues its execution. On the other hand, syntax errors are grammatical errors in the code that prevent it from executing and generate a syntax error message."
   ]
  },
  {
   "cell_type": "markdown",
   "id": "5a104087-4891-41d8-b099-6ce804b2d219",
   "metadata": {},
   "source": [
    "#### 2-->>If an exception is not handled in a Python program, the program will terminate abruptly and display an error message."
   ]
  },
  {
   "cell_type": "markdown",
   "id": "9097a556-ca40-4216-a1e6-b90a78fc78c7",
   "metadata": {},
   "source": [
    "#### 3-->>In Python, the try-except statement is used to handle exceptions"
   ]
  },
  {
   "cell_type": "code",
   "execution_count": 1,
   "id": "a755894c-cce7-40ec-b3fa-3e05fcc60e39",
   "metadata": {},
   "outputs": [
    {
     "name": "stdout",
     "output_type": "stream",
     "text": [
      "there is some issue with my code\n"
     ]
    }
   ],
   "source": [
    "try:\n",
    "    f.open(\"text2.txt\",\"r\")\n",
    "except:\n",
    "    print(\"there is some issue with my code\")"
   ]
  },
  {
   "cell_type": "markdown",
   "id": "af3f0fa6-9004-4134-804d-96d8a27ca6fd",
   "metadata": {},
   "source": [
    "#### 4-->>The \"try-except-else-finally\" statement in Python provides a way to handle exceptions and also specify blocks of code to be executed regardless of whether an exception occurs. The else clause is executed if no exception is raised in the try block. The finally clause is executed regardless of whether an exception is raised or not"
   ]
  },
  {
   "cell_type": "code",
   "execution_count": 2,
   "id": "38b5f155-3795-4b10-89da-ccd2cfba4d91",
   "metadata": {},
   "outputs": [
    {
     "name": "stdout",
     "output_type": "stream",
     "text": [
      "there is some issue with my code\n",
      "this block will be executed regardless of any exception is raised or not\n"
     ]
    }
   ],
   "source": [
    "try:\n",
    "    f.open(\"text2.txt\",\"w\")\n",
    "    f.write(\"this is first line of code\")\n",
    "except:\n",
    "    print(\"there is some issue with my code\")\n",
    "else:\n",
    "    f.close()\n",
    "    print(\"this block will execute once try will execute itself without an exception or any error\")\n",
    "finally:\n",
    "    print(\"this block will be executed regardless of any exception is raised or not\")"
   ]
  },
  {
   "cell_type": "markdown",
   "id": "a30ad77f-6bc1-41d1-8bdc-d73f669c2e7a",
   "metadata": {},
   "source": [
    "#### 5-->>Custom exceptions in Python are user-defined exceptions. They allow you to create custom exception classes with specific error messages and handling logic."
   ]
  },
  {
   "cell_type": "code",
   "execution_count": 4,
   "id": "b646902e-8901-4cd7-808b-8e3c0f7e491b",
   "metadata": {},
   "outputs": [],
   "source": [
    "# class CustomException(Exception):\n",
    "#     def __init__(self, message):\n",
    "#         self.message = message\n",
    "\n",
    "# raise CustomException(\"This is a custom exception\")"
   ]
  },
  {
   "cell_type": "code",
   "execution_count": 6,
   "id": "34fb0c70-254c-4785-8734-cc5359984531",
   "metadata": {},
   "outputs": [],
   "source": [
    "class valage(Exception):\n",
    "    def __init__(self,msg):\n",
    "        self.msg = msg"
   ]
  },
  {
   "cell_type": "code",
   "execution_count": 7,
   "id": "528a5698-3fef-4269-8d31-a1c3bffaf41e",
   "metadata": {},
   "outputs": [
    {
     "ename": "SyntaxError",
     "evalue": "incomplete input (3760671423.py, line 1)",
     "output_type": "error",
     "traceback": [
      "\u001b[0;36m  Cell \u001b[0;32mIn[7], line 1\u001b[0;36m\u001b[0m\n\u001b[0;31m    try:\u001b[0m\n\u001b[0m        ^\u001b[0m\n\u001b[0;31mSyntaxError\u001b[0m\u001b[0;31m:\u001b[0m incomplete input\n"
     ]
    }
   ],
   "source": [
    "try:\n",
    "    age = int(input(\"enter your age :\"))\n",
    "    if age<18:\n",
    "        raise valage(\"Application for Voter ID rejected\")\n",
    "except valage as e:\n",
    "    print(\"\")"
   ]
  },
  {
   "cell_type": "code",
   "execution_count": null,
   "id": "0f861ddd-f3d1-4f4c-ac33-34ec33ef5a64",
   "metadata": {},
   "outputs": [],
   "source": []
  }
 ],
 "metadata": {
  "kernelspec": {
   "display_name": "Python 3 (ipykernel)",
   "language": "python",
   "name": "python3"
  },
  "language_info": {
   "codemirror_mode": {
    "name": "ipython",
    "version": 3
   },
   "file_extension": ".py",
   "mimetype": "text/x-python",
   "name": "python",
   "nbconvert_exporter": "python",
   "pygments_lexer": "ipython3",
   "version": "3.10.8"
  }
 },
 "nbformat": 4,
 "nbformat_minor": 5
}
