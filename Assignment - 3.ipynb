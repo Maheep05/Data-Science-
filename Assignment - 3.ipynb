{
 "cells": [
  {
   "cell_type": "markdown",
   "id": "140d6361-49bf-44cc-b94a-923d257f8cb8",
   "metadata": {},
   "source": [
    "# Assignment - 3"
   ]
  },
  {
   "cell_type": "markdown",
   "id": "18f4aba0-0b72-4fa7-8ccb-2a1de456f5ae",
   "metadata": {},
   "source": [
    "* Tuples are an ordered collection of elements of different data types,we represent them by writing the elements inside the parenthesis separated by commas We can also define tuples as lists that we cannot change. Therefore, we can call them immutable tuples."
   ]
  },
  {
   "cell_type": "markdown",
   "id": "0c749552-7d14-4eff-87d7-5fdcc49c48f1",
   "metadata": {},
   "source": [
    "* There are only two tuple methods count() and index() that a tuple object can call.\n",
    "* We generally use tuples for heterogeneous (different) data types and lists for homogeneous (similar) data types.\n",
    "* Since tuples are immutable, iterating through a tuple is faster than with a list. So there is a slight performance boost.\n",
    "* Tuples that contain immutable elements can be used as a key for a dictionary. With lists, this is not possible."
   ]
  },
  {
   "cell_type": "markdown",
   "id": "d37e6c8c-c3c5-4fba-93e5-03c6d4613df8",
   "metadata": {},
   "source": [
    "* Sets Sets are a collection that is unordered and unindexed. They are mutable (changeable) but do not allow duplicate values to be held"
   ]
  },
  {
   "cell_type": "code",
   "execution_count": 1,
   "id": "7379be10-c20a-44ab-8cde-de9da9cea0cd",
   "metadata": {},
   "outputs": [
    {
     "name": "stdout",
     "output_type": "stream",
     "text": [
      "[1, 2, 3, 4]\n"
     ]
    }
   ],
   "source": [
    "List = [1, 1, 1, 2, 1, 3, 1, 4, 2, 1, 2, 2, 2, 3, 2, 4, 3, 1, 3, 2, 3, 3, 3, 4, 4, 1, 4, 2, 4, 3, 4, 4]\n",
    "FinalList = set(List)\n",
    "print(list(FinalList))"
   ]
  },
  {
   "cell_type": "markdown",
   "id": "7a84899e-8c1c-46cb-a6c8-228923f1690a",
   "metadata": {},
   "source": [
    "* The union() method returns a set that contains all items from the original set, and all items from the specified set(s).\n",
    "* The update() method updates the current set, by adding items from another set"
   ]
  },
  {
   "cell_type": "markdown",
   "id": "437fd768-0da7-4033-88b4-210b3b4c23b1",
   "metadata": {},
   "source": [
    "* The Dictionary is an unordered collection that contains key:value pairs separated by commas inside curly brackets.\n",
    "* THe Dictionaries are ordered, it means that the items have a defined order, and that order will not change.\n"
   ]
  },
  {
   "cell_type": "code",
   "execution_count": 2,
   "id": "f4a3196f-e822-477d-b955-8920febcc0b4",
   "metadata": {},
   "outputs": [],
   "source": [
    "d1 = {\"name\" : \"Maheep\",\"email\" : \"mm@mail.com\",\"number\" : 123456}\n",
    "# In the above example name,email,and number are keys whearas maheep mail and 123456 are values for the dictionaries"
   ]
  },
  {
   "cell_type": "markdown",
   "id": "bd6a09f1-a5fc-4cb0-b3cf-242fcf4aecbd",
   "metadata": {},
   "source": [
    "* a nested dictionary is a dictionary inside a dictionary. It's a collection of dictionaries into one single dictionary."
   ]
  },
  {
   "cell_type": "code",
   "execution_count": 3,
   "id": "f0e3222b-282d-40e7-8028-ca11cd3b0763",
   "metadata": {},
   "outputs": [],
   "source": [
    "d2 = {\"key\" : {\"name\" : \"Maheep\",\"class\" : \"BCA\"}}"
   ]
  },
  {
   "cell_type": "code",
   "execution_count": 6,
   "id": "7a296999-3029-43fb-8aac-162913816264",
   "metadata": {},
   "outputs": [
    {
     "ename": "SyntaxError",
     "evalue": "invalid syntax (2364878583.py, line 2)",
     "output_type": "error",
     "traceback": [
      "\u001b[0;36m  Cell \u001b[0;32mIn[6], line 2\u001b[0;36m\u001b[0m\n\u001b[0;31m    dict1.setdefault('topic' : 'Python','Machine Learning','Deep Learning')\u001b[0m\n\u001b[0m                             ^\u001b[0m\n\u001b[0;31mSyntaxError\u001b[0m\u001b[0;31m:\u001b[0m invalid syntax\n"
     ]
    }
   ],
   "source": [
    "dict1 = {'language' : 'Python', 'course': 'Data Science Masters'}\n",
    "dict1.setdefault('topic' : 'Python','Machine Learning','Deep Learning') "
   ]
  },
  {
   "cell_type": "markdown",
   "id": "023e0367-74e9-4ce4-b11c-e96653ea88fa",
   "metadata": {},
   "source": [
    "* The main view objects of dictionary in python are keys, values and items."
   ]
  },
  {
   "cell_type": "code",
   "execution_count": 7,
   "id": "ff247e7c-6216-4332-ad07-0075c28ab4e5",
   "metadata": {},
   "outputs": [],
   "source": [
    "dict2 = {'Sport': 'Cricket' , 'Teams': ['India', 'Australia', 'England', 'South Africa', 'Sri Lanka', 'New Zealand']}\n"
   ]
  },
  {
   "cell_type": "code",
   "execution_count": null,
   "id": "57e6a998-c1c2-4cc5-98fd-09926fb5fb2c",
   "metadata": {},
   "outputs": [],
   "source": []
  }
 ],
 "metadata": {
  "kernelspec": {
   "display_name": "Python 3 (ipykernel)",
   "language": "python",
   "name": "python3"
  },
  "language_info": {
   "codemirror_mode": {
    "name": "ipython",
    "version": 3
   },
   "file_extension": ".py",
   "mimetype": "text/x-python",
   "name": "python",
   "nbconvert_exporter": "python",
   "pygments_lexer": "ipython3",
   "version": "3.10.8"
  }
 },
 "nbformat": 4,
 "nbformat_minor": 5
}
