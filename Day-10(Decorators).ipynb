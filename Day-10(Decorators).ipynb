{
 "cells": [
  {
   "cell_type": "code",
   "execution_count": 4,
   "id": "2b42c064-026c-4815-b6f0-c13cb1bab074",
   "metadata": {},
   "outputs": [],
   "source": [
    "def test():\n",
    "    print(\"This is my start of the function\")\n",
    "    print(4+5)\n",
    "    print(\"This is my end of the function\")"
   ]
  },
  {
   "cell_type": "code",
   "execution_count": 5,
   "id": "e47027e0-2145-4be0-ad0b-6a4a2d6b5445",
   "metadata": {},
   "outputs": [
    {
     "name": "stdout",
     "output_type": "stream",
     "text": [
      "This is my start of the function\n",
      "9\n",
      "This is my end of the function\n"
     ]
    }
   ],
   "source": [
    "test()"
   ]
  },
  {
   "cell_type": "code",
   "execution_count": 6,
   "id": "79e83e5b-9cfc-45a7-b6eb-d62d90cc4752",
   "metadata": {},
   "outputs": [],
   "source": [
    "def deco(func):\n",
    "    def inner_deco():\n",
    "        print(\"This is my start of the function\")\n",
    "        func()\n",
    "        print(\"This is my end of the function\")\n",
    "    return inner_deco"
   ]
  },
  {
   "cell_type": "code",
   "execution_count": 11,
   "id": "dfb57d81-91bf-4a0f-af2f-99c7ad376712",
   "metadata": {},
   "outputs": [],
   "source": [
    "@deco\n",
    "def test1():\n",
    "    print(4+5)"
   ]
  },
  {
   "cell_type": "code",
   "execution_count": 12,
   "id": "4274b159-9255-42fa-96bd-7f33992401c1",
   "metadata": {},
   "outputs": [
    {
     "name": "stdout",
     "output_type": "stream",
     "text": [
      "This is my start of the function\n",
      "9\n",
      "This is my end of the function\n"
     ]
    }
   ],
   "source": [
    "test1()"
   ]
  },
  {
   "cell_type": "code",
   "execution_count": 13,
   "id": "e1f90c7e-9c13-4b62-8062-ee77b96ea9b4",
   "metadata": {},
   "outputs": [],
   "source": [
    "import time\n",
    "def timer_test(func):\n",
    "    def timer_test_inner():\n",
    "        start = time.time()\n",
    "        func()\n",
    "        end = time.time()\n",
    "        print(end-start)\n",
    "    return timer_test_inner()"
   ]
  },
  {
   "cell_type": "code",
   "execution_count": 19,
   "id": "a1442e6b-3900-463d-895c-0d8c87688811",
   "metadata": {},
   "outputs": [
    {
     "name": "stdout",
     "output_type": "stream",
     "text": [
      "2000\n",
      "4.9591064453125e-05\n"
     ]
    }
   ],
   "source": [
    "@timer_test\n",
    "def test2():\n",
    "    print(1000+1000)"
   ]
  },
  {
   "cell_type": "code",
   "execution_count": 22,
   "id": "e6c93e64-836f-431e-9e01-1cc2e46c3ad9",
   "metadata": {},
   "outputs": [
    {
     "name": "stdout",
     "output_type": "stream",
     "text": [
      "0.014272689819335938\n"
     ]
    }
   ],
   "source": [
    "@timer_test\n",
    "def test3():\n",
    "    for i in range(500000):\n",
    "        pass"
   ]
  },
  {
   "cell_type": "markdown",
   "id": "0cf975cc-2528-4634-a860-74be1eb1f232",
   "metadata": {},
   "source": [
    "# Class Methods"
   ]
  },
  {
   "cell_type": "code",
   "execution_count": 24,
   "id": "b9c74010-e749-48b8-8a38-1dfd66926ac4",
   "metadata": {},
   "outputs": [],
   "source": [
    "class skills:\n",
    "    def __init__(self,name,email):\n",
    "        self.name = name\n",
    "        self.email = email\n",
    "    def students_detail(self):\n",
    "        print(self.name,self.email)"
   ]
  },
  {
   "cell_type": "code",
   "execution_count": 25,
   "id": "d8bbd744-ce2b-4ce2-bfd8-3bff9a8397d8",
   "metadata": {},
   "outputs": [],
   "source": [
    "skill = skills(\"hello\",\"hello@mail.com\")"
   ]
  },
  {
   "cell_type": "code",
   "execution_count": 26,
   "id": "e66b90b4-ce32-41a2-8db6-17c53178b903",
   "metadata": {},
   "outputs": [
    {
     "data": {
      "text/plain": [
       "'hello@mail.com'"
      ]
     },
     "execution_count": 26,
     "metadata": {},
     "output_type": "execute_result"
    }
   ],
   "source": [
    "skill.email"
   ]
  },
  {
   "cell_type": "code",
   "execution_count": 32,
   "id": "40900d56-828b-488d-b838-f37a22124950",
   "metadata": {},
   "outputs": [],
   "source": [
    "class skills:\n",
    "    def __init__(self,name,email):\n",
    "        self.name = name\n",
    "        self.email = email\n",
    "        \n",
    "    @classmethod\n",
    "    def details(cls,name1,email1):\n",
    "        return cls(name1,email1)\n",
    "            \n",
    "        \n",
    "    def students_detail(self):\n",
    "        print(self.name,self.email)"
   ]
  },
  {
   "cell_type": "code",
   "execution_count": 33,
   "id": "ab9e19b7-5a47-4a29-9710-c38a6b8bfe58",
   "metadata": {},
   "outputs": [],
   "source": [
    "skil = skills.details(\"hello\",\"hello@mail.com\")"
   ]
  },
  {
   "cell_type": "code",
   "execution_count": 35,
   "id": "faa2ab9a-655f-459a-aca2-329d4a1282be",
   "metadata": {},
   "outputs": [
    {
     "data": {
      "text/plain": [
       "'hello'"
      ]
     },
     "execution_count": 35,
     "metadata": {},
     "output_type": "execute_result"
    }
   ],
   "source": [
    "skil.name"
   ]
  },
  {
   "cell_type": "code",
   "execution_count": 44,
   "id": "58a40638-8eff-4c7f-bbfe-3842751189fc",
   "metadata": {},
   "outputs": [],
   "source": [
    "class skills:\n",
    "    \n",
    "    mobile_number = 123456\n",
    "    \n",
    "    def __init__(self,name,email):\n",
    "        self.name = name\n",
    "        self.email = email\n",
    "        \n",
    "    @classmethod\n",
    "    def change_number(clas,mobile):\n",
    "        skills.mobile_number = mobile \n",
    "        \n",
    "    @classmethod\n",
    "    def details(cls,name1,email1):\n",
    "        return cls(name1,email1)\n",
    "            \n",
    "        \n",
    "    def students_detail(self):\n",
    "        print(self.name,self.email,skills.mobile_number)"
   ]
  },
  {
   "cell_type": "code",
   "execution_count": 45,
   "id": "8cc7049d-4fc0-4659-a8a0-08d7e1547aa5",
   "metadata": {},
   "outputs": [
    {
     "data": {
      "text/plain": [
       "123456"
      ]
     },
     "execution_count": 45,
     "metadata": {},
     "output_type": "execute_result"
    }
   ],
   "source": [
    "skills.mobile_number"
   ]
  },
  {
   "cell_type": "code",
   "execution_count": 46,
   "id": "71f7e736-4468-447c-b227-8dd7dfb7738c",
   "metadata": {},
   "outputs": [],
   "source": [
    "sk = skills.details(\"hello\",\"hello@mail.com\")"
   ]
  },
  {
   "cell_type": "code",
   "execution_count": 47,
   "id": "61bc20f0-da16-415a-94e4-8d8546545b28",
   "metadata": {},
   "outputs": [
    {
     "data": {
      "text/plain": [
       "<bound method skills.students_detail of <__main__.skills object at 0x7f83f7c6aaa0>>"
      ]
     },
     "execution_count": 47,
     "metadata": {},
     "output_type": "execute_result"
    }
   ],
   "source": [
    "sk.students_detail"
   ]
  },
  {
   "cell_type": "code",
   "execution_count": 48,
   "id": "c102c9f9-5451-4bc1-8962-bbfbd2fbb63b",
   "metadata": {},
   "outputs": [],
   "source": [
    "skills.change_number(123454312)"
   ]
  },
  {
   "cell_type": "code",
   "execution_count": 49,
   "id": "8d97e53b-bbeb-40ef-80ae-e89842ff1ce7",
   "metadata": {},
   "outputs": [
    {
     "data": {
      "text/plain": [
       "123454312"
      ]
     },
     "execution_count": 49,
     "metadata": {},
     "output_type": "execute_result"
    }
   ],
   "source": [
    "skills.mobile_number"
   ]
  },
  {
   "cell_type": "markdown",
   "id": "f065c969-5351-44ab-af5c-c3b0a38e9d90",
   "metadata": {},
   "source": [
    "# Static Method"
   ]
  },
  {
   "cell_type": "markdown",
   "id": "adeb2cb2-96f8-4604-85ed-48cc5120323b",
   "metadata": {},
   "source": [
    "# Special(Magic or Dunder method)"
   ]
  },
  {
   "cell_type": "code",
   "execution_count": 50,
   "id": "0edad2ea-9241-40b0-9835-7bec169be008",
   "metadata": {},
   "outputs": [
    {
     "data": {
      "text/plain": [
       "['__abs__',\n",
       " '__add__',\n",
       " '__and__',\n",
       " '__bool__',\n",
       " '__ceil__',\n",
       " '__class__',\n",
       " '__delattr__',\n",
       " '__dir__',\n",
       " '__divmod__',\n",
       " '__doc__',\n",
       " '__eq__',\n",
       " '__float__',\n",
       " '__floor__',\n",
       " '__floordiv__',\n",
       " '__format__',\n",
       " '__ge__',\n",
       " '__getattribute__',\n",
       " '__getnewargs__',\n",
       " '__gt__',\n",
       " '__hash__',\n",
       " '__index__',\n",
       " '__init__',\n",
       " '__init_subclass__',\n",
       " '__int__',\n",
       " '__invert__',\n",
       " '__le__',\n",
       " '__lshift__',\n",
       " '__lt__',\n",
       " '__mod__',\n",
       " '__mul__',\n",
       " '__ne__',\n",
       " '__neg__',\n",
       " '__new__',\n",
       " '__or__',\n",
       " '__pos__',\n",
       " '__pow__',\n",
       " '__radd__',\n",
       " '__rand__',\n",
       " '__rdivmod__',\n",
       " '__reduce__',\n",
       " '__reduce_ex__',\n",
       " '__repr__',\n",
       " '__rfloordiv__',\n",
       " '__rlshift__',\n",
       " '__rmod__',\n",
       " '__rmul__',\n",
       " '__ror__',\n",
       " '__round__',\n",
       " '__rpow__',\n",
       " '__rrshift__',\n",
       " '__rshift__',\n",
       " '__rsub__',\n",
       " '__rtruediv__',\n",
       " '__rxor__',\n",
       " '__setattr__',\n",
       " '__sizeof__',\n",
       " '__str__',\n",
       " '__sub__',\n",
       " '__subclasshook__',\n",
       " '__truediv__',\n",
       " '__trunc__',\n",
       " '__xor__',\n",
       " 'as_integer_ratio',\n",
       " 'bit_count',\n",
       " 'bit_length',\n",
       " 'conjugate',\n",
       " 'denominator',\n",
       " 'from_bytes',\n",
       " 'imag',\n",
       " 'numerator',\n",
       " 'real',\n",
       " 'to_bytes']"
      ]
     },
     "execution_count": 50,
     "metadata": {},
     "output_type": "execute_result"
    }
   ],
   "source": [
    "dir(int)"
   ]
  },
  {
   "cell_type": "code",
   "execution_count": 51,
   "id": "c34b94f1-128f-4691-bd93-482259bc8314",
   "metadata": {},
   "outputs": [],
   "source": [
    "a = 20\n"
   ]
  },
  {
   "cell_type": "code",
   "execution_count": 52,
   "id": "b63d0527-beb0-4065-aed8-afd4e397f310",
   "metadata": {},
   "outputs": [
    {
     "data": {
      "text/plain": [
       "26"
      ]
     },
     "execution_count": 52,
     "metadata": {},
     "output_type": "execute_result"
    }
   ],
   "source": [
    "a + 6"
   ]
  },
  {
   "cell_type": "code",
   "execution_count": 53,
   "id": "17a6e434-f159-47c6-a7d3-10ee56ba98c6",
   "metadata": {},
   "outputs": [
    {
     "data": {
      "text/plain": [
       "26"
      ]
     },
     "execution_count": 53,
     "metadata": {},
     "output_type": "execute_result"
    }
   ],
   "source": [
    "a.__add__(6)"
   ]
  },
  {
   "cell_type": "code",
   "execution_count": 54,
   "id": "a27bda67-8a67-4a60-9b85-f2abec32f94a",
   "metadata": {},
   "outputs": [
    {
     "data": {
      "text/plain": [
       "['__add__',\n",
       " '__class__',\n",
       " '__contains__',\n",
       " '__delattr__',\n",
       " '__dir__',\n",
       " '__doc__',\n",
       " '__eq__',\n",
       " '__format__',\n",
       " '__ge__',\n",
       " '__getattribute__',\n",
       " '__getitem__',\n",
       " '__getnewargs__',\n",
       " '__gt__',\n",
       " '__hash__',\n",
       " '__init__',\n",
       " '__init_subclass__',\n",
       " '__iter__',\n",
       " '__le__',\n",
       " '__len__',\n",
       " '__lt__',\n",
       " '__mod__',\n",
       " '__mul__',\n",
       " '__ne__',\n",
       " '__new__',\n",
       " '__reduce__',\n",
       " '__reduce_ex__',\n",
       " '__repr__',\n",
       " '__rmod__',\n",
       " '__rmul__',\n",
       " '__setattr__',\n",
       " '__sizeof__',\n",
       " '__str__',\n",
       " '__subclasshook__',\n",
       " 'capitalize',\n",
       " 'casefold',\n",
       " 'center',\n",
       " 'count',\n",
       " 'encode',\n",
       " 'endswith',\n",
       " 'expandtabs',\n",
       " 'find',\n",
       " 'format',\n",
       " 'format_map',\n",
       " 'index',\n",
       " 'isalnum',\n",
       " 'isalpha',\n",
       " 'isascii',\n",
       " 'isdecimal',\n",
       " 'isdigit',\n",
       " 'isidentifier',\n",
       " 'islower',\n",
       " 'isnumeric',\n",
       " 'isprintable',\n",
       " 'isspace',\n",
       " 'istitle',\n",
       " 'isupper',\n",
       " 'join',\n",
       " 'ljust',\n",
       " 'lower',\n",
       " 'lstrip',\n",
       " 'maketrans',\n",
       " 'partition',\n",
       " 'removeprefix',\n",
       " 'removesuffix',\n",
       " 'replace',\n",
       " 'rfind',\n",
       " 'rindex',\n",
       " 'rjust',\n",
       " 'rpartition',\n",
       " 'rsplit',\n",
       " 'rstrip',\n",
       " 'split',\n",
       " 'splitlines',\n",
       " 'startswith',\n",
       " 'strip',\n",
       " 'swapcase',\n",
       " 'title',\n",
       " 'translate',\n",
       " 'upper',\n",
       " 'zfill']"
      ]
     },
     "execution_count": 54,
     "metadata": {},
     "output_type": "execute_result"
    }
   ],
   "source": [
    "dir(str)"
   ]
  },
  {
   "cell_type": "code",
   "execution_count": 58,
   "id": "b157cb76-f763-4eda-a005-bece3d3f2011",
   "metadata": {},
   "outputs": [],
   "source": [
    "class skills:\n",
    "    def __new__(cls):\n",
    "        print(\"this is my new\")\n",
    "    def __init__(self):\n",
    "        print(\"this is my init\")"
   ]
  },
  {
   "cell_type": "code",
   "execution_count": 59,
   "id": "c2edb7ea-217f-4f48-bd53-dcb3f082c096",
   "metadata": {},
   "outputs": [
    {
     "name": "stdout",
     "output_type": "stream",
     "text": [
      "this is my new\n"
     ]
    }
   ],
   "source": [
    "ski = skills()\n"
   ]
  },
  {
   "cell_type": "code",
   "execution_count": 63,
   "id": "3900c4b7-e998-41d4-be0e-ac985ae2f3c4",
   "metadata": {},
   "outputs": [],
   "source": [
    "class skills1:\n",
    "    def __init__(self):\n",
    "        self.number = 123456\n",
    "    def __str__(self):\n",
    "        return \"this is my magic method which will print something fro print\""
   ]
  },
  {
   "cell_type": "code",
   "execution_count": 64,
   "id": "070efc66-1472-4d21-b950-4921ea3cffe4",
   "metadata": {},
   "outputs": [],
   "source": [
    "ski1 = skills1()"
   ]
  },
  {
   "cell_type": "code",
   "execution_count": 65,
   "id": "3101e569-73b9-4622-bac7-dd5ecbf9a383",
   "metadata": {},
   "outputs": [
    {
     "data": {
      "text/plain": [
       "<__main__.skills1 at 0x7f83f7de67d0>"
      ]
     },
     "execution_count": 65,
     "metadata": {},
     "output_type": "execute_result"
    }
   ],
   "source": [
    "ski1\n"
   ]
  },
  {
   "cell_type": "code",
   "execution_count": 66,
   "id": "9abf63b2-85ef-433a-a276-1f34ccc38338",
   "metadata": {},
   "outputs": [
    {
     "name": "stdout",
     "output_type": "stream",
     "text": [
      "this is my magic method which will print something fro print\n"
     ]
    }
   ],
   "source": [
    "print(ski1)"
   ]
  },
  {
   "cell_type": "markdown",
   "id": "11bc107f-19ae-413e-89fe-757f87b8638d",
   "metadata": {},
   "source": [
    "# Property Decorators Getters, Setters, And Deletes"
   ]
  },
  {
   "cell_type": "code",
   "execution_count": 85,
   "id": "4a4e7243-8377-4f54-a35c-3cbcb5165fcf",
   "metadata": {},
   "outputs": [],
   "source": [
    "class skills:\n",
    "    def __init__(self,course_price,course_name):\n",
    "        self.__course_price = course_price\n",
    "        self.course_name = course_name\n",
    "        \n",
    "    @property\n",
    "    def course_price_access(self):\n",
    "        return self.__course_price\n",
    "    \n",
    "    @course_price_access.setter\n",
    "    def course_price_set(self,price):\n",
    "        if price <= 2000:\n",
    "            pass\n",
    "        else:\n",
    "            self.__course_price = price\n",
    "            \n",
    "    @course_price_access.deleter\n",
    "    def course_price_del(self):\n",
    "        del self.__course_price"
   ]
  },
  {
   "cell_type": "code",
   "execution_count": 86,
   "id": "bf807113-0afd-406e-93a2-68a9c2512d53",
   "metadata": {},
   "outputs": [],
   "source": [
    "ski = skills(2000,\"hello\")"
   ]
  },
  {
   "cell_type": "code",
   "execution_count": 87,
   "id": "e7680acc-d755-4e89-891f-545a804f0fc3",
   "metadata": {},
   "outputs": [
    {
     "data": {
      "text/plain": [
       "'hello'"
      ]
     },
     "execution_count": 87,
     "metadata": {},
     "output_type": "execute_result"
    }
   ],
   "source": [
    "ski.course_name"
   ]
  },
  {
   "cell_type": "code",
   "execution_count": 88,
   "id": "e260972f-d494-4475-86cc-090f75dcfa5c",
   "metadata": {},
   "outputs": [
    {
     "data": {
      "text/plain": [
       "2000"
      ]
     },
     "execution_count": 88,
     "metadata": {},
     "output_type": "execute_result"
    }
   ],
   "source": [
    "ski.course_price_access"
   ]
  },
  {
   "cell_type": "code",
   "execution_count": 89,
   "id": "ca8cf2b1-9bf7-4bbc-9803-5a408f159179",
   "metadata": {},
   "outputs": [],
   "source": [
    "ski.course_price_set = 1800"
   ]
  },
  {
   "cell_type": "code",
   "execution_count": 90,
   "id": "ffc117c1-1321-4a5f-8f34-7d598e691de7",
   "metadata": {},
   "outputs": [],
   "source": [
    "ski.course_price_set = 2200"
   ]
  },
  {
   "cell_type": "code",
   "execution_count": 91,
   "id": "2401ce2a-12e4-4d56-bbfa-c05bda8ccb23",
   "metadata": {},
   "outputs": [
    {
     "data": {
      "text/plain": [
       "2200"
      ]
     },
     "execution_count": 91,
     "metadata": {},
     "output_type": "execute_result"
    }
   ],
   "source": [
    "ski.course_price_access\n"
   ]
  },
  {
   "cell_type": "code",
   "execution_count": null,
   "id": "291c46ca-9f8b-4874-8603-bd38add31029",
   "metadata": {},
   "outputs": [],
   "source": []
  }
 ],
 "metadata": {
  "kernelspec": {
   "display_name": "Python 3 (ipykernel)",
   "language": "python",
   "name": "python3"
  },
  "language_info": {
   "codemirror_mode": {
    "name": "ipython",
    "version": 3
   },
   "file_extension": ".py",
   "mimetype": "text/x-python",
   "name": "python",
   "nbconvert_exporter": "python",
   "pygments_lexer": "ipython3",
   "version": "3.10.8"
  }
 },
 "nbformat": 4,
 "nbformat_minor": 5
}
