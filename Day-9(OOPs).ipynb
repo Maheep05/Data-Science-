{
 "cells": [
  {
   "cell_type": "code",
   "execution_count": 1,
   "id": "bd746e65-32f1-4918-a789-01ec2d4e5386",
   "metadata": {},
   "outputs": [],
   "source": [
    "def test(a,b):\n",
    "    return a+b"
   ]
  },
  {
   "cell_type": "code",
   "execution_count": 2,
   "id": "a3886418-8bf0-45ea-876a-5f0b6ae5105a",
   "metadata": {},
   "outputs": [
    {
     "data": {
      "text/plain": [
       "4"
      ]
     },
     "execution_count": 2,
     "metadata": {},
     "output_type": "execute_result"
    }
   ],
   "source": [
    "test(2,2)"
   ]
  },
  {
   "cell_type": "code",
   "execution_count": 3,
   "id": "8976add1-ee23-465d-9d5e-9ee7e900bdc9",
   "metadata": {},
   "outputs": [
    {
     "data": {
      "text/plain": [
       "'helloworld'"
      ]
     },
     "execution_count": 3,
     "metadata": {},
     "output_type": "execute_result"
    }
   ],
   "source": [
    "test(\"hello\",\"world\")"
   ]
  },
  {
   "cell_type": "code",
   "execution_count": 4,
   "id": "663f3d8a-0dca-4f82-80ee-c220b18f89d3",
   "metadata": {},
   "outputs": [
    {
     "ename": "SyntaxError",
     "evalue": "invalid syntax (1748677458.py, line 1)",
     "output_type": "error",
     "traceback": [
      "\u001b[0;36m  Cell \u001b[0;32mIn[4], line 1\u001b[0;36m\u001b[0m\n\u001b[0;31m    Polymorphism--->>>MUltiple\u001b[0m\n\u001b[0m                  ^\u001b[0m\n\u001b[0;31mSyntaxError\u001b[0m\u001b[0;31m:\u001b[0m invalid syntax\n"
     ]
    }
   ],
   "source": [
    "Polymorphism--->>>MUltiple "
   ]
  },
  {
   "cell_type": "code",
   "execution_count": 5,
   "id": "4e8f5bd1-ca77-4e7c-9ba1-f08b2d84c3b8",
   "metadata": {},
   "outputs": [
    {
     "data": {
      "text/plain": [
       "[2, 3, 4, 5, 6, 7, 8, 9]"
      ]
     },
     "execution_count": 5,
     "metadata": {},
     "output_type": "execute_result"
    }
   ],
   "source": [
    "test([2,3,4,5],[6,7,8,9])"
   ]
  },
  {
   "cell_type": "code",
   "execution_count": 6,
   "id": "cb3f2801-c5ba-42f3-b927-9714d71a83ce",
   "metadata": {},
   "outputs": [],
   "source": [
    "class data_science:\n",
    "    def syllabus(self):\n",
    "        print(\"this is my method for data science syllabus\")"
   ]
  },
  {
   "cell_type": "code",
   "execution_count": 7,
   "id": "189d0c1f-13c4-4bf3-a034-5ca293ed5103",
   "metadata": {},
   "outputs": [],
   "source": [
    "class web_dev:\n",
    "    def syllabus(self):\n",
    "        print(\"this is my method for web dev\")"
   ]
  },
  {
   "cell_type": "code",
   "execution_count": 8,
   "id": "0aedda54-b484-4fc3-abce-eb4f3b18a033",
   "metadata": {},
   "outputs": [],
   "source": [
    "def class_parcer(class_obj):\n",
    "    for i in class_obj:\n",
    "        i.syllabus()"
   ]
  },
  {
   "cell_type": "code",
   "execution_count": 9,
   "id": "a7e47831-319d-42a0-a4aa-bca8bb1d2b10",
   "metadata": {},
   "outputs": [],
   "source": [
    "obj_data_science = data_science()"
   ]
  },
  {
   "cell_type": "code",
   "execution_count": 10,
   "id": "ad06aa43-774b-4b98-97f7-9dba14128671",
   "metadata": {},
   "outputs": [],
   "source": [
    "obj_web_dev = web_dev()"
   ]
  },
  {
   "cell_type": "code",
   "execution_count": 11,
   "id": "3e2514c1-d210-4333-9a25-c5322495fab1",
   "metadata": {},
   "outputs": [],
   "source": [
    "class_obj = [obj_data_science,obj_web_dev]"
   ]
  },
  {
   "cell_type": "code",
   "execution_count": 13,
   "id": "0136d7e0-44e9-407b-9aea-cbe877b712fd",
   "metadata": {},
   "outputs": [
    {
     "name": "stdout",
     "output_type": "stream",
     "text": [
      "this is my method for data science syllabus\n",
      "this is my method for web dev\n"
     ]
    }
   ],
   "source": [
    "class_parcer(class_obj)"
   ]
  },
  {
   "cell_type": "markdown",
   "id": "d1cca1e1-773c-4131-8c32-4c38f5dba22c",
   "metadata": {},
   "source": [
    "# Encapsulation"
   ]
  },
  {
   "cell_type": "code",
   "execution_count": 15,
   "id": "a008b26b-9c0f-4ddb-bc72-cd82e63c1ec0",
   "metadata": {},
   "outputs": [],
   "source": [
    "class test:\n",
    "    def __init__(self,a,b):\n",
    "        self.a=a\n",
    "        self.b=b"
   ]
  },
  {
   "cell_type": "code",
   "execution_count": 16,
   "id": "197d8339-3d7c-4109-a424-8d54ebf4621a",
   "metadata": {},
   "outputs": [],
   "source": [
    "t= test(40,50)"
   ]
  },
  {
   "cell_type": "code",
   "execution_count": 17,
   "id": "3eede3a2-57ad-42c8-83c9-2b75ed043c99",
   "metadata": {},
   "outputs": [
    {
     "data": {
      "text/plain": [
       "40"
      ]
     },
     "execution_count": 17,
     "metadata": {},
     "output_type": "execute_result"
    }
   ],
   "source": [
    "t.a"
   ]
  },
  {
   "cell_type": "code",
   "execution_count": 18,
   "id": "72f70ad9-b939-489a-af3e-9fcdec7534f5",
   "metadata": {},
   "outputs": [
    {
     "data": {
      "text/plain": [
       "50"
      ]
     },
     "execution_count": 18,
     "metadata": {},
     "output_type": "execute_result"
    }
   ],
   "source": [
    "t.b"
   ]
  },
  {
   "cell_type": "code",
   "execution_count": 19,
   "id": "a274cd8f-125b-419b-991c-f654621919a4",
   "metadata": {},
   "outputs": [],
   "source": [
    "t.a = 3245"
   ]
  },
  {
   "cell_type": "code",
   "execution_count": 20,
   "id": "1e546f08-cae8-497c-84ce-561b4a35b530",
   "metadata": {},
   "outputs": [
    {
     "data": {
      "text/plain": [
       "3245"
      ]
     },
     "execution_count": 20,
     "metadata": {},
     "output_type": "execute_result"
    }
   ],
   "source": [
    "t.a"
   ]
  },
  {
   "cell_type": "code",
   "execution_count": 22,
   "id": "045e6695-20e2-4f98-ac53-6445455128b2",
   "metadata": {},
   "outputs": [],
   "source": [
    "class car:\n",
    "    def __init__(self,year,make,model,speed):\n",
    "        self.__year = year\n",
    "        self.__make = make\n",
    "        self.__model = model\n",
    "        self.__speed = 0\n",
    "    def set_speed(self,speed):\n",
    "        self.__speed = 0 if speed<0 else speed\n",
    "    def get_speed(self):\n",
    "        return self.__speed\n",
    "    "
   ]
  },
  {
   "cell_type": "code",
   "execution_count": 27,
   "id": "e8ec10b9-c0fd-4fc9-aa33-43ac5fd7016f",
   "metadata": {},
   "outputs": [
    {
     "ename": "AttributeError",
     "evalue": "'car' object has no attribute 'get_speed'",
     "output_type": "error",
     "traceback": [
      "\u001b[0;31m---------------------------------------------------------------------------\u001b[0m",
      "\u001b[0;31mAttributeError\u001b[0m                            Traceback (most recent call last)",
      "Cell \u001b[0;32mIn[27], line 1\u001b[0m\n\u001b[0;32m----> 1\u001b[0m \u001b[43mobj_car\u001b[49m\u001b[38;5;241;43m.\u001b[39;49m\u001b[43mget_speed\u001b[49m(\u001b[38;5;241m234\u001b[39m)\n",
      "\u001b[0;31mAttributeError\u001b[0m: 'car' object has no attribute 'get_speed'"
     ]
    }
   ],
   "source": [
    "obj_car.get_speed(234)"
   ]
  },
  {
   "cell_type": "code",
   "execution_count": 23,
   "id": "e08bb5c5-6ce6-4bc1-b769-0b74892639c7",
   "metadata": {},
   "outputs": [],
   "source": [
    "obj_car = car(2021,\"toyota\",\"innova\",14)"
   ]
  },
  {
   "cell_type": "code",
   "execution_count": 24,
   "id": "e85aa1b1-63ab-45da-be70-49e7b89b0444",
   "metadata": {},
   "outputs": [],
   "source": [
    "obj_car._car__year = 2023"
   ]
  },
  {
   "cell_type": "code",
   "execution_count": 25,
   "id": "74540a72-c1e5-4ad2-b49b-8bec7d638698",
   "metadata": {},
   "outputs": [
    {
     "data": {
      "text/plain": [
       "2023"
      ]
     },
     "execution_count": 25,
     "metadata": {},
     "output_type": "execute_result"
    }
   ],
   "source": [
    "obj_car._car__year"
   ]
  },
  {
   "cell_type": "code",
   "execution_count": 44,
   "id": "0a1f814a-b74c-4dd3-b4d2-1d2ca8d8df06",
   "metadata": {},
   "outputs": [],
   "source": [
    "class bank_account:\n",
    "    def __init__(self,balance):\n",
    "        self.__balance = balance\n",
    "    def deposit(self,amount):\n",
    "        self.__balance = self.__balance + amount\n",
    "    def withdraw(self,amount):\n",
    "        if self.__balance>=amount:\n",
    "            self.__balance=self.__balance - amount\n",
    "            return True\n",
    "        else: \n",
    "            return False\n",
    "    def get_balance(self):\n",
    "        return self.__balance"
   ]
  },
  {
   "cell_type": "code",
   "execution_count": 45,
   "id": "5ea9b264-c20e-4352-a82a-cbe0289a606e",
   "metadata": {},
   "outputs": [],
   "source": [
    "obj_bank_account = bank_account(1000)"
   ]
  },
  {
   "cell_type": "code",
   "execution_count": 46,
   "id": "2d8750fd-ac4f-4a10-92c9-282377514522",
   "metadata": {},
   "outputs": [
    {
     "data": {
      "text/plain": [
       "1000"
      ]
     },
     "execution_count": 46,
     "metadata": {},
     "output_type": "execute_result"
    }
   ],
   "source": [
    "obj_bank_account.get_balance()"
   ]
  },
  {
   "cell_type": "code",
   "execution_count": 47,
   "id": "263d6de4-8d88-4e54-9c61-fdff9b633460",
   "metadata": {},
   "outputs": [
    {
     "data": {
      "text/plain": [
       "False"
      ]
     },
     "execution_count": 47,
     "metadata": {},
     "output_type": "execute_result"
    }
   ],
   "source": [
    "obj_bank_account.withdraw(20000)"
   ]
  },
  {
   "cell_type": "code",
   "execution_count": 48,
   "id": "eead5208-090e-4706-b312-1ca4cb8505d6",
   "metadata": {},
   "outputs": [],
   "source": [
    "obj_bank_account.deposit(100000)"
   ]
  },
  {
   "cell_type": "code",
   "execution_count": 49,
   "id": "e5bd7fed-7b80-4db6-8421-6ba210ce236d",
   "metadata": {},
   "outputs": [
    {
     "data": {
      "text/plain": [
       "101000"
      ]
     },
     "execution_count": 49,
     "metadata": {},
     "output_type": "execute_result"
    }
   ],
   "source": [
    "obj_bank_account.get_balance()"
   ]
  },
  {
   "cell_type": "code",
   "execution_count": 51,
   "id": "0d95ae37-3057-4c44-9ef1-a4e5736aa8cc",
   "metadata": {},
   "outputs": [
    {
     "data": {
      "text/plain": [
       "True"
      ]
     },
     "execution_count": 51,
     "metadata": {},
     "output_type": "execute_result"
    }
   ],
   "source": [
    "obj_bank_account.withdraw(10000)"
   ]
  },
  {
   "cell_type": "markdown",
   "id": "f02b33b2-5fa2-416c-a955-2a2286a53e1a",
   "metadata": {},
   "source": [
    "# Inheritance"
   ]
  },
  {
   "cell_type": "code",
   "execution_count": 52,
   "id": "44637381-e2ba-4005-a86b-d30312e14516",
   "metadata": {},
   "outputs": [],
   "source": [
    "class parent:\n",
    "    def test_parent(self):\n",
    "        print(\"This is my parent class\")"
   ]
  },
  {
   "cell_type": "code",
   "execution_count": 55,
   "id": "be9bb82a-8f87-47db-a18a-0efd330f1414",
   "metadata": {},
   "outputs": [],
   "source": [
    "class child(parent):\n",
    "    pass"
   ]
  },
  {
   "cell_type": "code",
   "execution_count": 56,
   "id": "1554fda4-624c-4319-913f-ee7546ef7b20",
   "metadata": {},
   "outputs": [],
   "source": [
    "child_obj = child()"
   ]
  },
  {
   "cell_type": "code",
   "execution_count": 57,
   "id": "33bcbbd8-8cc4-46ad-a70a-937db9fd7c9c",
   "metadata": {},
   "outputs": [
    {
     "name": "stdout",
     "output_type": "stream",
     "text": [
      "This is my parent class\n"
     ]
    }
   ],
   "source": [
    "child_obj.test_parent()"
   ]
  },
  {
   "cell_type": "code",
   "execution_count": 58,
   "id": "47e10ed0-1343-4129-88af-a93f2e07ca09",
   "metadata": {},
   "outputs": [],
   "source": [
    "class class1():\n",
    "    def test_class1(self):\n",
    "        print(\"This is my class1\")"
   ]
  },
  {
   "cell_type": "code",
   "execution_count": 59,
   "id": "0c3431f3-5ff0-41b6-a1c7-20a596f6a097",
   "metadata": {},
   "outputs": [],
   "source": [
    "class class2(class1):\n",
    "    def test_class2(self):\n",
    "        print(\"This is my class2\")"
   ]
  },
  {
   "cell_type": "code",
   "execution_count": 60,
   "id": "ea715603-e9a7-4b5b-bca1-6b068a6f0894",
   "metadata": {},
   "outputs": [],
   "source": [
    "class class3(class2):\n",
    "    def test_class3(self):\n",
    "        print(\"This is my class3\")"
   ]
  },
  {
   "cell_type": "code",
   "execution_count": 61,
   "id": "40ceff80-9c9d-452f-8198-372276e3b4d0",
   "metadata": {},
   "outputs": [],
   "source": [
    "obj_class3 = class3()"
   ]
  },
  {
   "cell_type": "code",
   "execution_count": 62,
   "id": "fe73f185-f1ef-4277-a417-cdc00bb13145",
   "metadata": {},
   "outputs": [
    {
     "name": "stdout",
     "output_type": "stream",
     "text": [
      "This is my class1\n"
     ]
    }
   ],
   "source": [
    "obj_class3.test_class1()"
   ]
  },
  {
   "cell_type": "code",
   "execution_count": 63,
   "id": "baf718cd-0058-4b53-89aa-c167183bed48",
   "metadata": {},
   "outputs": [
    {
     "name": "stdout",
     "output_type": "stream",
     "text": [
      "This is my class2\n"
     ]
    }
   ],
   "source": [
    "obj_class3.test_class2()"
   ]
  },
  {
   "cell_type": "code",
   "execution_count": 64,
   "id": "aec25ad9-8d5b-4980-9dd0-72be05e13549",
   "metadata": {},
   "outputs": [
    {
     "name": "stdout",
     "output_type": "stream",
     "text": [
      "This is my class3\n"
     ]
    }
   ],
   "source": [
    "obj_class3.test_class3()"
   ]
  },
  {
   "cell_type": "code",
   "execution_count": 66,
   "id": "02416525-f587-4c6e-bd7c-e5a9bc80f88a",
   "metadata": {},
   "outputs": [],
   "source": [
    "class class1:\n",
    "    def test_class1(self):\n",
    "        print(\"This is my class1\")"
   ]
  },
  {
   "cell_type": "code",
   "execution_count": 67,
   "id": "7bf7c478-4d1f-42cf-a532-cd5ceba74b69",
   "metadata": {},
   "outputs": [],
   "source": [
    "class class2:\n",
    "    def test_class2(self):\n",
    "        print(\"This is my class2\")"
   ]
  },
  {
   "cell_type": "code",
   "execution_count": 68,
   "id": "69a045a5-10ca-4cc4-b7a9-5a1c4d43c234",
   "metadata": {},
   "outputs": [],
   "source": [
    "class class3:\n",
    "    def test_class3(self):\n",
    "        print(\"This is my class3\")"
   ]
  },
  {
   "cell_type": "code",
   "execution_count": 69,
   "id": "e3e7de4c-942d-4167-91ae-bce86e597f83",
   "metadata": {},
   "outputs": [],
   "source": [
    "class class3(class1,class2):\n",
    "    pass"
   ]
  },
  {
   "cell_type": "code",
   "execution_count": 70,
   "id": "207725bc-8d15-4ce5-8616-744430cd65c6",
   "metadata": {},
   "outputs": [],
   "source": [
    "objclass3 = class3()"
   ]
  },
  {
   "cell_type": "code",
   "execution_count": 72,
   "id": "e225c282-8a5e-46f8-b492-d8eec0262f0e",
   "metadata": {},
   "outputs": [
    {
     "name": "stdout",
     "output_type": "stream",
     "text": [
      "This is my class1\n"
     ]
    }
   ],
   "source": [
    "objclass3.test_class1()"
   ]
  },
  {
   "cell_type": "code",
   "execution_count": 73,
   "id": "61151c03-aa52-44e5-97a2-4f675bfab62d",
   "metadata": {},
   "outputs": [
    {
     "name": "stdout",
     "output_type": "stream",
     "text": [
      "This is my class2\n"
     ]
    }
   ],
   "source": [
    "objclass3.test_class2()"
   ]
  },
  {
   "cell_type": "code",
   "execution_count": 74,
   "id": "76a9aafe-f112-473b-8523-2716267f17bd",
   "metadata": {},
   "outputs": [
    {
     "ename": "AttributeError",
     "evalue": "'class3' object has no attribute 'test_class3'",
     "output_type": "error",
     "traceback": [
      "\u001b[0;31m---------------------------------------------------------------------------\u001b[0m",
      "\u001b[0;31mAttributeError\u001b[0m                            Traceback (most recent call last)",
      "Cell \u001b[0;32mIn[74], line 1\u001b[0m\n\u001b[0;32m----> 1\u001b[0m \u001b[43mobjclass3\u001b[49m\u001b[38;5;241;43m.\u001b[39;49m\u001b[43mtest_class3\u001b[49m()\n",
      "\u001b[0;31mAttributeError\u001b[0m: 'class3' object has no attribute 'test_class3'"
     ]
    }
   ],
   "source": [
    "objclass3.test_class3()"
   ]
  },
  {
   "cell_type": "code",
   "execution_count": null,
   "id": "eb42eb7f-89d9-4029-9eb2-10aca9000408",
   "metadata": {},
   "outputs": [],
   "source": []
  }
 ],
 "metadata": {
  "kernelspec": {
   "display_name": "Python 3 (ipykernel)",
   "language": "python",
   "name": "python3"
  },
  "language_info": {
   "codemirror_mode": {
    "name": "ipython",
    "version": 3
   },
   "file_extension": ".py",
   "mimetype": "text/x-python",
   "name": "python",
   "nbconvert_exporter": "python",
   "pygments_lexer": "ipython3",
   "version": "3.10.8"
  }
 },
 "nbformat": 4,
 "nbformat_minor": 5
}
