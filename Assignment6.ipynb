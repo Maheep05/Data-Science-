{
 "cells": [
  {
   "cell_type": "markdown",
   "id": "c2968fda-9cd0-4a71-8998-fa3b7329c72a",
   "metadata": {},
   "source": [
    "## 1-->>Program-1"
   ]
  },
  {
   "cell_type": "code",
   "execution_count": 3,
   "id": "4a7e946c-4903-4ca0-9c99-07f6f16bfeef",
   "metadata": {},
   "outputs": [],
   "source": [
    "class vehicle:\n",
    "    def __init__(self,name_of_vehicle,max_speed,average_of_vehicle):\n",
    "        self.name_of_vehicle = name_of_vehicle\n",
    "        self.max_speed = max_speed\n",
    "        self.average_of_vehicle = average_of_vehicle\n",
    "    "
   ]
  },
  {
   "cell_type": "code",
   "execution_count": 4,
   "id": "89b8cb4e-8ad1-446c-be32-fe0c8323f908",
   "metadata": {},
   "outputs": [],
   "source": [
    "vehicle_obj = vehicle(\"toyota\",130,20)"
   ]
  },
  {
   "cell_type": "code",
   "execution_count": 5,
   "id": "42f5bda9-303c-4393-8733-fafabe110886",
   "metadata": {},
   "outputs": [
    {
     "data": {
      "text/plain": [
       "20"
      ]
     },
     "execution_count": 5,
     "metadata": {},
     "output_type": "execute_result"
    }
   ],
   "source": [
    "vehicle_obj.average_of_vehicle"
   ]
  },
  {
   "cell_type": "code",
   "execution_count": 7,
   "id": "03b3b941-39c8-40c3-88bf-c8bad8f0fd85",
   "metadata": {},
   "outputs": [
    {
     "data": {
      "text/plain": [
       "130"
      ]
     },
     "execution_count": 7,
     "metadata": {},
     "output_type": "execute_result"
    }
   ],
   "source": [
    "vehicle_obj.max_speed"
   ]
  },
  {
   "cell_type": "code",
   "execution_count": 8,
   "id": "ae6e018c-c48c-49d9-a0e4-1e98096c54ac",
   "metadata": {},
   "outputs": [
    {
     "data": {
      "text/plain": [
       "'toyota'"
      ]
     },
     "execution_count": 8,
     "metadata": {},
     "output_type": "execute_result"
    }
   ],
   "source": [
    "vehicle_obj.name_of_vehicle"
   ]
  },
  {
   "cell_type": "code",
   "execution_count": null,
   "id": "2b2a4165-69f8-42db-af67-a9eb1b70e126",
   "metadata": {},
   "outputs": [],
   "source": [
    "## 2-->>Program-2"
   ]
  },
  {
   "cell_type": "code",
   "execution_count": 12,
   "id": "904e2b96-3c6f-49f8-b08f-37e2831e6e41",
   "metadata": {},
   "outputs": [],
   "source": [
    "class vehicle:\n",
    "    def __init__(self,name_of_vehicle,max_speed,average_of_vehicle):\n",
    "        self.name_of_vehicle = name_of_vehicle\n",
    "        self.max_speed = max_speed\n",
    "        self.average_of_vehicle = average_of_vehicle\n",
    "        \n",
    "class car(vehicle):\n",
    "    def __init__(self,name_of_vehicle,max_speed,average_of_vehicle,seating_capacity):\n",
    "        self.seating_capacity = seating_capacity\n",
    "    \n",
    "    def seating_capacity(self,capacity):\n",
    "        return f\"{self.name_of_vehicle} ; seating capacity = {capacity} \""
   ]
  },
  {
   "cell_type": "code",
   "execution_count": 14,
   "id": "e490f4c3-84e4-46fb-bae0-56d01c4a97c1",
   "metadata": {},
   "outputs": [],
   "source": [
    " new_obj = car(\"car\",120,20,4)"
   ]
  },
  {
   "cell_type": "code",
   "execution_count": 15,
   "id": "0a06541a-225f-480b-9b8c-a0a62ebc5122",
   "metadata": {},
   "outputs": [
    {
     "data": {
      "text/plain": [
       "4"
      ]
     },
     "execution_count": 15,
     "metadata": {},
     "output_type": "execute_result"
    }
   ],
   "source": [
    "new_obj.seating_capacity"
   ]
  },
  {
   "cell_type": "markdown",
   "id": "03abd2e7-5854-430e-add1-06a1e013ffff",
   "metadata": {},
   "source": [
    "## 3-->>Multiple inheritance is a feature in object-oriented programming where a class can inherit from more than one parent class. This allows a class to inherit the attributes and methods of multiple parent classes."
   ]
  },
  {
   "cell_type": "code",
   "execution_count": 16,
   "id": "8dc8727b-2acb-443d-adf2-e024255154c5",
   "metadata": {},
   "outputs": [],
   "source": [
    "class class1:\n",
    "    def TestClass1(self):\n",
    "        print(\"This is my first class\")\n",
    "\n",
    "class class2:\n",
    "    def TestClass2(self):\n",
    "        print(\"This is my second class\")\n",
    "\n",
    "class class3(class1,class2):\n",
    "    pass"
   ]
  },
  {
   "cell_type": "code",
   "execution_count": 21,
   "id": "33f55cf7-5ad9-4df8-b3cc-b05fec6ca49f",
   "metadata": {},
   "outputs": [],
   "source": [
    "NewClass = class3()"
   ]
  },
  {
   "cell_type": "code",
   "execution_count": 25,
   "id": "09b55701-977b-4314-a07c-3b698d8495a1",
   "metadata": {},
   "outputs": [
    {
     "name": "stdout",
     "output_type": "stream",
     "text": [
      "This is my first class\n"
     ]
    }
   ],
   "source": [
    "NewClass.TestClass1()"
   ]
  },
  {
   "cell_type": "code",
   "execution_count": 27,
   "id": "5b8dcfb1-59ea-4287-828a-80742630cafb",
   "metadata": {},
   "outputs": [
    {
     "name": "stdout",
     "output_type": "stream",
     "text": [
      "This is my first class\n"
     ]
    }
   ],
   "source": [
    "NewClass.TestClass2()"
   ]
  },
  {
   "cell_type": "markdown",
   "id": "487ba951-2604-40cf-8cbd-4cd079112c1c",
   "metadata": {},
   "source": [
    "## 4-->>Getters and setters are methods in object-oriented programming that provide controlled access to an object's properties. Getters are used to retrieve the value of an object's properties, while setters are used to set or update the value of an object's properties."
   ]
  },
  {
   "cell_type": "markdown",
   "id": "ad963aa8-204c-4174-a964-ad6674743b05",
   "metadata": {},
   "source": [
    "## 5-->>Method overriding is a feature in object-oriented programming where a subclass can provide a different implementation for a method that it inherits from its parent class. When a method is overridden in a subclass, it overrides the behavior of the same method in the parent class for instances of the subclass."
   ]
  },
  {
   "cell_type": "code",
   "execution_count": null,
   "id": "92efe8c8-a633-4245-80b4-9c8ccd3b729e",
   "metadata": {},
   "outputs": [],
   "source": []
  }
 ],
 "metadata": {
  "kernelspec": {
   "display_name": "Python 3 (ipykernel)",
   "language": "python",
   "name": "python3"
  },
  "language_info": {
   "codemirror_mode": {
    "name": "ipython",
    "version": 3
   },
   "file_extension": ".py",
   "mimetype": "text/x-python",
   "name": "python",
   "nbconvert_exporter": "python",
   "pygments_lexer": "ipython3",
   "version": "3.10.8"
  }
 },
 "nbformat": 4,
 "nbformat_minor": 5
}
