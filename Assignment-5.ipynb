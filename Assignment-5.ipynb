{
 "cells": [
  {
   "cell_type": "markdown",
   "id": "ff3a2380-2b32-4351-9903-9b601aa62ab8",
   "metadata": {},
   "source": [
    "## 1>> A class is a collection of objects.\n",
    "## Classes are created by keyword class.\n",
    "## Attributes are the variables that belong to a class.\n",
    "* Example: class Hello:\n",
    "*               pass\n"
   ]
  },
  {
   "cell_type": "markdown",
   "id": "605ddfa9-aa66-498a-945f-dc3a8ef8cc42",
   "metadata": {},
   "source": [
    "## 2>> The Four Pillars of Object-Oriented Programming · Abstraction · Encapsulation · Inheritance · Polymorphism."
   ]
  },
  {
   "cell_type": "markdown",
   "id": "5edce000-e910-46ec-a098-26b5d4f06877",
   "metadata": {},
   "source": [
    "## 3>>a function called __init__(), which is always executed when the class is being initiated.\n",
    "## class hello1:\n",
    "    ## def __init__(self,Number,Email,StuId):\n",
    "        ## self.Number = Number\n",
    "        ## self.Email = Email\n",
    "       ## self.StuId = StuId\n",
    "    ## def return_Student_Details(self):\n",
    "       ## return self.Number,self.Email,self.StuId\n",
    "        "
   ]
  },
  {
   "cell_type": "markdown",
   "id": "cf5da67c-43a1-4062-854a-e28987049033",
   "metadata": {},
   "source": [
    "## 4>>Self in OOPs is used as a reference for class to objects,it is not important to always use self as a variable."
   ]
  },
  {
   "cell_type": "code",
   "execution_count": null,
   "id": "887b28d1-7937-4214-a1d3-a0dcdcf57dfc",
   "metadata": {},
   "outputs": [],
   "source": []
  }
 ],
 "metadata": {
  "kernelspec": {
   "display_name": "Python 3 (ipykernel)",
   "language": "python",
   "name": "python3"
  },
  "language_info": {
   "codemirror_mode": {
    "name": "ipython",
    "version": 3
   },
   "file_extension": ".py",
   "mimetype": "text/x-python",
   "name": "python",
   "nbconvert_exporter": "python",
   "pygments_lexer": "ipython3",
   "version": "3.10.8"
  }
 },
 "nbformat": 4,
 "nbformat_minor": 5
}
