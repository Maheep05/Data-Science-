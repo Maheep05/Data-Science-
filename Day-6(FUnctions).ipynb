{
 "cells": [
  {
   "cell_type": "markdown",
   "id": "2d6cd754-d4d2-4877-be39-34fa870250d1",
   "metadata": {},
   "source": [
    "## Functions"
   ]
  },
  {
   "cell_type": "code",
   "execution_count": 32,
   "id": "5fcea3dd-190b-43e6-9957-5acbac93bae2",
   "metadata": {},
   "outputs": [
    {
     "name": "stdout",
     "output_type": "stream",
     "text": [
      "Hello World\n"
     ]
    }
   ],
   "source": [
    "print(\"Hello World\")"
   ]
  },
  {
   "cell_type": "code",
   "execution_count": 33,
   "id": "4315c0af-a8c2-49bd-9109-9424aeebfd8c",
   "metadata": {},
   "outputs": [],
   "source": [
    "def test():\n",
    "    pass"
   ]
  },
  {
   "cell_type": "code",
   "execution_count": 34,
   "id": "295d398a-0b4b-4fa6-8c4e-7f7a24499d87",
   "metadata": {},
   "outputs": [],
   "source": [
    "def test1():\n",
    "    print(\"First Function\")"
   ]
  },
  {
   "cell_type": "code",
   "execution_count": 35,
   "id": "54af7945-f9e0-43bf-9a2a-a4254ef4af7f",
   "metadata": {},
   "outputs": [
    {
     "name": "stdout",
     "output_type": "stream",
     "text": [
      "First Function\n"
     ]
    }
   ],
   "source": [
    "test1()"
   ]
  },
  {
   "cell_type": "code",
   "execution_count": 36,
   "id": "37ca8841-006b-4967-9c72-abde40375eb8",
   "metadata": {},
   "outputs": [],
   "source": [
    "def test2():\n",
    "    return \"THis is my function with return\""
   ]
  },
  {
   "cell_type": "code",
   "execution_count": 37,
   "id": "153729f7-af16-4fc8-9aba-a9efe92631f7",
   "metadata": {},
   "outputs": [
    {
     "data": {
      "text/plain": [
       "'THis is my function with return'"
      ]
     },
     "execution_count": 37,
     "metadata": {},
     "output_type": "execute_result"
    }
   ],
   "source": [
    "test2()"
   ]
  },
  {
   "cell_type": "code",
   "execution_count": 38,
   "id": "f4c93f01-04e0-47d9-be70-ff3af942bcc1",
   "metadata": {},
   "outputs": [
    {
     "data": {
      "text/plain": [
       "'THis is my function with returnmaheep'"
      ]
     },
     "execution_count": 38,
     "metadata": {},
     "output_type": "execute_result"
    }
   ],
   "source": [
    "test2() + \"maheep\""
   ]
  },
  {
   "cell_type": "code",
   "execution_count": 39,
   "id": "50b69505-fd80-4f5d-8a0b-6ab18cd4ec77",
   "metadata": {},
   "outputs": [],
   "source": [
    "def test3():\n",
    "    return 1,4,\"hello\",31.54"
   ]
  },
  {
   "cell_type": "code",
   "execution_count": 40,
   "id": "60624914-3000-4eb5-acc1-84d96c6a77ac",
   "metadata": {},
   "outputs": [
    {
     "data": {
      "text/plain": [
       "(1, 4, 'hello', 31.54)"
      ]
     },
     "execution_count": 40,
     "metadata": {},
     "output_type": "execute_result"
    }
   ],
   "source": [
    "test3()"
   ]
  },
  {
   "cell_type": "code",
   "execution_count": 41,
   "id": "88b527bb-d7b3-4f6a-9e64-35d07a1be35b",
   "metadata": {},
   "outputs": [],
   "source": [
    "a = 1,2,3,4,5"
   ]
  },
  {
   "cell_type": "code",
   "execution_count": 42,
   "id": "79a49875-1f8d-463d-a1fb-7bba9ed9b285",
   "metadata": {},
   "outputs": [
    {
     "data": {
      "text/plain": [
       "(1, 2, 3, 4, 5)"
      ]
     },
     "execution_count": 42,
     "metadata": {},
     "output_type": "execute_result"
    }
   ],
   "source": [
    "a"
   ]
  },
  {
   "cell_type": "code",
   "execution_count": 43,
   "id": "9cefaafc-1f04-4a2d-a119-f207a0a6c5d2",
   "metadata": {},
   "outputs": [],
   "source": [
    "a,b,c,d = 1,2,34.53,True"
   ]
  },
  {
   "cell_type": "code",
   "execution_count": 44,
   "id": "65ac00ff-6e1d-45cd-82fd-b9b7b2a5ab6e",
   "metadata": {},
   "outputs": [
    {
     "data": {
      "text/plain": [
       "2"
      ]
     },
     "execution_count": 44,
     "metadata": {},
     "output_type": "execute_result"
    }
   ],
   "source": [
    "a\n",
    "b"
   ]
  },
  {
   "cell_type": "code",
   "execution_count": 45,
   "id": "8be85d97-187a-47a2-91a8-106cd45ed7b0",
   "metadata": {},
   "outputs": [
    {
     "data": {
      "text/plain": [
       "1"
      ]
     },
     "execution_count": 45,
     "metadata": {},
     "output_type": "execute_result"
    }
   ],
   "source": [
    "a"
   ]
  },
  {
   "cell_type": "code",
   "execution_count": 46,
   "id": "1b606a67-e38c-4b32-8204-d12c74e2c961",
   "metadata": {},
   "outputs": [
    {
     "data": {
      "text/plain": [
       "2"
      ]
     },
     "execution_count": 46,
     "metadata": {},
     "output_type": "execute_result"
    }
   ],
   "source": [
    "b"
   ]
  },
  {
   "cell_type": "code",
   "execution_count": 47,
   "id": "4cc362a3-3e72-468d-8e2b-20e92f8fcd28",
   "metadata": {},
   "outputs": [
    {
     "data": {
      "text/plain": [
       "34.53"
      ]
     },
     "execution_count": 47,
     "metadata": {},
     "output_type": "execute_result"
    }
   ],
   "source": [
    "c"
   ]
  },
  {
   "cell_type": "code",
   "execution_count": 48,
   "id": "75fc9b70-a63e-4880-8f52-a20ee819005f",
   "metadata": {},
   "outputs": [
    {
     "data": {
      "text/plain": [
       "True"
      ]
     },
     "execution_count": 48,
     "metadata": {},
     "output_type": "execute_result"
    }
   ],
   "source": [
    "d"
   ]
  },
  {
   "cell_type": "code",
   "execution_count": 49,
   "id": "74f6e5c1-8315-4240-b857-c8f43b0bcb85",
   "metadata": {},
   "outputs": [
    {
     "data": {
      "text/plain": [
       "1"
      ]
     },
     "execution_count": 49,
     "metadata": {},
     "output_type": "execute_result"
    }
   ],
   "source": [
    "test3()[0]"
   ]
  },
  {
   "cell_type": "code",
   "execution_count": 50,
   "id": "b26d6abd-8f05-4aa1-a4fa-268e8f1e0db9",
   "metadata": {},
   "outputs": [
    {
     "data": {
      "text/plain": [
       "'hello'"
      ]
     },
     "execution_count": 50,
     "metadata": {},
     "output_type": "execute_result"
    }
   ],
   "source": [
    "test3()[2]"
   ]
  },
  {
   "cell_type": "code",
   "execution_count": 51,
   "id": "74c76e8e-ba0e-4000-b46d-74a2f7784a60",
   "metadata": {},
   "outputs": [],
   "source": [
    "def test4():\n",
    "    a = 3*4+5\n",
    "    return a"
   ]
  },
  {
   "cell_type": "code",
   "execution_count": 52,
   "id": "49fb08cc-7e62-4d4b-9d88-89d9bf1a59ad",
   "metadata": {},
   "outputs": [
    {
     "data": {
      "text/plain": [
       "int"
      ]
     },
     "execution_count": 52,
     "metadata": {},
     "output_type": "execute_result"
    }
   ],
   "source": [
    "type(test4())"
   ]
  },
  {
   "cell_type": "code",
   "execution_count": 53,
   "id": "8092ab1c-31ea-4178-b87d-06186c928741",
   "metadata": {},
   "outputs": [],
   "source": [
    "def test5(a,b):\n",
    "    c = a+b\n",
    "    return c"
   ]
  },
  {
   "cell_type": "code",
   "execution_count": 54,
   "id": "6c4bfb9e-5aa6-492a-892c-72af88cbf3b2",
   "metadata": {},
   "outputs": [
    {
     "data": {
      "text/plain": [
       "4"
      ]
     },
     "execution_count": 54,
     "metadata": {},
     "output_type": "execute_result"
    }
   ],
   "source": [
    "test5(1,3)"
   ]
  },
  {
   "cell_type": "code",
   "execution_count": 55,
   "id": "400c5b69-8ae8-4479-b355-285ab82d63bd",
   "metadata": {},
   "outputs": [
    {
     "data": {
      "text/plain": [
       "'helloworld'"
      ]
     },
     "execution_count": 55,
     "metadata": {},
     "output_type": "execute_result"
    }
   ],
   "source": [
    "test5(\"hello\",\"world\")"
   ]
  },
  {
   "cell_type": "code",
   "execution_count": 56,
   "id": "615e396b-17fe-470c-bc83-660932cc069c",
   "metadata": {},
   "outputs": [],
   "source": [
    "l = [1,2,3,4,5,\"Hello\",[45,34,23,45,46]]"
   ]
  },
  {
   "cell_type": "code",
   "execution_count": 57,
   "id": "d6cefa4d-e9ab-4927-b9e0-f8796b07fb87",
   "metadata": {},
   "outputs": [],
   "source": [
    "def test6(a):\n",
    "    n = []\n",
    "    for i in a :\n",
    "        if type(i) == int or type(i) == float:\n",
    "            n.append(i)\n",
    "    return n"
   ]
  },
  {
   "cell_type": "code",
   "execution_count": 58,
   "id": "f03cb1d1-9ef7-46fc-9f85-ded4229110f7",
   "metadata": {},
   "outputs": [
    {
     "data": {
      "text/plain": [
       "[1, 2, 3, 4, 5]"
      ]
     },
     "execution_count": 58,
     "metadata": {},
     "output_type": "execute_result"
    }
   ],
   "source": [
    "test6(l)"
   ]
  },
  {
   "cell_type": "code",
   "execution_count": 59,
   "id": "3c6ddfe4-222e-4451-a028-347e39bacef9",
   "metadata": {},
   "outputs": [
    {
     "data": {
      "text/plain": [
       "[1, 2, 3, 4, 5, 'Hello', [45, 34, 23, 45, 46]]"
      ]
     },
     "execution_count": 59,
     "metadata": {},
     "output_type": "execute_result"
    }
   ],
   "source": [
    "l"
   ]
  },
  {
   "cell_type": "code",
   "execution_count": 60,
   "id": "729ab07f-4f66-45db-ac9d-7bfe4dbaab92",
   "metadata": {},
   "outputs": [],
   "source": [
    "def test7(a):\n",
    "    n =[]\n",
    "    for i in a:\n",
    "        if type(i) == list :\n",
    "            for j in i:\n",
    "                if type(j) == int or type(j) == float:\n",
    "                    n.append(j)\n",
    "        else:\n",
    "             if type(i) == int or type(i) == float:\n",
    "                n.append(i)\n",
    "    return n"
   ]
  },
  {
   "cell_type": "code",
   "execution_count": 61,
   "id": "7227f8f0-39b0-4aac-966b-6cf270401b06",
   "metadata": {},
   "outputs": [
    {
     "data": {
      "text/plain": [
       "[1, 2, 3, 4, 5, 45, 34, 23, 45, 46]"
      ]
     },
     "execution_count": 61,
     "metadata": {},
     "output_type": "execute_result"
    }
   ],
   "source": [
    "test7(l)"
   ]
  },
  {
   "cell_type": "code",
   "execution_count": 62,
   "id": "a11adf22-2043-48c0-85ec-b93252ba7a88",
   "metadata": {},
   "outputs": [],
   "source": [
    "def test8(a,b,c,d,e):\n",
    "    pass"
   ]
  },
  {
   "cell_type": "code",
   "execution_count": 63,
   "id": "259a69ad-7895-47c7-b3cd-46d8d7979580",
   "metadata": {},
   "outputs": [],
   "source": [
    "test8(1,2,3,4,5)"
   ]
  },
  {
   "cell_type": "markdown",
   "id": "55ef95e6-2ca4-4b08-bb70-4201084b6d04",
   "metadata": {},
   "source": [
    "*args Multiple number of arguments can be passed"
   ]
  },
  {
   "cell_type": "code",
   "execution_count": 64,
   "id": "112e9926-35f5-4cdf-821d-c0bd5afddc47",
   "metadata": {},
   "outputs": [],
   "source": [
    "def test9(*args):\n",
    "    return args"
   ]
  },
  {
   "cell_type": "code",
   "execution_count": 65,
   "id": "5ad4d2ff-84f9-4deb-b483-18aac8b51602",
   "metadata": {},
   "outputs": [
    {
     "data": {
      "text/plain": [
       "(1, 2, 3, 4, 5, 6, 6, 7, 8, 9, 0)"
      ]
     },
     "execution_count": 65,
     "metadata": {},
     "output_type": "execute_result"
    }
   ],
   "source": [
    "test9(1,2,3,4,5,6,6,7,8,9,0)"
   ]
  },
  {
   "cell_type": "code",
   "execution_count": 66,
   "id": "66b619a2-7a6d-4f5f-b9b6-3c808992cf54",
   "metadata": {},
   "outputs": [],
   "source": [
    "def test10(*args,a=\"maheep\"):\n",
    "    return args,a"
   ]
  },
  {
   "cell_type": "code",
   "execution_count": 67,
   "id": "39f5d5bd-2530-4ea5-ae65-a1af9171f535",
   "metadata": {},
   "outputs": [
    {
     "data": {
      "text/plain": [
       "((10,), 'maheep')"
      ]
     },
     "execution_count": 67,
     "metadata": {},
     "output_type": "execute_result"
    }
   ],
   "source": [
    "test10(10)"
   ]
  },
  {
   "cell_type": "code",
   "execution_count": 68,
   "id": "f95bb2a0-0166-460b-b5d3-41ceeab33848",
   "metadata": {},
   "outputs": [
    {
     "data": {
      "text/plain": [
       "((10,), 'maheep')"
      ]
     },
     "execution_count": 68,
     "metadata": {},
     "output_type": "execute_result"
    }
   ],
   "source": [
    "test10(10)"
   ]
  },
  {
   "cell_type": "code",
   "execution_count": 72,
   "id": "ac9cfc55-7a6b-4482-a2f0-27eae9a9b44d",
   "metadata": {},
   "outputs": [],
   "source": [
    "def test11(*args):\n",
    "    l = []\n",
    "    for i in args:\n",
    "        \n",
    "        if type(i) == list:\n",
    "            l.append(i)"
   ]
  },
  {
   "cell_type": "code",
   "execution_count": 73,
   "id": "03886bdd-9384-4afb-b71a-40baf3577c0b",
   "metadata": {},
   "outputs": [],
   "source": [
    "test11(1,2,3,[1,2,3,4,5],(1,2,3,4,5),\"Maheep\")"
   ]
  },
  {
   "cell_type": "code",
   "execution_count": 74,
   "id": "bdff4d9f-091e-4e0b-96b4-d7bd58e6fe82",
   "metadata": {},
   "outputs": [],
   "source": [
    "def test12(**kwargs):\n",
    "    return kwargs"
   ]
  },
  {
   "cell_type": "code",
   "execution_count": 76,
   "id": "70ea56ed-854a-463e-8d1d-78a970d4641c",
   "metadata": {},
   "outputs": [
    {
     "data": {
      "text/plain": [
       "dict"
      ]
     },
     "execution_count": 76,
     "metadata": {},
     "output_type": "execute_result"
    }
   ],
   "source": [
    "type(test12())"
   ]
  },
  {
   "cell_type": "code",
   "execution_count": 80,
   "id": "8030f487-7361-4ac5-acdc-d338617fba8b",
   "metadata": {},
   "outputs": [
    {
     "data": {
      "text/plain": [
       "{'a': 34, 'b': 23, 'c': [1, 2, 3, 4], 'd': ('maheep', 'hello')}"
      ]
     },
     "execution_count": 80,
     "metadata": {},
     "output_type": "execute_result"
    }
   ],
   "source": [
    "test12( a = 34, b =23,c=[1,2,3,4],d=(\"maheep\",\"hello\"))"
   ]
  },
  {
   "cell_type": "code",
   "execution_count": 84,
   "id": "21377d02-7d47-4059-b19e-3b2f005c4e30",
   "metadata": {},
   "outputs": [],
   "source": [
    " def test13(**kwargs):\n",
    "    for i in kwargs.keys():\n",
    "        if type(kwargs[i] ) == list:\n",
    "            return i , kwargs[i]"
   ]
  },
  {
   "cell_type": "code",
   "execution_count": 85,
   "id": "3e4e31e2-97f7-4ba2-adfb-86ceb0586dc3",
   "metadata": {},
   "outputs": [
    {
     "data": {
      "text/plain": [
       "('c', [1, 2, 3, 4])"
      ]
     },
     "execution_count": 85,
     "metadata": {},
     "output_type": "execute_result"
    }
   ],
   "source": [
    "test13( a = 34, b =23,c=[1,2,3,4],d=(\"maheep\",\"hello\"))"
   ]
  },
  {
   "cell_type": "code",
   "execution_count": 86,
   "id": "7946b18a-7bbd-4463-8ae4-6d7794518fc4",
   "metadata": {},
   "outputs": [],
   "source": [
    "def test14(*args,**kwargs):\n",
    "    return args,kwargs"
   ]
  },
  {
   "cell_type": "code",
   "execution_count": 87,
   "id": "0c607870-852f-483f-aebc-5d7b0cc236c3",
   "metadata": {},
   "outputs": [
    {
     "data": {
      "text/plain": [
       "((1, 2, 3, 4), {'a': 32, 'b': 123})"
      ]
     },
     "execution_count": 87,
     "metadata": {},
     "output_type": "execute_result"
    }
   ],
   "source": [
    "test14(1,2,3,4,a=32,b=123)"
   ]
  },
  {
   "cell_type": "markdown",
   "id": "96d0c9c9-2d67-4713-b7fe-ab3765b459a0",
   "metadata": {},
   "source": [
    "# Generator Functions"
   ]
  },
  {
   "cell_type": "code",
   "execution_count": 88,
   "id": "636a30c7-ad3d-4231-8c90-1f94ccadeadf",
   "metadata": {},
   "outputs": [
    {
     "data": {
      "text/plain": [
       "range(1, 10)"
      ]
     },
     "execution_count": 88,
     "metadata": {},
     "output_type": "execute_result"
    }
   ],
   "source": [
    "range(1,10)"
   ]
  },
  {
   "cell_type": "code",
   "execution_count": 89,
   "id": "1105e2c0-1008-45ce-acf3-71c0a5f304f9",
   "metadata": {},
   "outputs": [
    {
     "name": "stdout",
     "output_type": "stream",
     "text": [
      "1\n",
      "2\n",
      "3\n",
      "4\n",
      "5\n",
      "6\n",
      "7\n",
      "8\n",
      "9\n"
     ]
    }
   ],
   "source": [
    "for i in range(1,10):\n",
    "    print(i)"
   ]
  },
  {
   "cell_type": "code",
   "execution_count": 90,
   "id": "720b1aab-dde1-45ae-bb2d-423648e66a89",
   "metadata": {},
   "outputs": [],
   "source": [
    "l = [1,2,3,4,5,\"hello\",\"maheep\"]"
   ]
  },
  {
   "cell_type": "code",
   "execution_count": 92,
   "id": "8827e0ae-4931-4438-97b4-1c68e211a10f",
   "metadata": {},
   "outputs": [],
   "source": [
    "def test15(a):\n",
    "    n = []\n",
    "    for i in a:\n",
    "        if type(i) == int :\n",
    "            n.append(i)\n",
    "    return n"
   ]
  },
  {
   "cell_type": "code",
   "execution_count": 93,
   "id": "78da89e4-3788-4510-a0e6-8c93d9d7bd15",
   "metadata": {},
   "outputs": [
    {
     "data": {
      "text/plain": [
       "[1, 2, 3, 4, 5]"
      ]
     },
     "execution_count": 93,
     "metadata": {},
     "output_type": "execute_result"
    }
   ],
   "source": [
    "test15(l)"
   ]
  },
  {
   "cell_type": "code",
   "execution_count": 95,
   "id": "86a23b45-86c1-4959-8998-a914a2e914db",
   "metadata": {},
   "outputs": [],
   "source": [
    "def test_fib(n):\n",
    "    a,b = 0,1\n",
    "    for i in range(n):\n",
    "        yield a\n",
    "        a,b = b,a+b"
   ]
  },
  {
   "cell_type": "code",
   "execution_count": 96,
   "id": "14277b50-05ce-44c2-a9d0-f1703be041be",
   "metadata": {},
   "outputs": [
    {
     "data": {
      "text/plain": [
       "<generator object test_fib at 0x7f7845c485f0>"
      ]
     },
     "execution_count": 96,
     "metadata": {},
     "output_type": "execute_result"
    }
   ],
   "source": [
    "test_fib(10)"
   ]
  },
  {
   "cell_type": "code",
   "execution_count": 97,
   "id": "ff629031-0381-44da-9261-bd932e9ead26",
   "metadata": {},
   "outputs": [
    {
     "name": "stdout",
     "output_type": "stream",
     "text": [
      "0\n",
      "1\n",
      "1\n",
      "2\n",
      "3\n",
      "5\n",
      "8\n",
      "13\n",
      "21\n",
      "34\n"
     ]
    }
   ],
   "source": [
    "for i in test_fib(10):\n",
    "    print(i)"
   ]
  },
  {
   "cell_type": "code",
   "execution_count": null,
   "id": "2c64886e-49bd-481f-b666-12157c962675",
   "metadata": {},
   "outputs": [],
   "source": []
  },
  {
   "cell_type": "code",
   "execution_count": null,
   "id": "27e89fa9-c589-4eb5-a6c9-5c0b42bac2c2",
   "metadata": {},
   "outputs": [],
   "source": []
  },
  {
   "cell_type": "code",
   "execution_count": null,
   "id": "f04ce3ed-7a1c-4866-9717-4d5c829cd6db",
   "metadata": {},
   "outputs": [],
   "source": []
  },
  {
   "cell_type": "code",
   "execution_count": null,
   "id": "e7793ec4-57fd-4c6a-8470-22f8dc46044c",
   "metadata": {},
   "outputs": [],
   "source": []
  },
  {
   "cell_type": "code",
   "execution_count": null,
   "id": "e236e681-5157-4c08-bcbf-7a35924a4f10",
   "metadata": {},
   "outputs": [],
   "source": []
  },
  {
   "cell_type": "code",
   "execution_count": null,
   "id": "f7944c49-37f2-4994-bf3b-ad6b383eb7ca",
   "metadata": {},
   "outputs": [],
   "source": []
  },
  {
   "cell_type": "code",
   "execution_count": null,
   "id": "25ace8cb-c04a-4d2f-8719-6c5579310903",
   "metadata": {},
   "outputs": [],
   "source": []
  },
  {
   "cell_type": "code",
   "execution_count": null,
   "id": "2411c803-e1c9-4b9c-9472-245ab0621c43",
   "metadata": {},
   "outputs": [],
   "source": []
  },
  {
   "cell_type": "code",
   "execution_count": null,
   "id": "559df4c0-6751-4077-9685-b65fc27f4510",
   "metadata": {},
   "outputs": [],
   "source": []
  }
 ],
 "metadata": {
  "kernelspec": {
   "display_name": "Python 3 (ipykernel)",
   "language": "python",
   "name": "python3"
  },
  "language_info": {
   "codemirror_mode": {
    "name": "ipython",
    "version": 3
   },
   "file_extension": ".py",
   "mimetype": "text/x-python",
   "name": "python",
   "nbconvert_exporter": "python",
   "pygments_lexer": "ipython3",
   "version": "3.10.8"
  }
 },
 "nbformat": 4,
 "nbformat_minor": 5
}
