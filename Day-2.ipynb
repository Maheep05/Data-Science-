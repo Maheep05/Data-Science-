{
 "cells": [
  {
   "cell_type": "code",
   "execution_count": 1,
   "id": "98a6376d-3efa-488a-8d5a-e255b5be665c",
   "metadata": {},
   "outputs": [
    {
     "name": "stdout",
     "output_type": "stream",
     "text": [
      "hello\n"
     ]
    }
   ],
   "source": [
    "print(\"hello\")"
   ]
  },
  {
   "cell_type": "code",
   "execution_count": 2,
   "id": "bfd08b42-9e50-4de4-b896-1cb84ff1d71e",
   "metadata": {},
   "outputs": [
    {
     "data": {
      "text/plain": [
       "'c'"
      ]
     },
     "execution_count": 2,
     "metadata": {},
     "output_type": "execute_result"
    }
   ],
   "source": [
    "a=10 #Dyanmic typing\n",
    "a\n",
    "a='c'\n",
    "a"
   ]
  },
  {
   "cell_type": "code",
   "execution_count": 3,
   "id": "858ee446-b60c-4ad3-819d-4a6ff36ee0b6",
   "metadata": {},
   "outputs": [
    {
     "data": {
      "text/plain": [
       "str"
      ]
     },
     "execution_count": 3,
     "metadata": {},
     "output_type": "execute_result"
    }
   ],
   "source": [
    "type(a)"
   ]
  },
  {
   "cell_type": "code",
   "execution_count": 4,
   "id": "66d7c5e9-3440-42ea-ba63-f576406f6d48",
   "metadata": {},
   "outputs": [
    {
     "data": {
      "text/plain": [
       "123"
      ]
     },
     "execution_count": 4,
     "metadata": {},
     "output_type": "execute_result"
    }
   ],
   "source": [
    "int('123')"
   ]
  },
  {
   "cell_type": "code",
   "execution_count": 5,
   "id": "0c040bdd-0ff0-44ff-a70e-935919cd6787",
   "metadata": {},
   "outputs": [
    {
     "ename": "ValueError",
     "evalue": "invalid literal for int() with base 10: 'abcd'",
     "output_type": "error",
     "traceback": [
      "\u001b[0;31m---------------------------------------------------------------------------\u001b[0m",
      "\u001b[0;31mValueError\u001b[0m                                Traceback (most recent call last)",
      "Cell \u001b[0;32mIn[5], line 1\u001b[0m\n\u001b[0;32m----> 1\u001b[0m \u001b[38;5;28;43mint\u001b[39;49m\u001b[43m(\u001b[49m\u001b[38;5;124;43m'\u001b[39;49m\u001b[38;5;124;43mabcd\u001b[39;49m\u001b[38;5;124;43m'\u001b[39;49m\u001b[43m)\u001b[49m\n",
      "\u001b[0;31mValueError\u001b[0m: invalid literal for int() with base 10: 'abcd'"
     ]
    }
   ],
   "source": [
    "int('abcd')"
   ]
  },
  {
   "cell_type": "code",
   "execution_count": 6,
   "id": "262396d2-9e7c-4761-b880-93772fb40685",
   "metadata": {},
   "outputs": [
    {
     "name": "stdout",
     "output_type": "stream",
     "text": [
      "hello world\n"
     ]
    }
   ],
   "source": [
    "print(\"hello world\")"
   ]
  },
  {
   "cell_type": "code",
   "execution_count": 7,
   "id": "74057345-149b-48b7-909f-8a6c97250faa",
   "metadata": {},
   "outputs": [
    {
     "name": "stdout",
     "output_type": "stream",
     "text": [
      "123\n"
     ]
    }
   ],
   "source": [
    "print(123)"
   ]
  },
  {
   "cell_type": "code",
   "execution_count": 8,
   "id": "d251b9cf-785b-448e-b899-8dab4b8bd921",
   "metadata": {},
   "outputs": [
    {
     "name": "stdout",
     "output_type": "stream",
     "text": [
      "Hello World\n"
     ]
    }
   ],
   "source": [
    "print('Hello World')"
   ]
  },
  {
   "cell_type": "code",
   "execution_count": 9,
   "id": "37343f96-0944-4389-8229-07efd0439554",
   "metadata": {},
   "outputs": [
    {
     "name": "stdout",
     "output_type": "stream",
     "text": [
      "my age is: 20\n"
     ]
    }
   ],
   "source": [
    "age=20\n",
    "\n",
    "print(\"my age is:\",age)"
   ]
  },
  {
   "cell_type": "markdown",
   "id": "9eff5d14-7501-4258-bd07-7f5cfb3fcd17",
   "metadata": {},
   "source": [
    "F is called as Fstring used for Formatting "
   ]
  },
  {
   "cell_type": "code",
   "execution_count": 10,
   "id": "8b7271d7-ea06-4bcb-b687-f3181617304b",
   "metadata": {},
   "outputs": [
    {
     "name": "stdout",
     "output_type": "stream",
     "text": [
      "my age is: 20\n"
     ]
    }
   ],
   "source": [
    "print(f\"my age is: {age}\")"
   ]
  },
  {
   "cell_type": "code",
   "execution_count": 11,
   "id": "8cd7b014-f7f3-4cad-b6bb-3757e77f85ea",
   "metadata": {},
   "outputs": [
    {
     "name": "stdout",
     "output_type": "stream",
     "text": [
      "My Name is Maheep and age is 20\n"
     ]
    }
   ],
   "source": [
    "# Format()\n",
    "name = \"Maheep\"\n",
    "age = 20\n",
    "print(\"My Name is {} and age is {}\".format(name,age))"
   ]
  },
  {
   "cell_type": "code",
   "execution_count": 12,
   "id": "8d2a2d73-95ec-4ada-9adb-c5bc4a086f68",
   "metadata": {},
   "outputs": [
    {
     "name": "stdout",
     "output_type": "stream",
     "text": [
      "My Name is Maheep and age is 20\n"
     ]
    }
   ],
   "source": [
    "# {firstage}=place holder\n",
    "print(\"My Name is {firstname} and age is {firstage}\".format(firstname=name,firstage=age))"
   ]
  },
  {
   "cell_type": "code",
   "execution_count": 13,
   "id": "69acac4a-3c0a-4726-9852-5d3ed1bcb876",
   "metadata": {},
   "outputs": [
    {
     "name": "stdout",
     "output_type": "stream",
     "text": [
      "My age is:20 and i have completed my degree of :BCA and my name is Maheep Saluja\n",
      "My age is:20 and i have completed my degree of :BCA and my name is Maheep Saluja\n"
     ]
    }
   ],
   "source": [
    "name = \"Maheep Saluja\"\n",
    "age = 20\n",
    "degree = \"BCA\"\n",
    "print(\"My age is:{} and i have completed my degree of :{} and my name is {}\".format(age,degree,name))\n",
    "print(f\"My age is:{age} and i have completed my degree of :{degree} and my name is {name}\")"
   ]
  },
  {
   "cell_type": "markdown",
   "id": "6c612d3f-fafd-4d41-b5c7-7440a7016594",
   "metadata": {},
   "source": [
    "Control FLow\n",
    "\n",
    "Decision making statements"
   ]
  },
  {
   "cell_type": "code",
   "execution_count": 14,
   "id": "3514628f-10ce-4554-8850-06345bf349be",
   "metadata": {},
   "outputs": [
    {
     "name": "stdout",
     "output_type": "stream",
     "text": [
      "You are not eligilble to vote\n"
     ]
    }
   ],
   "source": [
    "# if Statements\n",
    "age = 17\n",
    "if age>=18:\n",
    "    print(\"You are eligible to vote\")\n",
    "else:\n",
    "    print(\"You are not eligilble to vote\")"
   ]
  },
  {
   "cell_type": "code",
   "execution_count": 15,
   "id": "88987113-3058-4055-971d-821fd13a90ba",
   "metadata": {},
   "outputs": [
    {
     "name": "stdin",
     "output_type": "stream",
     "text": [
      "Enter your name:  maheep\n"
     ]
    }
   ],
   "source": [
    "name=input(\"Enter your name: \")\n"
   ]
  },
  {
   "cell_type": "code",
   "execution_count": 16,
   "id": "d6e48e37-987c-4458-ba0e-a15b16c966bd",
   "metadata": {},
   "outputs": [
    {
     "data": {
      "text/plain": [
       "'maheep'"
      ]
     },
     "execution_count": 16,
     "metadata": {},
     "output_type": "execute_result"
    }
   ],
   "source": [
    "name"
   ]
  },
  {
   "cell_type": "code",
   "execution_count": 17,
   "id": "efdef205-c63b-4806-b9fe-0e036ad635a9",
   "metadata": {},
   "outputs": [
    {
     "name": "stdin",
     "output_type": "stream",
     "text": [
      "ENter your age: 22\n"
     ]
    }
   ],
   "source": [
    "age = int(input(\"ENter your age:\"))"
   ]
  },
  {
   "cell_type": "code",
   "execution_count": 18,
   "id": "0774c5c9-7ab5-43e9-893a-15f3053d42ba",
   "metadata": {},
   "outputs": [
    {
     "data": {
      "text/plain": [
       "int"
      ]
     },
     "execution_count": 18,
     "metadata": {},
     "output_type": "execute_result"
    }
   ],
   "source": [
    "type(age)"
   ]
  },
  {
   "cell_type": "code",
   "execution_count": 19,
   "id": "282af200-a925-4a08-9209-a064a1c76d88",
   "metadata": {},
   "outputs": [
    {
     "name": "stdin",
     "output_type": "stream",
     "text": [
      "ENter your age 22\n"
     ]
    },
    {
     "name": "stdout",
     "output_type": "stream",
     "text": [
      "You are young blood\n"
     ]
    }
   ],
   "source": [
    "age = int(input(\"ENter your age\"))\n",
    "if age>=18 and age<=45:\n",
    "    print(\"You are young blood\")"
   ]
  },
  {
   "cell_type": "code",
   "execution_count": 20,
   "id": "b4d8cf34-5192-4fe6-971a-a2a32ac61154",
   "metadata": {},
   "outputs": [
    {
     "name": "stdin",
     "output_type": "stream",
     "text": [
      "ENter your age 22\n"
     ]
    },
    {
     "name": "stdout",
     "output_type": "stream",
     "text": [
      "You are young blood\n"
     ]
    }
   ],
   "source": [
    "# IF ELSE STATEMENTS\n",
    "age = int(input(\"ENter your age\"))\n",
    "if age>=18 and age<=45:\n",
    "    print(\"You are young blood\")\n",
    "else:\n",
    "    print(\"Thank you we will let you know\")"
   ]
  },
  {
   "cell_type": "code",
   "execution_count": 21,
   "id": "d47454a7-75b6-4ea2-b0d1-7530a427128c",
   "metadata": {},
   "outputs": [
    {
     "name": "stdin",
     "output_type": "stream",
     "text": [
      "Enter the price of the product 22\n"
     ]
    },
    {
     "name": "stdout",
     "output_type": "stream",
     "text": [
      "You are eligible for the discount of RS 30%.\n",
      "The price of the product is 15.399999999999999.\n"
     ]
    }
   ],
   "source": [
    "product_price=int(input(\"Enter the price of the product\"))\n",
    "if product_price>1000:\n",
    "    print(\"You are eligible for the discount of RS 20%.\\nThe price of the product is {}.\".format(product_price*0.8))\n",
    "else :\n",
    "    print(\"You are eligible for the discount of RS 30%.\\nThe price of the product is {}.\".format(product_price*0.7))\n"
   ]
  },
  {
   "cell_type": "code",
   "execution_count": 22,
   "id": "0c6b1342-ff2f-4f4e-891b-663fa035beee",
   "metadata": {},
   "outputs": [
    {
     "name": "stdin",
     "output_type": "stream",
     "text": [
      "Enter the price of the product 22\n"
     ]
    },
    {
     "name": "stdout",
     "output_type": "stream",
     "text": [
      "Lets drink tea\n",
      "Earn some money\n"
     ]
    }
   ],
   "source": [
    "product_price=int(input(\"Enter the price of the product\"))\n",
    "if product_price>3000:\n",
    "    if product_price==4000:\n",
    "        print(\"Congratulations,you get a Goa trip\")\n",
    "    print(\"You are eligible for the discount of RS 20%.\\nThe price of the product is {}.\".format(product_price*0.8))\n",
    "elif product_price>=2000 and product_price<=3000:\n",
    "    if product_price==2999:\n",
    "        print(\"Congratulations you get an addtional gift\")\n",
    "    print(\"You are eligible for the discount of RS 30%.\\nThe price of the product is {}.\".format(product_price*0.7))\n",
    "elif product_price>=1000 and product_price<=2000:\n",
    "    print(\"You are eligible for the discount of RS 40%.\\nThe price of the product is {}.\".format(product_price*0.6))\n",
    "else : \n",
    "    print(\"Lets drink tea\")\n",
    "    print(\"Earn some money\")"
   ]
  },
  {
   "cell_type": "code",
   "execution_count": 24,
   "id": "3e9b636c-dbef-4680-9fa8-62d984db5c37",
   "metadata": {},
   "outputs": [
    {
     "name": "stdin",
     "output_type": "stream",
     "text": [
      "ENter the number 22\n"
     ]
    },
    {
     "ename": "TypeError",
     "evalue": "'<=' not supported between instances of 'str' and 'int'",
     "output_type": "error",
     "traceback": [
      "\u001b[0;31m---------------------------------------------------------------------------\u001b[0m",
      "\u001b[0;31mTypeError\u001b[0m                                 Traceback (most recent call last)",
      "Cell \u001b[0;32mIn[24], line 2\u001b[0m\n\u001b[1;32m      1\u001b[0m val \u001b[38;5;241m=\u001b[39m \u001b[38;5;28minput\u001b[39m(\u001b[38;5;124m'\u001b[39m\u001b[38;5;124mENter the number\u001b[39m\u001b[38;5;124m'\u001b[39m)\n\u001b[0;32m----> 2\u001b[0m \u001b[38;5;28;01mif\u001b[39;00m(val\u001b[38;5;241m<\u001b[39m\u001b[38;5;241m=\u001b[39m\u001b[38;5;241m999\u001b[39m):\u001b[38;5;28mprint\u001b[39m(\u001b[38;5;124m\"\u001b[39m\u001b[38;5;124mValue is \u001b[39m\u001b[38;5;124m\"\u001b[39m)\n",
      "\u001b[0;31mTypeError\u001b[0m: '<=' not supported between instances of 'str' and 'int'"
     ]
    }
   ],
   "source": [
    "val = input('ENter the number')\n",
    "if(val<=999):print(\"Value is \")\n"
   ]
  },
  {
   "cell_type": "code",
   "execution_count": 25,
   "id": "db8691a5-b1da-4055-be1b-4bcb709f3ea2",
   "metadata": {},
   "outputs": [
    {
     "name": "stdout",
     "output_type": "stream",
     "text": [
      "26\n",
      "27\n",
      "28\n",
      "29\n",
      "30\n",
      "31\n",
      "32\n",
      "33\n",
      "34\n",
      "35\n",
      "36\n",
      "37\n",
      "38\n",
      "39\n",
      "40\n",
      "41\n",
      "42\n",
      "43\n",
      "44\n",
      "45\n",
      "46\n",
      "47\n",
      "48\n",
      "49\n",
      "50\n",
      "51\n",
      "52\n",
      "53\n",
      "54\n",
      "55\n",
      "56\n",
      "57\n",
      "58\n",
      "59\n",
      "60\n",
      "61\n",
      "Its time for retirment\n"
     ]
    }
   ],
   "source": [
    "joining_age = 25\n",
    "while joining_age<=60:\n",
    "    \n",
    "    joining_age=joining_age+1\n",
    "    print(joining_age)\n",
    "else:\n",
    "    print(\"Its time for retirment\")"
   ]
  },
  {
   "cell_type": "code",
   "execution_count": 26,
   "id": "8935a5d6-618d-41a4-a3e8-3fa750827856",
   "metadata": {},
   "outputs": [
    {
     "name": "stdout",
     "output_type": "stream",
     "text": [
      "1000\n",
      "900\n",
      "800\n",
      "700\n",
      "600\n",
      "500\n",
      "400\n",
      "300\n",
      "200\n",
      "100\n",
      "Put more money\n"
     ]
    }
   ],
   "source": [
    "total_amount = 1000\n",
    "while total_amount!=0:\n",
    "    print(total_amount)\n",
    "    total_amount=total_amount-100\n",
    "    \n",
    "else:\n",
    "    print(\"Put more money\")"
   ]
  },
  {
   "cell_type": "code",
   "execution_count": 27,
   "id": "a3a9c75b-2eb1-43d7-ada6-2a9cace2c76a",
   "metadata": {},
   "outputs": [],
   "source": [
    "lst=[\"maheep\",1,2,3,4,\"apple\",\"orange\"]"
   ]
  },
  {
   "cell_type": "code",
   "execution_count": 28,
   "id": "5d22e9f7-06e5-482c-ad71-8de7cb1500b9",
   "metadata": {},
   "outputs": [
    {
     "data": {
      "text/plain": [
       "list"
      ]
     },
     "execution_count": 28,
     "metadata": {},
     "output_type": "execute_result"
    }
   ],
   "source": [
    "type(lst)"
   ]
  },
  {
   "cell_type": "code",
   "execution_count": 29,
   "id": "5dcc351a-741f-46cb-b9ba-1f8a6453fcd1",
   "metadata": {},
   "outputs": [
    {
     "data": {
      "text/plain": [
       "4"
      ]
     },
     "execution_count": 29,
     "metadata": {},
     "output_type": "execute_result"
    }
   ],
   "source": [
    "lst[4]"
   ]
  },
  {
   "cell_type": "code",
   "execution_count": 30,
   "id": "12a50c07-0d1b-4b02-ae31-17ddf4bba423",
   "metadata": {},
   "outputs": [
    {
     "data": {
      "text/plain": [
       "['maheep', 1, 2, 3, 4, 'apple', 'orange']"
      ]
     },
     "execution_count": 30,
     "metadata": {},
     "output_type": "execute_result"
    }
   ],
   "source": [
    "lst"
   ]
  },
  {
   "cell_type": "code",
   "execution_count": 31,
   "id": "4d457158-452e-49ca-b8b2-6888da447c5f",
   "metadata": {},
   "outputs": [
    {
     "name": "stdout",
     "output_type": "stream",
     "text": [
      "maheep\n",
      "1\n",
      "2\n",
      "3\n",
      "4\n",
      "apple\n",
      "orange\n"
     ]
    }
   ],
   "source": [
    "for x in lst:\n",
    "    print(x)\n",
    "    "
   ]
  },
  {
   "cell_type": "code",
   "execution_count": 32,
   "id": "afe5b0a5-a1ac-4d5d-9317-3b5fbd98a231",
   "metadata": {},
   "outputs": [],
   "source": [
    "fruits=[\"mango\",\"cherry\",\"apple\",\"papaya\"]"
   ]
  },
  {
   "cell_type": "code",
   "execution_count": 35,
   "id": "9a7a327c-e03f-4728-8a37-f694719cb537",
   "metadata": {},
   "outputs": [
    {
     "name": "stdout",
     "output_type": "stream",
     "text": [
      "mango\n",
      "cherry\n",
      "the fruit is cherry\n",
      "apple\n",
      "papaya\n"
     ]
    }
   ],
   "source": [
    "for a  in fruits:\n",
    "    print(a)\n",
    "    if a==\"cherry\":\n",
    "        print(\"the fruit is cherry\")\n",
    "        "
   ]
  },
  {
   "cell_type": "code",
   "execution_count": 38,
   "id": "0e6e7b5a-b83a-45c6-8672-ab3e52032b7d",
   "metadata": {},
   "outputs": [
    {
     "name": "stdout",
     "output_type": "stream",
     "text": [
      "mango"
     ]
    }
   ],
   "source": [
    "fruit='mango'\n",
    "for x in fruit:\n",
    "    print(x,end='')"
   ]
  },
  {
   "cell_type": "code",
   "execution_count": 39,
   "id": "da8fb533-82b2-483c-ada8-be4b9765648e",
   "metadata": {},
   "outputs": [
    {
     "data": {
      "text/plain": [
       "'a'"
      ]
     },
     "execution_count": 39,
     "metadata": {},
     "output_type": "execute_result"
    }
   ],
   "source": [
    "fruit[1]"
   ]
  },
  {
   "cell_type": "markdown",
   "id": "61af9785-7df0-480a-a1bc-c77a959f0356",
   "metadata": {},
   "source": [
    "### Nested Loops"
   ]
  },
  {
   "cell_type": "code",
   "execution_count": 49,
   "id": "da40f8af-29b4-4e5e-a6fd-ed3b91802be1",
   "metadata": {},
   "outputs": [
    {
     "name": "stdout",
     "output_type": "stream",
     "text": [
      "*\n",
      "**\n",
      "***\n",
      "****\n",
      "*****\n",
      "******\n",
      "*******\n"
     ]
    }
   ],
   "source": [
    "n=7\n",
    "for i in range(0,n):\n",
    "    for j in range(0,i+1):\n",
    "        print(\"*\",end=\"\")\n",
    "    print(\"\\r\")\n",
    "        \n",
    "    "
   ]
  },
  {
   "cell_type": "code",
   "execution_count": 50,
   "id": "8fb6f550-6c8a-4b43-96f9-a96c3bdb5985",
   "metadata": {},
   "outputs": [],
   "source": [
    "fruits_list = [\"mango\",\"cherry\",\"apple\",\"papaya\",\"banana\"]\n"
   ]
  },
  {
   "cell_type": "code",
   "execution_count": 55,
   "id": "a03b186b-5872-4d06-8379-7172b1b740ba",
   "metadata": {},
   "outputs": [
    {
     "name": "stdout",
     "output_type": "stream",
     "text": [
      "mango\n",
      "cherry\n",
      "THe fruit is apple\n",
      "papaya\n",
      "banana\n"
     ]
    }
   ],
   "source": [
    "for i in fruits_list:\n",
    "    if i==\"apple\":\n",
    "        print(\"THe fruit is apple\")\n",
    "        continue\n",
    "    print(i)"
   ]
  },
  {
   "cell_type": "code",
   "execution_count": 56,
   "id": "0ce3d926-9f83-483c-bc5b-f5681b7a8ebc",
   "metadata": {},
   "outputs": [
    {
     "name": "stdout",
     "output_type": "stream",
     "text": [
      "mango\n",
      "cherry\n",
      "THe fruit is apple\n"
     ]
    }
   ],
   "source": [
    "for i in fruits_list:\n",
    "    if i==\"apple\":\n",
    "        print(\"THe fruit is apple\")\n",
    "        break\n",
    "    print(i)"
   ]
  },
  {
   "cell_type": "code",
   "execution_count": 57,
   "id": "8c082926-db78-4e21-9e1f-296c10e1bd81",
   "metadata": {},
   "outputs": [
    {
     "name": "stdout",
     "output_type": "stream",
     "text": [
      "mango\n",
      "cherry\n",
      "THe fruit is apple\n",
      "apple\n",
      "papaya\n",
      "banana\n"
     ]
    }
   ],
   "source": [
    "for i in fruits_list:\n",
    "    if i==\"apple\":\n",
    "        print(\"THe fruit is apple\")\n",
    "        pass\n",
    "    print(i)"
   ]
  },
  {
   "cell_type": "code",
   "execution_count": null,
   "id": "b24b0443-a165-49f5-80ce-fb219a6317cf",
   "metadata": {},
   "outputs": [],
   "source": []
  }
 ],
 "metadata": {
  "kernelspec": {
   "display_name": "Python 3 (ipykernel)",
   "language": "python",
   "name": "python3"
  },
  "language_info": {
   "codemirror_mode": {
    "name": "ipython",
    "version": 3
   },
   "file_extension": ".py",
   "mimetype": "text/x-python",
   "name": "python",
   "nbconvert_exporter": "python",
   "pygments_lexer": "ipython3",
   "version": "3.10.8"
  }
 },
 "nbformat": 4,
 "nbformat_minor": 5
}
