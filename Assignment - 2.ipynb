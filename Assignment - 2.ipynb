{
 "cells": [
  {
   "cell_type": "markdown",
   "id": "aee47ae8-d1e4-48cf-b2ff-060b631bfc0b",
   "metadata": {},
   "source": [
    "# Assignment-2"
   ]
  },
  {
   "cell_type": "code",
   "execution_count": 1,
   "id": "b6baf3e7-6ab3-45ed-ae3f-345855ab213e",
   "metadata": {},
   "outputs": [
    {
     "name": "stdin",
     "output_type": "stream",
     "text": [
      "Enter a city delhi\n"
     ]
    },
    {
     "name": "stdout",
     "output_type": "stream",
     "text": [
      "Monument is Red Fort\n"
     ]
    }
   ],
   "source": [
    "city=str(input(\"Enter a city\"))\n",
    "if city=='Delhi' or city=='delhi':\n",
    "    print('Monument is Red Fort')\n",
    "elif city=='Agra' or city=='agra':\n",
    "    print('Monument is Taj Mahal')\n",
    "elif city=='Jaipur' or city=='jaipur':\n",
    "    print('Monument is Jal Mahal')"
   ]
  },
  {
   "cell_type": "code",
   "execution_count": 2,
   "id": "e01714a4-1757-48c2-bcb3-8e4be282a555",
   "metadata": {},
   "outputs": [
    {
     "name": "stdin",
     "output_type": "stream",
     "text": [
      "Enter the price of the Bike 150000\n"
     ]
    },
    {
     "name": "stdout",
     "output_type": "stream",
     "text": [
      "You need to pay a road tax of 15% on cost.\n",
      "The effective payable tax is 22500.0\n"
     ]
    }
   ],
   "source": [
    "BikePrice=int(input(\"Enter the price of the Bike\"))\n",
    "if BikePrice>100000:\n",
    "    print(\"You need to pay a road tax of 15% on cost.\\nThe effective payable tax is {}\".format(BikePrice*0.15))\n",
    "elif BikePrice>50000 and BikePrice<=100000:\n",
    "    print(\"You need to pay a road tax of 10% on cost.\\nThe effective payable tax is {}\".format(BikePrice*0.10))\n",
    "elif BikePrice<=50000:\n",
    "    print(\"You need to pay a road tax of 5% on cost.\\nThe effective payable tax is {}\".format(BikePrice*0.05))\n"
   ]
  },
  {
   "cell_type": "code",
   "execution_count": 4,
   "id": "be690cdf-d413-4778-815c-84d9f6ddf689",
   "metadata": {},
   "outputs": [
    {
     "name": "stdin",
     "output_type": "stream",
     "text": [
      "Enter the marks of the Student 90\n"
     ]
    },
    {
     "name": "stdout",
     "output_type": "stream",
     "text": [
      "Good Score,you have achived B grade\n"
     ]
    }
   ],
   "source": [
    "StudentMarks=int(input(\"Enter the marks of the Student\"))\n",
    "if StudentMarks>90:\n",
    "    print(\"Excelent Score,you have achived A grade\")\n",
    "elif StudentMarks>80 and StudentMarks<=90:\n",
    "    print(\"Good Score,you have achived B grade\")\n",
    "elif StudentMarks>=60 and StudentMarks<=80:\n",
    "    print(\"Satisfactory Score,you have achived C grade\")\n",
    "elif StudentMarks<60:\n",
    "    print(\"You need to work hard,you have achived D grade\")"
   ]
  },
  {
   "cell_type": "code",
   "execution_count": null,
   "id": "b4ca7570-482a-47a8-bbe8-3f52f23e4955",
   "metadata": {},
   "outputs": [],
   "source": [
    "Number=int(input(\"Enter a number to be checked\"))\n",
    "flag=0\n",
    "while Number>=10:\n",
    "    if Number%3==0:\n",
    "        flag=flag+1\n",
    "print(\"The entered number can be divided {} times\".format(flag))"
   ]
  },
  {
   "cell_type": "code",
   "execution_count": null,
   "id": "d71e6422-51ef-45d4-aadb-8c388bb3d2bd",
   "metadata": {},
   "outputs": [],
   "source": []
  },
  {
   "cell_type": "code",
   "execution_count": null,
   "id": "0b5c9f0a-aa4c-46bd-bd7c-4d7f86e67bc1",
   "metadata": {},
   "outputs": [],
   "source": []
  }
 ],
 "metadata": {
  "kernelspec": {
   "display_name": "Python 3 (ipykernel)",
   "language": "python",
   "name": "python3"
  },
  "language_info": {
   "codemirror_mode": {
    "name": "ipython",
    "version": 3
   },
   "file_extension": ".py",
   "mimetype": "text/x-python",
   "name": "python",
   "nbconvert_exporter": "python",
   "pygments_lexer": "ipython3",
   "version": "3.10.8"
  }
 },
 "nbformat": 4,
 "nbformat_minor": 5
}
