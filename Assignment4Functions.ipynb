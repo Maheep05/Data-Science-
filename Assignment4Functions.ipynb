{
 "cells": [
  {
   "cell_type": "markdown",
   "id": "f7b410ef-74d1-4ded-948a-a5e39efd40af",
   "metadata": {},
   "source": [
    "## 1>>> Def keyword is used to define a function"
   ]
  },
  {
   "cell_type": "code",
   "execution_count": 1,
   "id": "9b201a9b-a7cb-4117-9909-60c6ac4687a0",
   "metadata": {},
   "outputs": [
    {
     "name": "stdout",
     "output_type": "stream",
     "text": [
      "[1, 3, 5, 7, 9, 11, 13, 15, 17, 19, 21, 23, 25]\n"
     ]
    }
   ],
   "source": [
    "def OddNumbers():\n",
    "    OddList = []\n",
    "    for num in range(1, 26):\n",
    "        if num % 2 != 0:\n",
    "            OddList.append(num)\n",
    "    return OddList\n",
    "result = OddNumbers()\n",
    "print(result)"
   ]
  },
  {
   "cell_type": "markdown",
   "id": "c80a5b2d-bfe7-440a-b9cd-53a1396055f6",
   "metadata": {},
   "source": [
    "## 2>>Args and Kwargs"
   ]
  },
  {
   "cell_type": "code",
   "execution_count": 5,
   "id": "b8a515cf-181b-44d8-b828-0090b27107ec",
   "metadata": {},
   "outputs": [
    {
     "name": "stdout",
     "output_type": "stream",
     "text": [
      "15\n",
      "name: John\n",
      "age: 30\n",
      "city: New York\n"
     ]
    }
   ],
   "source": [
    "def sum_args(*args):\n",
    "    sum = 0\n",
    "    for num in args:\n",
    "        sum += num\n",
    "    return sum\n",
    "result = sum_args(1, 2, 3, 4, 5)\n",
    "print(result) \n",
    "\n",
    "\n",
    "\n",
    "def print_kwargs(**kwargs):\n",
    "    for key, value in kwargs.items():\n",
    "        print(f\"{key}: {value}\")\n",
    "print_kwargs(name=\"John\", age=30, city=\"New York\")"
   ]
  },
  {
   "cell_type": "markdown",
   "id": "7681bcdb-30f0-4cc2-827e-a06dc5b8ee1c",
   "metadata": {},
   "source": [
    "## 3>>Iterative Functions"
   ]
  },
  {
   "cell_type": "code",
   "execution_count": 6,
   "id": "61fc012b-683f-4cc2-a519-e722351d1019",
   "metadata": {},
   "outputs": [
    {
     "name": "stdout",
     "output_type": "stream",
     "text": [
      "2\n",
      "4\n",
      "6\n",
      "8\n",
      "10\n"
     ]
    }
   ],
   "source": [
    "numbers = [2, 4, 6, 8, 10, 12, 14, 16, 18, 20]\n",
    "\n",
    "\n",
    "numbers_iter = iter(numbers)\n",
    "\n",
    "\n",
    "for i in range(5):\n",
    "    print(next(numbers_iter))"
   ]
  },
  {
   "cell_type": "markdown",
   "id": "b48cf764-b85d-4051-976e-f9fb13f0a48f",
   "metadata": {},
   "source": [
    "## 4>>Generator Functions"
   ]
  },
  {
   "cell_type": "code",
   "execution_count": 11,
   "id": "7f66ab3e-d875-400d-927d-7b0a6c32c0fb",
   "metadata": {},
   "outputs": [
    {
     "name": "stdout",
     "output_type": "stream",
     "text": [
      "0\n",
      "1\n",
      "1\n",
      "2\n",
      "3\n",
      "5\n",
      "8\n"
     ]
    }
   ],
   "source": [
    "def fib(n):\n",
    "    a, b = 0, 1\n",
    "    for i in range(n):\n",
    "        yield a\n",
    "        a, b = b, a + b\n",
    "\n",
    "\n",
    "for num in fib(7):\n",
    "    print(num)"
   ]
  },
  {
   "cell_type": "code",
   "execution_count": null,
   "id": "d0c30409-89a8-4702-b3fe-e030ef36c769",
   "metadata": {},
   "outputs": [],
   "source": []
  }
 ],
 "metadata": {
  "kernelspec": {
   "display_name": "Python 3 (ipykernel)",
   "language": "python",
   "name": "python3"
  },
  "language_info": {
   "codemirror_mode": {
    "name": "ipython",
    "version": 3
   },
   "file_extension": ".py",
   "mimetype": "text/x-python",
   "name": "python",
   "nbconvert_exporter": "python",
   "pygments_lexer": "ipython3",
   "version": "3.10.8"
  }
 },
 "nbformat": 4,
 "nbformat_minor": 5
}
