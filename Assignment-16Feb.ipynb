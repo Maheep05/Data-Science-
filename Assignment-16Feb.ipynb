{
 "cells": [
  {
   "cell_type": "markdown",
   "id": "0b8703eb-9108-4952-a45f-b03877db0cea",
   "metadata": {},
   "source": [
    "## 1).A database is a structured collection of data that can be stored, retrieved, and managed efficiently. It is used to organize and manage data in a way that allows for easy access, retrieval, and manipulation of information.\n",
    "\n",
    "SQL databases are relational databases that use Structured Query Language (SQL) for querying and managing data. They are designed to store structured data in tables with pre-defined schemas, with strong emphasis on data consistency and integrity. SQL databases are widely used for transactional applications, where data is frequently read and written.\n",
    "\n",
    "NoSQL databases, on the other hand, are non-relational databases that do not use SQL for querying data. They are designed to handle unstructured and semi-structured data, and offer a flexible schema that allows for dynamic changes to the data structure. "
   ]
  },
  {
   "cell_type": "markdown",
   "id": "44e06482-5c28-4ad3-9df5-bde0f1452aac",
   "metadata": {},
   "source": [
    "## 2).DDL stands for Data Definition Language, which is used to define the structure of a database. DDL statements are used to create, modify, and delete database objects such as tables, indexes, and views.\n",
    "\n",
    "CREATE is used to create a new table or other database objects. For example, the following SQL statement creates a new table called \"customers\":\n",
    "\n",
    "CREATE TABLE customers (\n",
    "id INT PRIMARY KEY,\n",
    "name VARCHAR(50),\n",
    "email VARCHAR(50)\n",
    ");\n",
    "\n",
    "DROP is used to delete an existing table or other database objects. For example, the following SQL statement drops the \"customers\" table:\n",
    "\n",
    "DROP TABLE customers;\n",
    "\n",
    "ALTER is used to modify an existing table or other database objects. For example, the following SQL statement adds a new column called \"phone\" to the \"customers\" table:\n",
    "\n",
    "ALTER TABLE customers\n",
    "ADD phone VARCHAR(20);\n",
    "\n",
    "TRUNCATE is used to remove all data from a table. It is similar to DELETE, but it does not delete the table structure. For example, the following SQL statement removes all data from the \"customers\" table:\n",
    "\n",
    "TRUNCATE TABLE customers;"
   ]
  },
  {
   "cell_type": "markdown",
   "id": "412784d7-c00f-4a36-9959-e74565834a81",
   "metadata": {},
   "source": [
    "## 3).DML stands for Data Manipulation Language, which is used to manipulate data stored in a database. DML statements are used to insert, update, and delete data from tables.\n",
    "\n",
    "INSERT is used to add new rows to a table. For example, the following SQL statement adds a new row to the \"customers\" table:\n",
    "\n",
    "INSERT INTO customers (id, name, email) VALUES (1, 'John Doe', 'john.doe@example.com');\n",
    "\n",
    "UPDATE is used to modify existing rows in a table. For example, the following SQL statement updates the email address of the customer with the ID of 1:\n",
    "\n",
    "UPDATE customers SET email = 'johndoe@example.com' WHERE id = 1;\n",
    "\n",
    "DELETE is used to remove rows from a table. For example, the following SQL statement removes the customer with the ID of 1:\n",
    "\n",
    "DELETE FROM customers WHERE id = 1;"
   ]
  },
  {
   "cell_type": "markdown",
   "id": "851083f3-aabf-4b0e-891b-9fb4833ce746",
   "metadata": {},
   "source": [
    "## 4).DQL stands for Data Query Language, which is used to retrieve data from a database. DQL statements are used to query and retrieve data from tables.\n",
    "\n",
    "SELECT is used to retrieve data from one or more tables. For example, the following SQL statement retrieves all rows and columns from the \"customers\" table:\n",
    "\n",
    "SELECT * FROM customers;\n",
    "\n",
    "You can also select specific columns by listing them after the SELECT keyword:\n",
    "\n",
    "SELECT name, email FROM customers;\n",
    "\n",
    "You can use WHERE clause to filter the results based on specific conditions:\n",
    "\n",
    "SELECT name, email FROM customers WHERE id = 1"
   ]
  },
  {
   "cell_type": "code",
   "execution_count": null,
   "id": "3a99b490-73b6-4c16-b50f-45fe94f38459",
   "metadata": {},
   "outputs": [],
   "source": []
  }
 ],
 "metadata": {
  "kernelspec": {
   "display_name": "Python 3 (ipykernel)",
   "language": "python",
   "name": "python3"
  },
  "language_info": {
   "codemirror_mode": {
    "name": "ipython",
    "version": 3
   },
   "file_extension": ".py",
   "mimetype": "text/x-python",
   "name": "python",
   "nbconvert_exporter": "python",
   "pygments_lexer": "ipython3",
   "version": "3.10.8"
  }
 },
 "nbformat": 4,
 "nbformat_minor": 5
}
