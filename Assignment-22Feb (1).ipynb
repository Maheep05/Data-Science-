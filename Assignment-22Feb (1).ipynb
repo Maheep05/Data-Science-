{
 "cells": [
  {
   "cell_type": "code",
   "execution_count": 1,
   "id": "450323ba-f383-4446-9e7c-cb470b2ad109",
   "metadata": {},
   "outputs": [],
   "source": [
    "import pandas as pd"
   ]
  },
  {
   "cell_type": "markdown",
   "id": "af86fdf9-c11c-496d-8f62-f23a7b228c52",
   "metadata": {},
   "source": [
    "## 1))."
   ]
  },
  {
   "cell_type": "code",
   "execution_count": 2,
   "id": "17db71f3-5727-4ba8-a2ce-b8102e990851",
   "metadata": {},
   "outputs": [],
   "source": [
    "data = ['4','8','15','16','23','42']\n",
    "series = pd.Series(data)\n"
   ]
  },
  {
   "cell_type": "code",
   "execution_count": 3,
   "id": "63dce162-a76c-4a0f-b1ba-3e80134159dc",
   "metadata": {},
   "outputs": [
    {
     "name": "stdout",
     "output_type": "stream",
     "text": [
      "0     4\n",
      "1     8\n",
      "2    15\n",
      "3    16\n",
      "4    23\n",
      "5    42\n",
      "dtype: object\n"
     ]
    }
   ],
   "source": [
    "print(series)"
   ]
  },
  {
   "cell_type": "markdown",
   "id": "e5ef0412-8a77-4d3c-8dcf-9d83d690a906",
   "metadata": {},
   "source": [
    "## 2))."
   ]
  },
  {
   "cell_type": "code",
   "execution_count": 7,
   "id": "3aabed1e-679f-4162-b291-8f8ec787b100",
   "metadata": {},
   "outputs": [
    {
     "name": "stdout",
     "output_type": "stream",
     "text": [
      "     Name Age  Gender\n",
      "0   Alice  25  Female\n",
      "1     Bob  30    Male\n",
      "2  Claire  27  Female\n"
     ]
    }
   ],
   "source": [
    "data = {'Name':['Alice','Bob','Claire'],\n",
    "        'Age':['25','30','27'],\n",
    "        'Gender':['Female','Male','Female']}\n",
    "df = pd.DataFrame(data)\n",
    "print(df)"
   ]
  },
  {
   "cell_type": "markdown",
   "id": "19051d38-6d7f-46ff-92ac-1bc74bf75569",
   "metadata": {},
   "source": [
    "## 3))"
   ]
  },
  {
   "cell_type": "code",
   "execution_count": 8,
   "id": "93285f60-d3c0-44cd-8206-b730e2885522",
   "metadata": {},
   "outputs": [
    {
     "name": "stdout",
     "output_type": "stream",
     "text": [
      "0     1\n",
      "1     2\n",
      "2     3\n",
      "3     4\n",
      "4     5\n",
      "5     6\n",
      "6     7\n",
      "7     8\n",
      "8     9\n",
      "9    10\n",
      "dtype: int64\n"
     ]
    }
   ],
   "source": [
    "list1 = [1,2,3,4,5,6,7,8,9,10]\n",
    "series = pd.Series(list1)\n",
    "print(series)"
   ]
  },
  {
   "cell_type": "markdown",
   "id": "208ec402-b22c-467a-af50-5bca4f16b1f3",
   "metadata": {},
   "source": [
    "## 4)).A Pandas DataFrame is a 2-dimensional labeled data structure with columns of potentially different types. It is similar to a table in a relational database, or a spreadsheet in Excel. A Pandas Series, on the other hand, is a one-dimensional labeled array capable of holding any data type (integers, strings, floating-point numbers, Python objects, etc.)."
   ]
  },
  {
   "cell_type": "code",
   "execution_count": 9,
   "id": "d6a1925e-9581-4be7-b8a0-663a42c4f4a0",
   "metadata": {},
   "outputs": [
    {
     "name": "stdout",
     "output_type": "stream",
     "text": [
      "     Name Age  Gender\n",
      "0   Alice  25  Female\n",
      "1     Bob  30    Male\n",
      "2  Claire  27  Female\n"
     ]
    }
   ],
   "source": [
    "data1 = {'Name':['Alice','Bob','Claire'],\n",
    "        'Age':['25','30','27'],\n",
    "        'Gender':['Female','Male','Female']}\n",
    "df1 = pd.DataFrame(data1)\n",
    "print(df1) "
   ]
  },
  {
   "cell_type": "markdown",
   "id": "cd3ea80f-0367-4b79-b7f4-c6f011e757c5",
   "metadata": {},
   "source": [
    "5)).Some common functions that can be used to manipulate data in a Pandas DataFrame include:\n",
    "\n",
    "head() and tail(): to view the first or last n rows of the DataFrame\n",
    "describe(): to get a summary of the statistical information about the DataFrame\n",
    "sort_values(): to sort the DataFrame by one or more columns\n",
    "groupby(): to group the DataFrame by one or more columns and apply aggregate functions\n",
    "pivot_table(): to create a pivot table from the DataFrame\n",
    "drop(): to drop one or more columns or rows from the DataFrame\n",
    "fillna(): to fill missing values in the DataFrame"
   ]
  },
  {
   "cell_type": "markdown",
   "id": "b8224e00-8bb7-40ee-9924-2efd143ff9f4",
   "metadata": {},
   "source": [
    "## 6)).Among the given options (Series, DataFrame, Panel), only DataFrame is mutable in nature. This means that we can modify its contents, add or remove rows or columns, and perform other manipulations on the data."
   ]
  },
  {
   "cell_type": "markdown",
   "id": "fb9f5301-eea9-4eb7-81df-e7d0d6a2c2b9",
   "metadata": {},
   "source": [
    "## 7))."
   ]
  },
  {
   "cell_type": "code",
   "execution_count": 11,
   "id": "481e3aa7-1bb1-497b-93e8-ba2326063292",
   "metadata": {},
   "outputs": [
    {
     "name": "stdout",
     "output_type": "stream",
     "text": [
      "      Name  Age  Gender\n",
      "0    Alice   25  female\n",
      "1      Bob   30    male\n",
      "2  Charlie   35  female\n"
     ]
    }
   ],
   "source": [
    "names = pd.Series(['Alice', 'Bob', 'Charlie'])\n",
    "age = pd.Series([25,30,35])\n",
    "Gender = pd.Series(['female','male','female'])\n",
    "df3 = pd.DataFrame({'Name':names,'Age':age,'Gender':Gender})\n",
    "print(df3)"
   ]
  },
  {
   "cell_type": "code",
   "execution_count": null,
   "id": "bed46594-b9a4-402d-addb-e34060eedc6e",
   "metadata": {},
   "outputs": [],
   "source": []
  }
 ],
 "metadata": {
  "kernelspec": {
   "display_name": "Python 3 (ipykernel)",
   "language": "python",
   "name": "python3"
  },
  "language_info": {
   "codemirror_mode": {
    "name": "ipython",
    "version": 3
   },
   "file_extension": ".py",
   "mimetype": "text/x-python",
   "name": "python",
   "nbconvert_exporter": "python",
   "pygments_lexer": "ipython3",
   "version": "3.10.8"
  }
 },
 "nbformat": 4,
 "nbformat_minor": 5
}
