{
 "cells": [
  {
   "cell_type": "markdown",
   "id": "1e169874-2d85-4d21-81e7-c01ccad636b3",
   "metadata": {},
   "source": [
    "## 1>"
   ]
  },
  {
   "cell_type": "markdown",
   "id": "31c5a141-fba6-4550-a1f6-a0b75369e1da",
   "metadata": {},
   "source": [
    "Artificial Intelligence (AI) refers to the development of intelligent machines that can perform tasks that typically require human intelligence.Examples - Selfdriving cars,robots\n",
    "Machine Learning (ML) is a subset of AI that involves teaching machines to learn from data, without being explicitly programmed. ML algorithms can learn from experience and improve over time.\n",
    "Deep Learning (DL) is a subset of ML that uses neural networks with multiple layers to learn from data. DL algorithms can automatically extract features from data and build increasingly complex representations of it."
   ]
  },
  {
   "cell_type": "markdown",
   "id": "f11e59af-34e0-46e3-b92d-e7f72c09ece3",
   "metadata": {},
   "source": [
    "## 2>"
   ]
  },
  {
   "cell_type": "markdown",
   "id": "7cf5ed1f-4690-4c62-91f0-8434bb71cbfe",
   "metadata": {},
   "source": [
    "Supervised learning is a type of machine learning where an algorithm learns from labeled data, meaning it is trained on a dataset where the input data and their corresponding outputs are both known.Examples = Image Detecytion,spam detection"
   ]
  },
  {
   "cell_type": "markdown",
   "id": "ee8e5f03-1b13-43a1-b360-103b8d61d855",
   "metadata": {},
   "source": [
    "## 3>`"
   ]
  },
  {
   "cell_type": "markdown",
   "id": "05ecc1b8-8d52-4636-a5aa-6afe97a873ed",
   "metadata": {},
   "source": [
    "Unsupervised learning is a type of machine learning where an algorithm learns from unlabeled data, meaning it is trained on a dataset where the input data is not labeled or categorized in any way. The goal of unsupervised learning is to identify patterns or structure in the data without any predefined output.Example - Clustering"
   ]
  },
  {
   "cell_type": "markdown",
   "id": "0bf20abc-414a-4696-9315-1823172597ff",
   "metadata": {},
   "source": [
    "## 4>"
   ]
  },
  {
   "cell_type": "markdown",
   "id": "0c157367-ceae-4c38-a997-765204206676",
   "metadata": {},
   "source": [
    "AI: AI is a broad field that encompasses many techniques, including machine learning and deep learning. AI focuses on creating intelligent machines that can perform tasks that typically require human intelligence, such as natural language processing, computer vision, and decision-making.\n",
    "\n",
    "ML: ML is a subset of AI that involves teaching machines to learn from data without being explicitly programmed. ML algorithms can learn from experience and improve over time. ML techniques include supervised learning, unsupervised learning, and reinforcement learning.\n",
    "\n",
    "DS: DS is a multidisciplinary field that involves using statistical and computational methods to extract insights and knowledge from data. DS encompasses data cleaning, data preprocessing, exploratory data analysis, predictive modeling, and data visualization.\n",
    "\n",
    "DL: DL is a subset of ML that uses neural networks with multiple layers to learn from data. DL algorithms can automatically extract features from data and build increasingly complex representations of it. DL techniques are especially useful for image recognition, speech recognition, and natural language processing."
   ]
  },
  {
   "cell_type": "markdown",
   "id": "ce725b40-d0c8-472a-8aed-7042da3e8639",
   "metadata": {},
   "source": [
    "## 5>"
   ]
  },
  {
   "cell_type": "markdown",
   "id": "8ff56972-51fc-47bd-ba65-d54e7d2f6ac3",
   "metadata": {},
   "source": [
    "Supervised learning is a type of machine learning where an algorithm learns from labeled data, meaning it is trained on a dataset where the input data and their corresponding outputs are both known.Examples = Image Detecytion,spam detection\n",
    "Unsupervised learning is a type of machine learning where an algorithm learns from unlabeled data, meaning it is trained on a dataset where the input data is not labeled or categorized in any way. The goal of unsupervised learning is to identify patterns or structure in the data without any predefined output.Example - Clustering"
   ]
  },
  {
   "cell_type": "code",
   "execution_count": null,
   "id": "d48b6a51-a4bc-4743-abdf-d1ad3c73a395",
   "metadata": {},
   "outputs": [],
   "source": []
  }
 ],
 "metadata": {
  "kernelspec": {
   "display_name": "Python 3 (ipykernel)",
   "language": "python",
   "name": "python3"
  },
  "language_info": {
   "codemirror_mode": {
    "name": "ipython",
    "version": 3
   },
   "file_extension": ".py",
   "mimetype": "text/x-python",
   "name": "python",
   "nbconvert_exporter": "python",
   "pygments_lexer": "ipython3",
   "version": "3.10.8"
  }
 },
 "nbformat": 4,
 "nbformat_minor": 5
}
