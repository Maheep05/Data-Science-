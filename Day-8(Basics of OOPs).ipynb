{
 "cells": [
  {
   "cell_type": "code",
   "execution_count": 1,
   "id": "99b6d569-3a21-4161-aebd-72fba89261ca",
   "metadata": {},
   "outputs": [],
   "source": [
    "a = 1\n"
   ]
  },
  {
   "cell_type": "code",
   "execution_count": 2,
   "id": "4b7e064b-f7c1-4db9-9ca8-bbadbfdbe8db",
   "metadata": {},
   "outputs": [
    {
     "name": "stdout",
     "output_type": "stream",
     "text": [
      "<class 'int'>\n"
     ]
    }
   ],
   "source": [
    "print(type(a))"
   ]
  },
  {
   "cell_type": "code",
   "execution_count": 3,
   "id": "a58d0299-9dde-4595-ad64-549513e17b6b",
   "metadata": {},
   "outputs": [
    {
     "name": "stdout",
     "output_type": "stream",
     "text": [
      "<class 'str'>\n"
     ]
    }
   ],
   "source": [
    "print(type('hello'))"
   ]
  },
  {
   "cell_type": "code",
   "execution_count": 4,
   "id": "29a9d73d-9555-4b68-a95c-51cc9f23ea17",
   "metadata": {},
   "outputs": [],
   "source": [
    "class test:\n",
    "    pass"
   ]
  },
  {
   "cell_type": "code",
   "execution_count": 7,
   "id": "af035dec-6455-4f26-9045-c30d4d44f699",
   "metadata": {},
   "outputs": [],
   "source": [
    "a= test()"
   ]
  },
  {
   "cell_type": "code",
   "execution_count": 8,
   "id": "d81f5ef4-b7c6-4324-8760-235939af9a5b",
   "metadata": {},
   "outputs": [
    {
     "name": "stdout",
     "output_type": "stream",
     "text": [
      "<class '__main__.test'>\n"
     ]
    }
   ],
   "source": [
    "print(type(a))"
   ]
  },
  {
   "cell_type": "code",
   "execution_count": 11,
   "id": "35b7fd04-532c-472b-aab5-9aafbfeaf7cf",
   "metadata": {},
   "outputs": [],
   "source": [
    "class hello:\n",
    "    def Welcome(self):\n",
    "        print('Hello world')"
   ]
  },
  {
   "cell_type": "code",
   "execution_count": 12,
   "id": "9a7cb3c2-31ed-4724-b309-ab64bc06b463",
   "metadata": {},
   "outputs": [],
   "source": [
    "rohan = hello()\n"
   ]
  },
  {
   "cell_type": "code",
   "execution_count": 13,
   "id": "702fe35b-a7ac-4598-b3f9-33bfb0fd109a",
   "metadata": {},
   "outputs": [
    {
     "name": "stdout",
     "output_type": "stream",
     "text": [
      "Hello world\n"
     ]
    }
   ],
   "source": [
    "rohan.Welcome()"
   ]
  },
  {
   "cell_type": "code",
   "execution_count": 14,
   "id": "08a154ab-cd4e-424d-b0f4-37678136de2f",
   "metadata": {},
   "outputs": [],
   "source": [
    "sohan = hello()"
   ]
  },
  {
   "cell_type": "code",
   "execution_count": 15,
   "id": "565ad007-81fb-4e42-8995-66e6f62464d3",
   "metadata": {},
   "outputs": [
    {
     "name": "stdout",
     "output_type": "stream",
     "text": [
      "Hello world\n"
     ]
    }
   ],
   "source": [
    "sohan.Welcome()"
   ]
  },
  {
   "cell_type": "markdown",
   "id": "6dd39a0a-1073-46bd-8d0f-efcbbd6fe75e",
   "metadata": {},
   "source": [
    "## Constructer helps class to take a data"
   ]
  },
  {
   "cell_type": "code",
   "execution_count": 18,
   "id": "800814c8-8135-4605-b9c5-d25e8060052a",
   "metadata": {},
   "outputs": [],
   "source": [
    "class hello1:\n",
    "    def __init__(self,Number,Email,StuId):\n",
    "        self.Number = Number\n",
    "        self.Email = Email\n",
    "        self.StuId = StuId\n",
    "    def return_Student_Details(self):\n",
    "        return self.Number,self.Email,self.StuId\n",
    "        "
   ]
  },
  {
   "cell_type": "code",
   "execution_count": 19,
   "id": "5d2e56e3-6e25-4c43-8ac8-849baf6be798",
   "metadata": {},
   "outputs": [],
   "source": [
    "rohan = hello1(123456,'rohan@mail.com',101)"
   ]
  },
  {
   "cell_type": "code",
   "execution_count": 20,
   "id": "e6a8363a-c72b-4697-8f64-5b9d29a1cc0b",
   "metadata": {},
   "outputs": [
    {
     "data": {
      "text/plain": [
       "123456"
      ]
     },
     "execution_count": 20,
     "metadata": {},
     "output_type": "execute_result"
    }
   ],
   "source": [
    "rohan.Number"
   ]
  },
  {
   "cell_type": "code",
   "execution_count": 21,
   "id": "ca902205-09c4-47e0-b65e-e9cf28646eef",
   "metadata": {},
   "outputs": [
    {
     "data": {
      "text/plain": [
       "'rohan@mail.com'"
      ]
     },
     "execution_count": 21,
     "metadata": {},
     "output_type": "execute_result"
    }
   ],
   "source": [
    "rohan.Email"
   ]
  },
  {
   "cell_type": "code",
   "execution_count": 22,
   "id": "f143bedc-e12c-4ccb-8f2c-47fd01869e25",
   "metadata": {},
   "outputs": [
    {
     "data": {
      "text/plain": [
       "101"
      ]
     },
     "execution_count": 22,
     "metadata": {},
     "output_type": "execute_result"
    }
   ],
   "source": [
    "rohan.StuId\n"
   ]
  },
  {
   "cell_type": "code",
   "execution_count": 24,
   "id": "a196ec5e-dc07-4958-9eac-80edab6bbb94",
   "metadata": {},
   "outputs": [
    {
     "data": {
      "text/plain": [
       "(123456, 'rohan@mail.com', 101)"
      ]
     },
     "execution_count": 24,
     "metadata": {},
     "output_type": "execute_result"
    }
   ],
   "source": [
    "rohan.return_Student_Details()"
   ]
  },
  {
   "cell_type": "code",
   "execution_count": 25,
   "id": "9d6f5162-b6ad-46df-9bb5-9a74fe1bc33c",
   "metadata": {},
   "outputs": [],
   "source": [
    "sohan = hello1(23456,'sohan@mail.com',102)"
   ]
  },
  {
   "cell_type": "code",
   "execution_count": 26,
   "id": "24cf9a7e-acfc-4593-965f-05c23c4f0d97",
   "metadata": {},
   "outputs": [
    {
     "data": {
      "text/plain": [
       "23456"
      ]
     },
     "execution_count": 26,
     "metadata": {},
     "output_type": "execute_result"
    }
   ],
   "source": [
    "sohan.Number"
   ]
  },
  {
   "cell_type": "code",
   "execution_count": 27,
   "id": "169ea0b9-7e80-4c9f-acfb-e39aa9c7fd49",
   "metadata": {},
   "outputs": [
    {
     "data": {
      "text/plain": [
       "'sohan@mail.com'"
      ]
     },
     "execution_count": 27,
     "metadata": {},
     "output_type": "execute_result"
    }
   ],
   "source": [
    "sohan.Email"
   ]
  },
  {
   "cell_type": "code",
   "execution_count": 28,
   "id": "c0154ddc-9621-43e1-925b-d05d5095ce7a",
   "metadata": {},
   "outputs": [
    {
     "data": {
      "text/plain": [
       "102"
      ]
     },
     "execution_count": 28,
     "metadata": {},
     "output_type": "execute_result"
    }
   ],
   "source": [
    "sohan.StuId"
   ]
  },
  {
   "cell_type": "code",
   "execution_count": 30,
   "id": "70552510-165c-49ed-a0cc-4290d33952a7",
   "metadata": {},
   "outputs": [],
   "source": [
    "class hello2:\n",
    "    def __init__(Sam,Number,Email,StuId):\n",
    "        Sam.Number = Number\n",
    "        Sam.Email = Email\n",
    "        Sam.StuId = StuId\n",
    "    def return_Student_Details(self):\n",
    "        return Sam.Number,Sam.Email,Sam.StuId\n",
    "        "
   ]
  },
  {
   "cell_type": "code",
   "execution_count": 31,
   "id": "e1cca59e-673c-4816-af52-304463e5896f",
   "metadata": {},
   "outputs": [],
   "source": [
    "mohan = hello2(23456,'mohan@mail.com',103)"
   ]
  },
  {
   "cell_type": "code",
   "execution_count": 32,
   "id": "1a5a542b-7188-43d9-a168-e3720470ecff",
   "metadata": {},
   "outputs": [
    {
     "data": {
      "text/plain": [
       "23456"
      ]
     },
     "execution_count": 32,
     "metadata": {},
     "output_type": "execute_result"
    }
   ],
   "source": [
    "mohan.Number"
   ]
  },
  {
   "cell_type": "markdown",
   "id": "d85210cc-d535-4388-b688-aee45fb9c8a0",
   "metadata": {},
   "source": [
    "## reference_variable.variable1 = variable  \n",
    "## both can be same or different python considers the LHS of the code"
   ]
  },
  {
   "cell_type": "code",
   "execution_count": null,
   "id": "693a521a-5174-4680-9e9e-b37876f0a97c",
   "metadata": {},
   "outputs": [],
   "source": []
  }
 ],
 "metadata": {
  "kernelspec": {
   "display_name": "Python 3 (ipykernel)",
   "language": "python",
   "name": "python3"
  },
  "language_info": {
   "codemirror_mode": {
    "name": "ipython",
    "version": 3
   },
   "file_extension": ".py",
   "mimetype": "text/x-python",
   "name": "python",
   "nbconvert_exporter": "python",
   "pygments_lexer": "ipython3",
   "version": "3.10.8"
  }
 },
 "nbformat": 4,
 "nbformat_minor": 5
}
