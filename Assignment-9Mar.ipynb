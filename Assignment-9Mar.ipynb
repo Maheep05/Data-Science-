{
 "cells": [
  {
   "cell_type": "markdown",
   "id": "9027987d-134a-46e7-a410-3f938656ce2c",
   "metadata": {},
   "source": [
    "# Q1: What are the Probability Mass Function (PMF) and Probability Density Function (PDF)? Explain with an example."
   ]
  },
  {
   "cell_type": "markdown",
   "id": "de02b1f7-9414-4436-a7f3-ee2ab98bece0",
   "metadata": {},
   "source": [
    " THe probability mass function or pmf is a function thaat guves the probavility of discrete random variables taking specific values whearas the probability density function or pdf is a function thaat gives the probability density of continous random variables at a given point.\n",
    "For Example, if we toss a fair coin, the probability of getting heads is 0.5 and the probability of getting tails is also 0.5. This can be represented by a PMF. On the other hand, if we consider the weight of individuals in a population, we can use a PDF to represent the probability of a person having a specific weight."
   ]
  },
  {
   "cell_type": "markdown",
   "id": "74e66ffd-1501-4d30-a0b8-d58f39438783",
   "metadata": {},
   "source": [
    "# Q2: What is Cumulative Density Function (CDF)? Explain with an example. Why CDF is used?"
   ]
  },
  {
   "cell_type": "markdown",
   "id": "fe615d00-cfed-411b-8d77-9a37eb038cce",
   "metadata": {},
   "source": [
    "The Cumulative Density Function (CDF) gives the probability of a random variable being less than or equal to a specific value. CDF is used to find the probability of a continuous random variable falling within a range of values."
   ]
  },
  {
   "cell_type": "markdown",
   "id": "54bf6bdc-70a1-47b6-8b73-4fc7ce046dc2",
   "metadata": {},
   "source": [
    "# What are some examples of situations where the normal distribution might be used as a model?Explain how the parameters of the normal distribution relate to the shape of the distribution."
   ]
  },
  {
   "cell_type": "markdown",
   "id": "de64640b-dd90-4efb-9c7f-c3a64436af87",
   "metadata": {},
   "source": [
    "THe normal distribution is commonly used as a model in situations wheere there asre a large sample size and the distribution of data is symmetric round the mean.Example includes heights and weights of the individuals.The parameter of normal distribution includes mean which refers to the peak of the distribution and the std deviation which refers to the spread of the dat around the mean "
   ]
  },
  {
   "cell_type": "markdown",
   "id": "7d332287-2971-4768-91e5-93a414222a69",
   "metadata": {},
   "source": [
    "# Q4: Explain the importance of Normal Distribution. Give a few real-life examples of Normal Distribution."
   ]
  },
  {
   "cell_type": "markdown",
   "id": "38910cf5-fd13-4381-b4b7-25e2d5772834",
   "metadata": {},
   "source": [
    "Normal distribution, also known as Gaussian distribution or bell curve, is a statistical concept that is important in many fields of study, including science, engineering, finance, and social sciences. Normal distribution is a continuous probability distribution that is symmetric, meaning that the data is equally likely to fall on either side of the mean or average value."
   ]
  },
  {
   "cell_type": "markdown",
   "id": "04e5efb4-2aed-4515-80cb-2b0de7ad2330",
   "metadata": {},
   "source": [
    "# Q5: What is Bernaulli Distribution? Give an Example. What is the difference between Bernoulli Distribution and Binomial Distribution?"
   ]
  },
  {
   "cell_type": "markdown",
   "id": "3b0146e4-6a1a-4572-b199-beed66d53844",
   "metadata": {},
   "source": [
    "Bernoulli distribution is a probability distribution that describes a random variable that can take only two possible values, typically represented as 0 and 1, where 0 represents a failure and 1 represents a success An example of Bernoulli distribution is a coin flip.The main difference between Bernoulli distribution and binomial distribution is that Bernoulli distribution deals with a single trial or experiment, while binomial distribution deals with multiple independent trials or experiments."
   ]
  },
  {
   "cell_type": "markdown",
   "id": "5e341629-90dc-418d-8bb9-cee3fb8986a1",
   "metadata": {},
   "source": [
    "# Q6. Consider a dataset with a mean of 50 and a standard deviation of 10. If we assume that the dataset is normally distributed, what is the probability that a randomly selected observation will be greater than 60? Use the appropriate formula and show your calculations."
   ]
  },
  {
   "cell_type": "markdown",
   "id": "16b99999-b7bb-4f94-b123-41ceee5e09db",
   "metadata": {},
   "source": [
    "To solve this problem, we can use the standard normal distribution and the z-score formula:\n",
    "\n",
    "z = (x - μ) / σ\n",
    "z = (60 - 50) / 10\n",
    "z = 1\n",
    "P(X > 60) = P(Z > 1) = 0.1587\n"
   ]
  },
  {
   "cell_type": "markdown",
   "id": "dba9b0a2-305f-4bff-93b3-a33970582026",
   "metadata": {},
   "source": [
    "# Q7: Explain uniform Distribution with an example."
   ]
  },
  {
   "cell_type": "markdown",
   "id": "e390370e-0bae-4436-b372-4851f428753f",
   "metadata": {},
   "source": [
    "Uniform distribution is a probability distribution where every possible outcome of a random variable is equally likely. This means that each value in a given range has the same probability of occurring. The distribution is often represented by a rectangular shape, where the height of the rectangle is proportional to the probability density function."
   ]
  },
  {
   "cell_type": "markdown",
   "id": "ae581a7a-ae45-462c-b5df-fcf15a2c5b86",
   "metadata": {},
   "source": [
    "# Q8: What is the z score? State the importance of the z score."
   ]
  },
  {
   "cell_type": "markdown",
   "id": "c4c86c08-6bba-4470-baa6-87a60fc459d5",
   "metadata": {},
   "source": [
    "A z-score, also known as a standard score, is a measure of how many standard deviations a data point is away from the mean of a population or sample.The z-score is calculated by subtracting the mean of the population or sample from the data point, and then dividing the result by the standard deviation."
   ]
  },
  {
   "cell_type": "markdown",
   "id": "6e3a526d-6696-47ff-b6d2-932198d32cea",
   "metadata": {},
   "source": [
    "# Q9: What is Central Limit Theorem? State the significance of the Central Limit Theorem."
   ]
  },
  {
   "cell_type": "markdown",
   "id": "4022aa80-2814-4994-b209-1e47460aead0",
   "metadata": {},
   "source": [
    "The Central Limit Theorem (CLT) is a fundamental concept in statistics that states that the sampling distribution of the mean of any random variable will approach a normal distribution as the sample size increases, regardless of the shape of the underlying population distribution."
   ]
  },
  {
   "cell_type": "markdown",
   "id": "13e40a0e-8764-449e-8da3-f29f3dccd83c",
   "metadata": {},
   "source": [
    "# Q10: State the assumptions of the Central Limit Theorem."
   ]
  },
  {
   "cell_type": "markdown",
   "id": "713ea93f-49a7-4761-b907-530ee03d1162",
   "metadata": {},
   "source": [
    "These assumptions are:\n",
    "\n",
    "The sample is randomly selected from the population.\n",
    "The sample size is sufficiently large, typically n ≥ 30.\n",
    "The sample is independent and identically distributed (iid).\n",
    "The population distribution has a finite mean (μ) and standard deviation (σ)."
   ]
  },
  {
   "cell_type": "code",
   "execution_count": null,
   "id": "20ae1bf1-742f-43c2-93dc-4a548e069397",
   "metadata": {},
   "outputs": [],
   "source": []
  },
  {
   "cell_type": "code",
   "execution_count": null,
   "id": "9ef0a619-c18e-403b-b416-7198f3d3c76b",
   "metadata": {},
   "outputs": [],
   "source": []
  }
 ],
 "metadata": {
  "kernelspec": {
   "display_name": "Python 3 (ipykernel)",
   "language": "python",
   "name": "python3"
  },
  "language_info": {
   "codemirror_mode": {
    "name": "ipython",
    "version": 3
   },
   "file_extension": ".py",
   "mimetype": "text/x-python",
   "name": "python",
   "nbconvert_exporter": "python",
   "pygments_lexer": "ipython3",
   "version": "3.10.8"
  }
 },
 "nbformat": 4,
 "nbformat_minor": 5
}
